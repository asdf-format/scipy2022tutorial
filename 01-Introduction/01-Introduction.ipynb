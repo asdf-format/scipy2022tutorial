{
 "cells": [
  {
   "cell_type": "markdown",
   "id": "8c29bcec",
   "metadata": {},
   "source": [
    "Introduction to the Advanced Scientific Data Format (ASDF)\n",
    "==============================================="
   ]
  },
  {
   "cell_type": "markdown",
   "id": "a596c595",
   "metadata": {},
   "source": [
    "Motivation\n",
    "----------"
   ]
  },
  {
   "cell_type": "markdown",
   "id": "60b8c4b2",
   "metadata": {},
   "source": [
    "- Astronomy has long had a standard format called FITS (Flexible Image Transport System) created in 1981.\n",
    "- Metadata based on 80 character cards (remnants of punch cards era)\n",
    "  - Limits size of keyword names to 8 characters; values and comments must fit on the rest of the card.\n",
    "- Structure of file consists of a list of header/binary items\n",
    "  - More complex organization must be by convention or using nonstandard extensions\n",
    "  - Astronomical data sets continue to become more complex\n",
    "- Last straw was dealing with World Coordinate Systems (WCS)\n",
    "  - e.g., mapping array coordinates to physical coordinates such as sky coordinates and wavelengths.\n",
    "  - FITS has WCS standards, but mostly restricted to idealized cases\n",
    "  - Do not handle sufficiently well needs of space telescope raw data\n",
    "    - We require complex distortion models with accuracies better than 0.01 pixels.\n",
    "    - Beyond what FITS WCS is capable of handling.\n",
    "    - We need to carry the WCS with the raw data\n",
    "- Something better was needed."
   ]
  },
  {
   "cell_type": "markdown",
   "id": "7d42e288",
   "metadata": {},
   "source": [
    "Why not one of Other Existing Formats?\n",
    "------------------------------------------------"
   ]
  },
  {
   "cell_type": "markdown",
   "id": "520ea4fb",
   "metadata": {},
   "source": [
    "- We looked at the well known existing ones but none were suitable to our requirements\n",
    "- Our requirements:\n",
    "  - Suitable as an archival format (FITS satisfies that).\n",
    "    - Backwards compatiblity for a long time, presuming no exotic encodings or compressions used.\n",
    "    - Transparent metadata and structure (e.g., to a text editor).\n",
    "    - Intrinsically hierarchical\n",
    "    - Leverage existing formats and tools to the extent possible\n",
    "    - If one had no documentation, it would be possible to figure out the format?\n",
    "    - Easily extensible for:\n",
    "      - The standard itself\n",
    "      - Specific science and and engineering domains\n",
    "      - Local or private usage\n",
    "    - Schemas to support validation\n",
    "    - Clear versioning\n",
    "    - Typing mechanism to support conversion to special objects in libraries\n",
    "      - E.g., This should be treated as an array or table.\n",
    "    - Mechanism to avoid needless duplication of contents\n",
    "    - Language neutral\n",
    "    - Supports binary data\n",
    "    - Also supports pure YAML data arrays and tables\n",
    "    - Generic to general science and engineering uses"
   ]
  },
  {
   "cell_type": "markdown",
   "id": "f5ae0ec3",
   "metadata": {},
   "source": [
    "Outline of ASDF Format\n",
    "--------------------------------------"
   ]
  },
  {
   "cell_type": "markdown",
   "id": "14291c6a",
   "metadata": {},
   "source": [
    "- Header containing metadata and structure information uses YAML\n",
    "- Header followed by optionally 1 or more binary blocks\n",
    "- Uses YAML Tags for type information\n",
    "- Uses YAML anchors and aliases to share common elements.\n",
    "- JSON Schema used for validation\n"
   ]
  },
  {
   "cell_type": "markdown",
   "id": "824e263a",
   "metadata": {},
   "source": [
    "Uses by Astronomy Institutions\n",
    "---------------------------------------------------"
   ]
  },
  {
   "cell_type": "markdown",
   "id": "e97e0f16",
   "metadata": {},
   "source": [
    "- James Webb Space Telescope (Launched last Christmas, first public images due tomorrow)\n",
    "- Nancy Grace Roman Space Telescope (Wide Field Infra-Red survey telescope to be launched about 2026 or later)\n",
    "- Daniel K. Inouye Solar Telescope\n",
    "- Vera Rubin Telescope for WCS interchange."
   ]
  },
  {
   "cell_type": "markdown",
   "id": "3bf75c55",
   "metadata": {},
   "source": [
    "Example of Special Capability: Serialization of Analytical Models\n",
    "-----------------------------------------------------------------------------------------"
   ]
  },
  {
   "cell_type": "markdown",
   "id": "0058b2cc",
   "metadata": {},
   "source": [
    "- Able to serialize Astropy models without using pickle\n",
    "- Individual models\n",
    "- Expressions of models\n",
    "  - as expression trees\n",
    "- Supports multidimensional models, along with \"plumbing\" tools to route\n",
    "  outputs of one model into different dimensions of other models\n",
    "- Basis of WCS support for James Webb and Nancy Grace Roman Space Telescopes"
   ]
  },
  {
   "cell_type": "markdown",
   "id": "75e64963",
   "metadata": {},
   "source": [
    "Sources of Information\n",
    "-------------------------------------"
   ]
  },
  {
   "cell_type": "markdown",
   "id": "f4c0d1ef",
   "metadata": {},
   "source": [
    "- **Original ASDF Paper:** https://www.sciencedirect.com/science/article/pii/S2213133715000645\n",
    "- **Standard Documentation:** https://asdf-standard.readthedocs.io/en/latest/\n",
    "- **Python package documentation:** https://asdf.readthedocs.io/en/stable/\n",
    "- **Tutorial github respository:** https://github.com/spacetelescope/scipy2022tutorial"
   ]
  },
  {
   "cell_type": "code",
   "execution_count": null,
   "id": "28200e30",
   "metadata": {},
   "outputs": [],
   "source": []
  }
 ],
 "metadata": {
  "kernelspec": {
   "display_name": "Python 3",
   "language": "python",
   "name": "python3"
  },
  "language_info": {
   "codemirror_mode": {
    "name": "ipython",
    "version": 3
   },
   "file_extension": ".py",
   "mimetype": "text/x-python",
   "name": "python",
   "nbconvert_exporter": "python",
   "pygments_lexer": "ipython3",
   "version": "3.8.5"
  }
 },
 "nbformat": 4,
 "nbformat_minor": 5
}
