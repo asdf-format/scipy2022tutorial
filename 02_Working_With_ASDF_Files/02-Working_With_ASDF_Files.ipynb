{
 "cells": [
  {
   "cell_type": "markdown",
   "id": "d9ddaad6",
   "metadata": {},
   "source": [
    "### Working With ASDF Files"
   ]
  },
  {
   "cell_type": "markdown",
   "id": "94181a7a",
   "metadata": {},
   "source": [
    "#### Outline\n",
    "\n",
    "- Read a file\n",
    "- Show the contents of an ASDF file\n",
    "- Search for an attribute in an ASDF file\n",
    "- Accessing metadata and data\n",
    "- Modifying and saving files\n",
    "- Exercise\n",
    "- Adding History items\n",
    "- Command line utilities"
   ]
  },
  {
   "cell_type": "markdown",
   "id": "6e3caa4b",
   "metadata": {},
   "source": [
    "#### Reading an ASDF file\n",
    "\n",
    "The Python ASDF library is a standalone package distributed through PyPi and conda-forge."
   ]
  },
  {
   "cell_type": "code",
   "execution_count": null,
   "id": "31268892",
   "metadata": {},
   "outputs": [],
   "source": [
    "import asdf"
   ]
  },
  {
   "cell_type": "markdown",
   "id": "b75c9ba1",
   "metadata": {},
   "source": [
    "To open a file use the `open` function. It is useful to look up the keyword arguments it accepts, there are options specifying in what mode a file should be opened or whether it should be validated during opening. For this example we will use the default behavior and look at the object."
   ]
  },
  {
   "cell_type": "code",
   "execution_count": null,
   "id": "af8e40a7",
   "metadata": {},
   "outputs": [],
   "source": [
    "af = asdf.open('pluto.asdf')\n",
    "af"
   ]
  },
  {
   "cell_type": "markdown",
   "id": "d37ecdc4",
   "metadata": {},
   "source": [
    "#### Getting information about a file\n",
    "\n",
    "There are two functions that allow introspecting a file, `info` and `search`. They are available as methods on the `AsdfFile` object or and the command line interface. Both are configurable through multiple parameters."
   ]
  },
  {
   "cell_type": "code",
   "execution_count": null,
   "id": "9c925129",
   "metadata": {},
   "outputs": [],
   "source": [
    "af.info()"
   ]
  },
  {
   "cell_type": "markdown",
   "id": "618c7e13",
   "metadata": {},
   "source": [
    "The asdf library has search capabilities. A file can be searched for an attribute by name, type or value."
   ]
  },
  {
   "cell_type": "code",
   "execution_count": null,
   "id": "94ae8d29",
   "metadata": {},
   "outputs": [],
   "source": [
    "af.search('birthday')"
   ]
  },
  {
   "cell_type": "code",
   "execution_count": null,
   "id": "85ff4367",
   "metadata": {},
   "outputs": [],
   "source": [
    "af.search(value='Pluto')"
   ]
  },
  {
   "cell_type": "code",
   "execution_count": null,
   "id": "c6b5dd23",
   "metadata": {},
   "outputs": [],
   "source": [
    "from astropy import units as u\n",
    "\n",
    "af.search(type=u.Quantity)"
   ]
  },
  {
   "cell_type": "markdown",
   "id": "0ec8fa85",
   "metadata": {},
   "source": [
    "#### Accessing and Modifying a file\n",
    "\n",
    "Attributes are accessed using a dict-like interface. Note that what we get below is a `Quantity` object."
   ]
  },
  {
   "cell_type": "code",
   "execution_count": null,
   "id": "e6dfa6be",
   "metadata": {},
   "outputs": [],
   "source": [
    "weight = af['mass']\n",
    "print(weight)"
   ]
  },
  {
   "cell_type": "markdown",
   "id": "cb5889e1",
   "metadata": {},
   "source": [
    "**Exercise 1:**\n",
    "\n",
    "- Open the file in the data directory,  `../data/jwst.asdf`. Look at the `info` method's help and   display the file using some of the arguments to show more contents.\n",
    "- Search for a few attributes - `wcs`, `data`\n",
    "- Retrieve the `wcs` object following the path showed by the `search` method\n",
    "- Look at the `wcs` object and print `wcs.forward_transform`\n",
    "- Use atplotlib to display the data array\n",
    "- Look at the `data` array and modify the value of `data[0, 0]`  to 999."
   ]
  },
  {
   "cell_type": "markdown",
   "id": "d947c876",
   "metadata": {},
   "source": [
    "#### Using a schema to validate a file"
   ]
  },
  {
   "cell_type": "markdown",
   "id": "956a835d",
   "metadata": {},
   "source": [
    "ASDF uses schemas to check that a file conforms to the [ASDF Standard](https://asdf-standard.readthedocs.io/en/latest/) and possibly the requirements of other extensions (see later notebooks). `jsonschema` is used for validation. Schema validation happens on reading (`asdf.open`) and writing (`write_to` and `update`). \n",
    "\n",
    "However, sometimes it is useful for particular applications to impose additional restrictions when deciding whether a given file is valid or not. ASDF allows using \"custom schemas\" in such cases and passing them to the `open` function.\n"
   ]
  },
  {
   "cell_type": "markdown",
   "id": "ea1ec628",
   "metadata": {},
   "source": [
    "Let's see how to write a schema and make sure our file `pluto.asdf` is correct.\n",
    "A schema is just a text file and and any editor can be used to write it.\n",
    "\n",
    "- There's a yaml header at the begining of each schema which states the version of the YAML schema, followed by `---` and the `$schema` declaration stating the draft.\n",
    "- A schema file ends with `...` .\n",
    "- The ASDF schemas use indentation, similar to YAML, and by convention it is 2 spaces.\n",
    "- `title` is not required but by convention it's a one-line description of an attribute, printed as a comment by `info()`.\n",
    "- `description` is an optional, longer, possibly multi-line comment.\n",
    "- `type` is required\n",
    "- If a `required` field is present, all properties listed in it must be present in the file.\n"
   ]
  },
  {
   "cell_type": "code",
   "execution_count": null,
   "id": "c921fdfd",
   "metadata": {},
   "outputs": [],
   "source": [
    "s = \"\"\"\n",
    "%YAML 1.1\n",
    "---\n",
    "$schema: http://stsci.edu/schemas/yaml-schema/draft-01\n",
    "\n",
    "title: Mickey's pet\n",
    "description: |\n",
    "  Basic info and a picture of Mickie's \n",
    "  dog Pluto.\n",
    "\n",
    "type: object\n",
    "properties:\n",
    "  age:\n",
    "    title: The age of Pluto\n",
    "    type: object\n",
    "    properties:\n",
    "      birthday:\n",
    "        title: Pluto's first showing\n",
    "        tag: tag:stsci.edu:asdf/time/time-1.1.0\n",
    "  mass:\n",
    "    title: How much he weighs.\n",
    "    tag: tag:stsci.edu:asdf/unit/quantity-1.1.0\n",
    "  picture:\n",
    "    tag: tag:stsci.edu:asdf/core/ndarray-1.0.0\n",
    "  name:\n",
    "    title: Name\n",
    "    type: string\n",
    "required: [name, picture]\n",
    "...\n",
    "\"\"\""
   ]
  },
  {
   "cell_type": "code",
   "execution_count": null,
   "id": "b3f616a5",
   "metadata": {},
   "outputs": [],
   "source": [
    "f = open('pluto-1.0.0.yaml', mode='w')\n",
    "f.write(s)\n",
    "f.close()"
   ]
  },
  {
   "cell_type": "code",
   "execution_count": null,
   "id": "88e17155",
   "metadata": {},
   "outputs": [],
   "source": [
    "afs = asdf.open('pluto.asdf', custom_schema='./pluto-1.0.0.yaml')"
   ]
  },
  {
   "cell_type": "markdown",
   "id": "d4c49409",
   "metadata": {},
   "source": [
    "**Exercise 2:**\n",
    "\n",
    "- Add `additionalProperties=false` to the schema and attempt to add a new property.\n",
    "- Modify the schema to include a required property, called `friend` of type string. \n",
    "- Open the file to see the error message\n"
   ]
  },
  {
   "cell_type": "markdown",
   "id": "282b7988",
   "metadata": {},
   "source": [
    "#### Adding History items\n",
    "\n",
    "When using `asdf.info` we see one of the properties is called `History`. By default it stores a list of extensions used when processing the file. It is possible to add custom entries to this list."
   ]
  },
  {
   "cell_type": "code",
   "execution_count": null,
   "id": "eeefb4ce",
   "metadata": {},
   "outputs": [],
   "source": [
    "afs.add_history_entry('First appeared in \"The Chain Gang\", 1930' )\n"
   ]
  },
  {
   "cell_type": "code",
   "execution_count": null,
   "id": "656f82f6",
   "metadata": {},
   "outputs": [],
   "source": [
    "afs.info(max_rows=30)"
   ]
  },
  {
   "cell_type": "code",
   "execution_count": null,
   "id": "0b831614",
   "metadata": {},
   "outputs": [],
   "source": [
    "afs.get_history_entries()"
   ]
  },
  {
   "cell_type": "markdown",
   "id": "48ee1e88",
   "metadata": {},
   "source": [
    "#### Command line utilities"
   ]
  },
  {
   "cell_type": "markdown",
   "id": "2b7a17c5",
   "metadata": {},
   "source": [
    "**Command Line Interface**\n",
    "\n",
    "The library, asdf, includes a command-line tool, asdftool that performs a number of useful operations:\n",
    "\n",
    "**explode:** Convert a self-contained ASDF file into exploded form (see Saving external arrays).\n",
    "\n",
    "**implode:** Convert an ASDF file in exploded form into a self-contained file.\n",
    "\n",
    "**defragment:** Remove unused blocks and extra space.\n",
    "\n",
    "**diff:** Report differences between two ASDF files.\n",
    "\n",
    "**edit:** Edit the YAML portion of an ASDF file.\n",
    "\n",
    "**info:** Print a rendering of an ASDF tree.\n",
    "\n",
    "**extensions:** Show information about installed extensions (see Extensions from other packages).\n",
    "\n",
    "**tags:** List currently available tags.\n",
    "\n",
    "**to_yaml:** Inline all of the data in an ASDF file so that it is pure YAML.\n",
    "\n",
    "Run `asdftool --help` for more information."
   ]
  },
  {
   "cell_type": "markdown",
   "id": "13bc25f2",
   "metadata": {},
   "source": [
    "**Exercise 3:**\n",
    "\n",
    "Use `asdftool` to find the differences in the two files - `pluto.asdf` and `pluto-friend.asdf`\n",
    "Use some of the other options of asdftool"
   ]
  }
 ],
 "metadata": {
  "kernelspec": {
   "display_name": "Python 3 (ipykernel)",
   "language": "python",
   "name": "python3"
  },
  "language_info": {
   "codemirror_mode": {
    "name": "ipython",
    "version": 3
   },
   "file_extension": ".py",
   "mimetype": "text/x-python",
   "name": "python",
   "nbconvert_exporter": "python",
   "pygments_lexer": "ipython3",
   "version": "3.9.12"
  }
 },
 "nbformat": 4,
 "nbformat_minor": 5
}
