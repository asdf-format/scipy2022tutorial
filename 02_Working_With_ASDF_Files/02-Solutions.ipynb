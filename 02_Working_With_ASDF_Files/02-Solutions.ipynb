{
 "cells": [
  {
   "cell_type": "markdown",
   "id": "14199d87",
   "metadata": {},
   "source": [
    "### Solutions for 02-Working_with_ASDF_Files"
   ]
  },
  {
   "cell_type": "markdown",
   "id": "b6eb18c8",
   "metadata": {},
   "source": [
    "**Exercise 1:**\n",
    "\n",
    "- Open the file `jwst.asdf` in the `02_Working_With_ASDF_Files` directory. Look at the `info` method's help and   display the file using some of the arguments to show more contents.\n",
    "- Search for a few attributes - `wcs`, `data`, (WCS stands for World Coordinate System. In astronomy it represents the transform from pixel coordinates to sky coordinates or some physical system.)\n",
    "- Retrieve the `wcs` object following the path showed by the `search` method\n",
    "- Look at the `wcs` object and print `wcs.forward_transform`\n",
    "- Use matplotlib to display the data array\n",
    "- Look at the `data` array and modify the value of `data[0, 0]`  to 999."
   ]
  },
  {
   "cell_type": "code",
   "execution_count": null,
   "id": "451830c9",
   "metadata": {},
   "outputs": [],
   "source": [
    "import asdf"
   ]
  },
  {
   "cell_type": "markdown",
   "id": "d78dde36",
   "metadata": {},
   "source": [
    "**Read the file and use the `info` method to look at the contents**.\n",
    "\n",
    "`info` has arguments which control the behavior. Use the defaults to look at the contents of the file."
   ]
  },
  {
   "cell_type": "code",
   "execution_count": null,
   "id": "6b67338a",
   "metadata": {},
   "outputs": [],
   "source": [
    "af = asdf.open(\"jwst.asdf\")"
   ]
  },
  {
   "cell_type": "code",
   "execution_count": null,
   "id": "8819736d",
   "metadata": {},
   "outputs": [],
   "source": [
    "af.info(max_rows=200)"
   ]
  },
  {
   "cell_type": "code",
   "execution_count": null,
   "id": "f6bda85c",
   "metadata": {},
   "outputs": [],
   "source": [
    "af.search(\"wcs\")"
   ]
  },
  {
   "cell_type": "code",
   "execution_count": null,
   "id": "c2806106",
   "metadata": {},
   "outputs": [],
   "source": [
    "wcs = af[\"meta\"][\"wcs\"]"
   ]
  },
  {
   "cell_type": "code",
   "execution_count": null,
   "id": "2aed77ab",
   "metadata": {},
   "outputs": [],
   "source": [
    "# wcs\n",
    "# It is an object\n",
    "# type(wcs)\n",
    "\n",
    "# The GWCS object transforms pixels into world coordinates\n",
    "# wcs(20, 12.3)\n",
    "\n",
    "# It contains a chain of transforms and references cooridnate systems\n",
    "# wcs.forward_transform[0]\n",
    "\n",
    "# wcs.forward_transform[0].offset"
   ]
  },
  {
   "cell_type": "code",
   "execution_count": null,
   "id": "38617281",
   "metadata": {},
   "outputs": [],
   "source": [
    "af.search(\"data\")"
   ]
  },
  {
   "cell_type": "code",
   "execution_count": null,
   "id": "e3075457",
   "metadata": {},
   "outputs": [],
   "source": [
    "data = af[\"data\"]"
   ]
  },
  {
   "cell_type": "code",
   "execution_count": null,
   "id": "c772603e",
   "metadata": {},
   "outputs": [],
   "source": [
    "from matplotlib import pyplot as plt\n",
    "\n",
    "%matplotlib notebook\n",
    "\n",
    "plt.imshow(data)"
   ]
  },
  {
   "cell_type": "code",
   "execution_count": null,
   "id": "4ed7ccc8",
   "metadata": {
    "tags": [
     "raises-exception"
    ]
   },
   "outputs": [],
   "source": [
    "af[\"data\"][0, 0] = 999"
   ]
  },
  {
   "cell_type": "markdown",
   "id": "db4f1963",
   "metadata": {},
   "source": [
    "Files are opened in `readonly` mode by default. Pass `mode=rw` to the `open` function to be able to modify them."
   ]
  },
  {
   "cell_type": "markdown",
   "id": "9a281209",
   "metadata": {},
   "source": [
    "**Exercise 2:**\n",
    "\n",
    "Add `additionalProperties=false` to the schema and open the file"
   ]
  },
  {
   "cell_type": "code",
   "execution_count": null,
   "id": "7283577e",
   "metadata": {},
   "outputs": [],
   "source": [
    "s = \"\"\"\n",
    "%YAML 1.1\n",
    "---\n",
    "$schema: http://stsci.edu/schemas/yaml-schema/draft-01\n",
    "\n",
    "title: Mickey's pet\n",
    "description: |\n",
    "  Basic info and a picture of Mickie's \n",
    "  dog Pluto.\n",
    "\n",
    "type: object\n",
    "properties:\n",
    "  age:\n",
    "    title: The age of Pluto\n",
    "    type: object\n",
    "    properties:\n",
    "      birthday:\n",
    "        title: Pluto's first showing\n",
    "        tag: tag:stsci.edu:asdf/time/time-1.1.0\n",
    "  mass:\n",
    "    title: How much he weighs.\n",
    "    tag: tag:stsci.edu:asdf/unit/quantity-1.1.0\n",
    "  picture:\n",
    "    tag: tag:stsci.edu:asdf/core/ndarray-1.0.0\n",
    "  name:\n",
    "    title: Name\n",
    "    type: string\n",
    "required: [name, picture]\n",
    "additionalProperties: false\n",
    "...\n",
    "\"\"\""
   ]
  },
  {
   "cell_type": "code",
   "execution_count": null,
   "id": "49cc45f0",
   "metadata": {},
   "outputs": [],
   "source": [
    "f = open(\"add-prop-1.0.0.yaml\", mode=\"w\")\n",
    "f.write(s)\n",
    "f.close()"
   ]
  },
  {
   "cell_type": "code",
   "execution_count": null,
   "id": "075f4ff7",
   "metadata": {
    "tags": [
     "raises-exception"
    ]
   },
   "outputs": [],
   "source": [
    "afs = asdf.open(\"pluto.asdf\", custom_schema=\"./add-prop-1.0.0.yaml\")"
   ]
  },
  {
   "cell_type": "markdown",
   "id": "0525f622",
   "metadata": {},
   "source": [
    "Take the original schema and add a new required property, called `friend`."
   ]
  },
  {
   "cell_type": "code",
   "execution_count": null,
   "id": "9c394371",
   "metadata": {},
   "outputs": [],
   "source": [
    "s = \"\"\"\n",
    "%YAML 1.1\n",
    "---\n",
    "$schema: http://stsci.edu/schemas/yaml-schema/draft-01\n",
    "\n",
    "title: Mickey's pet\n",
    "description: |\n",
    "  Basic info and a picture of Mickie's \n",
    "  dog Pluto.\n",
    "\n",
    "type: object\n",
    "properties:\n",
    "  age:\n",
    "    title: The age of Pluto\n",
    "    type: object\n",
    "    properties:\n",
    "      birthday:\n",
    "        title: Pluto's first showing\n",
    "        tag: tag:stsci.edu:asdf/time/time-1.1.0\n",
    "  mass:\n",
    "    title: How much he weighs.\n",
    "    tag: tag:stsci.edu:asdf/unit/quantity-1.1.0\n",
    "  picture:\n",
    "    tag: tag:stsci.edu:asdf/core/ndarray-1.0.0\n",
    "  name:\n",
    "    title: Name\n",
    "    type: string\n",
    "  friend:\n",
    "    type: string\n",
    "    title: \"Who is Pluto's friend?\"\n",
    "required: [name, picture, friend]\n",
    "...\n",
    "\"\"\""
   ]
  },
  {
   "cell_type": "code",
   "execution_count": null,
   "id": "27809f12",
   "metadata": {},
   "outputs": [],
   "source": [
    "f = open(\"pluto-friend-1.0.0.yaml\", mode=\"w\")\n",
    "f.write(s)\n",
    "f.close()"
   ]
  },
  {
   "cell_type": "code",
   "execution_count": null,
   "id": "49afe391",
   "metadata": {
    "tags": [
     "raises-exception"
    ]
   },
   "outputs": [],
   "source": [
    "afs = asdf.open(\"pluto.asdf\", custom_schema=\"./pluto-friend-1.0.0.yaml\")"
   ]
  },
  {
   "cell_type": "code",
   "execution_count": null,
   "id": "480ae632",
   "metadata": {},
   "outputs": [],
   "source": [
    "asf = asdf.open(\"pluto.asdf\", mode=\"rw\")\n",
    "asf[\"friend\"] = \"Mickey\"\n",
    "# asf.update()\n",
    "asf.write_to(\"pluto-friend.asdf\")"
   ]
  },
  {
   "cell_type": "code",
   "execution_count": null,
   "id": "d4ee3d87",
   "metadata": {},
   "outputs": [],
   "source": [
    "asf = asdf.open(\"pluto-friend.asdf\", custom_schema=\"./pluto-friend-1.0.0.yaml\")"
   ]
  },
  {
   "cell_type": "markdown",
   "id": "3e3d4578",
   "metadata": {},
   "source": [
    "**Exercise 3:**\n",
    "\n",
    "Use `asdftool` to find the differences in the two files - `pluto.asdf` and `pluto-friend.asdf`\n",
    "Use some of the other options of asdftool"
   ]
  },
  {
   "cell_type": "markdown",
   "id": "65232389",
   "metadata": {},
   "source": [
    "```\n",
    "% asdftool diff pluto-friend.asdf pluto.asdf\n",
    "\n",
    "tree:\n",
    "  asdf_library:\n",
    "    version:\n",
    ">     2.11.2.dev13+gf9aeb247\n",
    "<     2.12.0\n",
    "  history:\n",
    "    extensions:\n",
    "      -\n",
    "        software:\n",
    "          version:\n",
    ">           2.11.2.dev13+gf9aeb247\n",
    "<           2.12.0\n",
    "> friend:\n",
    ">   Mickey\n",
    "```"
   ]
  },
  {
   "cell_type": "markdown",
   "id": "748958a0",
   "metadata": {},
   "source": []
  },
  {
   "cell_type": "markdown",
   "id": "3cd32656",
   "metadata": {},
   "source": [
    "**We can filter out differences in attributes we are not interested in.\n",
    "\n",
    "\n",
    "```\n",
    "% asdftool diff pluto-friend.asdf pluto.asdf -i '[asdf_library,history]'\n",
    "\n",
    "> tree:\n",
    "> friend:\n",
    ">   Mickey\n",
    "```"
   ]
  }
 ],
 "metadata": {
  "celltoolbar": "Tags",
  "kernelspec": {
   "display_name": "Python 3 (ipykernel)",
   "language": "python",
   "name": "python3"
  },
  "language_info": {
   "codemirror_mode": {
    "name": "ipython",
    "version": 3
   },
   "file_extension": ".py",
   "mimetype": "text/x-python",
   "name": "python",
   "nbconvert_exporter": "python",
   "pygments_lexer": "ipython3",
   "version": "3.9.12"
  }
 },
 "nbformat": 4,
 "nbformat_minor": 5
}
