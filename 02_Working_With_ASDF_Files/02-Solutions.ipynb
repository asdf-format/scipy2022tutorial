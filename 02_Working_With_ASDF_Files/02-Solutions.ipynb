{
 "cells": [
  {
   "cell_type": "markdown",
   "id": "ad2d25b9",
   "metadata": {},
   "source": [
    "### Solutions \n",
    "\n",
    "**Exercise 1:**\n"
   ]
  },
  {
   "cell_type": "code",
   "execution_count": null,
   "id": "c6e44a36",
   "metadata": {},
   "outputs": [],
   "source": [
    "import asdf"
   ]
  },
  {
   "cell_type": "code",
   "execution_count": null,
   "id": "07fe4a55",
   "metadata": {},
   "outputs": [],
   "source": [
    "from matplotlib import pyplot as plt\n",
    "#inline matplotlib"
   ]
  },
  {
   "cell_type": "markdown",
   "id": "1d439e01",
   "metadata": {},
   "source": [
    "**Read the file and use the *info* method to look at the contents**.\n",
    "\n",
    "*info* has arguments which control the behavior. Use the defaults to look at the contents of the file."
   ]
  },
  {
   "cell_type": "code",
   "execution_count": null,
   "id": "ed29694a",
   "metadata": {},
   "outputs": [],
   "source": [
    "af = asdf.open('pluto.asdf')\n",
    "af.info()"
   ]
  },
  {
   "cell_type": "markdown",
   "id": "f6909c1c",
   "metadata": {},
   "source": [
    "**Use the *search* method to find the attribute *birthday***."
   ]
  },
  {
   "cell_type": "code",
   "execution_count": null,
   "id": "4357d4ce",
   "metadata": {},
   "outputs": [],
   "source": [
    "af.search('birthday')"
   ]
  },
  {
   "cell_type": "code",
   "execution_count": null,
   "id": "c6126604",
   "metadata": {},
   "outputs": [],
   "source": [
    "af['birthday']"
   ]
  },
  {
   "cell_type": "code",
   "execution_count": null,
   "id": "b5251ab0",
   "metadata": {},
   "outputs": [],
   "source": [
    "plt.imshow(af['picture'])"
   ]
  },
  {
   "cell_type": "markdown",
   "id": "f5d3912c",
   "metadata": {},
   "source": [
    "**Exercise 2:**\n",
    "\n",
    "Add `additionalProperties=false` to the schema and open the file"
   ]
  },
  {
   "cell_type": "code",
   "execution_count": null,
   "id": "69b5c81f",
   "metadata": {},
   "outputs": [],
   "source": [
    "s = \"\"\"\n",
    "%YAML 1.1\n",
    "---\n",
    "$schema: http://stsci.edu/schemas/yaml-schema/draft-01\n",
    "\n",
    "title: Mickey's pet\n",
    "description: |\n",
    "  Basic info and a picture of Mickie's \n",
    "  dog Pluto.\n",
    "\n",
    "type: object\n",
    "properties:\n",
    "  age:\n",
    "    title: The age of Pluto\n",
    "    type: object\n",
    "    properties:\n",
    "      birthday:\n",
    "        title: Pluto's first showing\n",
    "        tag: tag:stsci.edu:asdf/time/time-1.1.0\n",
    "  mass:\n",
    "    title: How much he weighs.\n",
    "    tag: tag:stsci.edu:asdf/unit/quantity-1.1.0\n",
    "  picture:\n",
    "    tag: tag:stsci.edu:asdf/core/ndarray-1.0.0\n",
    "  name:\n",
    "    title: Name\n",
    "    type: string\n",
    "required: [name, picture]\n",
    "additionalProperties: false\n",
    "...\n",
    "\"\"\""
   ]
  },
  {
   "cell_type": "code",
   "execution_count": null,
   "id": "a87438c0",
   "metadata": {},
   "outputs": [],
   "source": [
    "f = open('add-prop-1.0.0.yaml', mode='w')\n",
    "f.write(s)\n",
    "f.close()"
   ]
  },
  {
   "cell_type": "code",
   "execution_count": null,
   "id": "665d2444",
   "metadata": {},
   "outputs": [],
   "source": [
    "afs = asdf.open('pluto.asdf', custom_schema='./add-prop-1.0.0.yaml')"
   ]
  },
  {
   "cell_type": "markdown",
   "id": "934c90c9",
   "metadata": {},
   "source": [
    "Take the original schema and add a new required property, called `friend`."
   ]
  },
  {
   "cell_type": "code",
   "execution_count": null,
   "id": "a8a2bcc3",
   "metadata": {},
   "outputs": [],
   "source": [
    "s = \"\"\"\n",
    "%YAML 1.1\n",
    "---\n",
    "$schema: http://stsci.edu/schemas/yaml-schema/draft-01\n",
    "\n",
    "title: Mickey's pet\n",
    "description: |\n",
    "  Basic info and a picture of Mickie's \n",
    "  dog Pluto.\n",
    "\n",
    "type: object\n",
    "properties:\n",
    "  age:\n",
    "    title: The age of Pluto\n",
    "    type: object\n",
    "    properties:\n",
    "      birthday:\n",
    "        title: Pluto's first showing\n",
    "        tag: tag:stsci.edu:asdf/time/time-1.1.0\n",
    "  mass:\n",
    "    title: How much he weighs.\n",
    "    tag: tag:stsci.edu:asdf/unit/quantity-1.1.0\n",
    "  picture:\n",
    "    tag: tag:stsci.edu:asdf/core/ndarray-1.0.0\n",
    "  name:\n",
    "    title: Name\n",
    "    type: string\n",
    "  friend:\n",
    "    type: string\n",
    "    title: \"Who is Pluto's friend?\"\n",
    "required: [name, picture, friend]\n",
    "...\n",
    "\"\"\""
   ]
  },
  {
   "cell_type": "code",
   "execution_count": null,
   "id": "03fd99b1",
   "metadata": {},
   "outputs": [],
   "source": [
    "f = open('pluto-friend-1.0.0.yaml', mode='w')\n",
    "f.write(s)\n",
    "f.close()"
   ]
  },
  {
   "cell_type": "code",
   "execution_count": null,
   "id": "d94e2522",
   "metadata": {},
   "outputs": [],
   "source": [
    "afs = asdf.open('pluto.asdf', custom_schema='./pluto-friend-1.0.0.yaml')"
   ]
  },
  {
   "cell_type": "code",
   "execution_count": null,
   "id": "1aa2d77b",
   "metadata": {},
   "outputs": [],
   "source": [
    "asf = asdf.open('pluto.asdf', mode='rw')\n",
    "asf['friend'] = 'Mickey'\n",
    "#asf.update()\n",
    "asf.write_to('pluto-friend.asdf')"
   ]
  },
  {
   "cell_type": "code",
   "execution_count": null,
   "id": "a0d80ce8",
   "metadata": {},
   "outputs": [],
   "source": [
    "asf = asdf.open('pluto-friend.asdf', custom_schema='./pluto-friend-1.0.0.yaml')"
   ]
  },
  {
   "cell_type": "markdown",
   "id": "0d8a48cb",
   "metadata": {},
   "source": [
    "**Exercise 3:**\n",
    "\n",
    "```\n",
    "% asdftool diff pluto-friend.asdf pluto.asdf\n",
    "\n",
    "tree:\n",
    "  asdf_library:\n",
    "    version:\n",
    ">     2.11.2.dev13+gf9aeb247\n",
    "<     2.12.0\n",
    "  history:\n",
    "    extensions:\n",
    "      -\n",
    "        software:\n",
    "          version:\n",
    ">           2.11.2.dev13+gf9aeb247\n",
    "<           2.12.0\n",
    "> friend:\n",
    ">   Mickey\n",
    "```\n"
   ]
  },
  {
   "cell_type": "markdown",
   "id": "5fb7262f",
   "metadata": {},
   "source": [
    "We are usually not interested in the differences in `asdf_library` and `history` \n",
    "and can filter them out.\n",
    "\n",
    "\n",
    "\n",
    "```\n",
    "% asdftool diff pluto-friend.asdf pluto.asdf -i '[asdf_library,history]'\n",
    "\n",
    "> tree:\n",
    "> friend:\n",
    ">   Mickey\n",
    "```\n"
   ]
  },
  {
   "cell_type": "code",
   "execution_count": null,
   "id": "94540fc3",
   "metadata": {},
   "outputs": [],
   "source": []
  }
 ],
 "metadata": {
  "kernelspec": {
   "display_name": "Python 3 (ipykernel)",
   "language": "python",
   "name": "python3"
  },
  "language_info": {
   "codemirror_mode": {
    "name": "ipython",
    "version": 3
   },
   "file_extension": ".py",
   "mimetype": "text/x-python",
   "name": "python",
   "nbconvert_exporter": "python",
   "pygments_lexer": "ipython3",
   "version": "3.9.12"
  }
 },
 "nbformat": 4,
 "nbformat_minor": 5
}
