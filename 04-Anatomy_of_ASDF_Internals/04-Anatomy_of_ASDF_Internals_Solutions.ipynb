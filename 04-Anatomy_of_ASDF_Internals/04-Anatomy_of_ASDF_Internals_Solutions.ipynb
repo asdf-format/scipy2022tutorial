{
 "cells": [
  {
   "cell_type": "markdown",
   "id": "aa469f14",
   "metadata": {},
   "source": [
    "Exercise Solutions\n",
    "=========================\n",
    "\n",
    "1. To illustrate that ASDF files without binary data can be edited by hand, modify a copy of the tagdemo.asdf file with a text editor to double the size of the speed array, and and add another scalar quantity (your choice of attribute name and units; for documentation on astropy units available see: https://docs.astropy.org/en/stable/units/index.html#module-astropy.units.si ). Note that you will need to include the appropriate tags for the new quantity using the other instances as a template.\n",
    "\n",
    "\n",
    "After hand editing, load the result"
   ]
  },
  {
   "cell_type": "code",
   "execution_count": null,
   "id": "e8dd9bc9",
   "metadata": {},
   "outputs": [],
   "source": [
    "# First display contents outside of asdf\n",
    "print(open(\"tagdemo_modified.asdf\").read())\n",
    "import asdf\n",
    "\n",
    "af = asdf.open(\"tagdemo_modified.asdf\")\n",
    "af.info(max_rows=100)"
   ]
  },
  {
   "cell_type": "markdown",
   "id": "6dd319fd",
   "metadata": {},
   "source": [
    "2. Open with asdf the file `exercise2.asdf` and use `info()` to find shared items, and all special objects in the file (e.g., anything that is not a dict, list, or primitive value). List these along with their types. (Hint: shared items in the `info()` output show up as \"recursive reference\"."
   ]
  },
  {
   "cell_type": "code",
   "execution_count": null,
   "id": "ae9aa653",
   "metadata": {},
   "outputs": [],
   "source": [
    "af = asdf.open(\"exercise2.asdf\")\n",
    "af.info(max_rows=100)"
   ]
  },
  {
   "cell_type": "code",
   "execution_count": null,
   "id": "2461db13",
   "metadata": {},
   "outputs": [],
   "source": [
    "# launch_control.launch_time is a special object, type Time\n",
    "launch_time = af.tree[\"launch_control\"][\"launch_time\"]\n",
    "print(type(launch_time))\n",
    "print(launch_time)\n",
    "choices = af.tree[\"launch_control\"][\"choices\"]\n",
    "wp1 = choices[0][\"widget_properties1\"]\n",
    "wp2 = choices[1][\"widget_properties1\"]\n",
    "print(wp1 is wp2)"
   ]
  },
  {
   "cell_type": "markdown",
   "id": "0ebe712a",
   "metadata": {},
   "source": [
    "3. Define a common multi-line description for all the dicts that have \"widget\" in their attribute name as a list of strings (reason given in solution) and add it as the \"description\" attribute for that dict. Save the file and confirm by editor, less, or any other tool to view the contents that this description only appears once in the YAML, and is referred to in all other references to it."
   ]
  },
  {
   "cell_type": "code",
   "execution_count": null,
   "id": "9cf4ecc7",
   "metadata": {},
   "outputs": [],
   "source": [
    "description = [\n",
    "    \"Button widget properties including the button size\",\n",
    "    \"and the color of the button\",\n",
    "]\n",
    "wp1[\"description\"] = description\n",
    "choices[2][\"widget_properties2\"][\"description\"] = description\n",
    "af.write_to(\"exercise2_modified.asdf\")\n",
    "text = open(\"exercise2_modified.asdf\").read()\n",
    "print(text)"
   ]
  },
  {
   "cell_type": "markdown",
   "id": "52dcb76b",
   "metadata": {},
   "source": [
    "Currently shared strings (and other immutable items) are not automatically identified as shared in asdf, hence stored as a list of strings"
   ]
  },
  {
   "cell_type": "code",
   "execution_count": null,
   "id": "8a29361a",
   "metadata": {},
   "outputs": [],
   "source": []
  }
 ],
 "metadata": {
  "kernelspec": {
   "display_name": "Python 3",
   "language": "python",
   "name": "python3"
  },
  "language_info": {
   "codemirror_mode": {
    "name": "ipython",
    "version": 3
   },
   "file_extension": ".py",
   "mimetype": "text/x-python",
   "name": "python",
   "nbconvert_exporter": "python",
   "pygments_lexer": "ipython3",
   "version": "3.8.5"
  }
 },
 "nbformat": 4,
 "nbformat_minor": 5
}
