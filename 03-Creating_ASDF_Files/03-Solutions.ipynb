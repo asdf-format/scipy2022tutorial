{
 "cells": [
  {
   "cell_type": "code",
   "execution_count": 1,
   "metadata": {},
   "outputs": [],
   "source": [
    "import asdf\n",
    "import numpy as np"
   ]
  },
  {
   "cell_type": "markdown",
   "metadata": {},
   "source": [
    "# Exercise 1"
   ]
  },
  {
   "cell_type": "code",
   "execution_count": 2,
   "metadata": {},
   "outputs": [],
   "source": [
    "tree = {\n",
    "    \"hello\": \"world\",\n",
    "    \"foo\": 42,\n",
    "    \"bar\": 3.14,\n",
    "    \"true\": False,\n",
    "    \"imaginary\": complex(2, 3),\n",
    "    \"animals\": [\"cat\", \"dog\", \"bird\"],\n",
    "    \"data\": {\"mean\": 3.14, \"std\": 2.71},\n",
    "}\n",
    "af = asdf.AsdfFile(tree)\n",
    "af.write_to(\"exercise_1.asdf\")"
   ]
  },
  {
   "cell_type": "code",
   "execution_count": 3,
   "metadata": {},
   "outputs": [
    {
     "name": "stdout",
     "output_type": "stream",
     "text": [
      "#ASDF 1.0.0\n",
      "#ASDF_STANDARD 1.5.0\n",
      "%YAML 1.1\n",
      "%TAG ! tag:stsci.edu:asdf/\n",
      "--- !core/asdf-1.1.0\n",
      "asdf_library: !core/software-1.0.0 {author: The ASDF Developers, homepage: 'http://github.com/asdf-format/asdf',\n",
      "  name: asdf, version: 2.12.0}\n",
      "history:\n",
      "  extensions:\n",
      "  - !core/extension_metadata-1.0.0\n",
      "    extension_class: asdf.extension.BuiltinExtension\n",
      "    software: !core/software-1.0.0 {name: asdf, version: 2.12.0}\n",
      "animals: [cat, dog, bird]\n",
      "bar: 3.14\n",
      "data: {mean: 3.14, std: 2.71}\n",
      "foo: 42\n",
      "hello: world\n",
      "imaginary: !core/complex-1.0.0 (2+3j)\n",
      "'true': false\n",
      "...\n",
      "\n"
     ]
    }
   ],
   "source": [
    "# CHECK\n",
    "\n",
    "with open(\"exercise_1.asdf\") as f:\n",
    "    print(f.read())\n",
    "\n",
    "with asdf.open(\"exercise_1.asdf\") as af:\n",
    "    for key, value in tree.items():\n",
    "        assert af[key] == value"
   ]
  },
  {
   "cell_type": "markdown",
   "metadata": {},
   "source": [
    "Observe that all the data we added to our tree is contained within our asdf file. Notice in\n",
    "particular the `imaginary` data now has a yaml tag denoting that the data is a complex number, this\n",
    "tag will be used by ASDF to correctly deserialize this data as a `complex` type later."
   ]
  },
  {
   "cell_type": "markdown",
   "metadata": {},
   "source": [
    "# Exercise 2"
   ]
  },
  {
   "cell_type": "code",
   "execution_count": 4,
   "metadata": {},
   "outputs": [],
   "source": [
    "array = np.random.rand(8, 8)\n",
    "tree = {\n",
    "    \"array\": array,\n",
    "    \"duplicated_array\": array,\n",
    "    \"view_1\": array[2:4, 3:6],\n",
    "    \"view_2\": array[1:6, 2:4],\n",
    "}\n",
    "af = asdf.AsdfFile(tree)\n",
    "af.write_to(\"exercise_2.asdf\")"
   ]
  },
  {
   "cell_type": "code",
   "execution_count": 5,
   "metadata": {},
   "outputs": [
    {
     "name": "stdout",
     "output_type": "stream",
     "text": [
      "#ASDF 1.0.0\n",
      "#ASDF_STANDARD 1.5.0\n",
      "%YAML 1.1\n",
      "%TAG ! tag:stsci.edu:asdf/\n",
      "--- !core/asdf-1.1.0\n",
      "asdf_library: !core/software-1.0.0 {author: The ASDF Developers, homepage: 'http://github.com/asdf-format/asdf',\n",
      "  name: asdf, version: 2.12.0}\n",
      "history:\n",
      "  extensions:\n",
      "  - !core/extension_metadata-1.0.0\n",
      "    extension_class: asdf.extension.BuiltinExtension\n",
      "    software: !core/software-1.0.0 {name: asdf, version: 2.12.0}\n",
      "array: &id001 !core/ndarray-1.0.0\n",
      "  source: 0\n",
      "  datatype: float64\n",
      "  byteorder: little\n",
      "  shape: [8, 8]\n",
      "duplicated_array: *id001\n",
      "view_1: !core/ndarray-1.0.0\n",
      "  source: 0\n",
      "  datatype: float64\n",
      "  byteorder: little\n",
      "  shape: [2, 3]\n",
      "  offset: 152\n",
      "  strides: [64, 8]\n",
      "view_2: !core/ndarray-1.0.0\n",
      "  source: 0\n",
      "  datatype: float64\n",
      "  byteorder: little\n",
      "  shape: [5, 2]\n",
      "  offset: 80\n",
      "  strides: [64, 8]\n",
      "...\n",
      "ÓBLK\u00000\u0000\u0000\u0000\u0000\u0000\u0000\u0000\u0000\u0000\u0000\u0000\u0000\u0000\u0000\u0002\u0000\u0000\u0000\u0000\u0000\u0000\u0000\u0002\u0000\u0000\u0000\u0000\u0000\u0000\u0000\u0002\u0000\u000e\u0011\u0010ÁS~)Ô*ú'ÕÌÆ°-¥4Ï?;&p¬d&ç?\u0001eÞ¢Fã?Ê\u000fÔ®ùå?h¬´è\u0019Îæ?\fæé¬¯Ú?\u001aä¢ÃrÕ?ÍInÍ\u0015Và?¸.\u000e(È§Å?\u0014æ-¢M¢Ë?Ãf,Þ=ç?ÀÐ9*òbä?¸_&°\u0014Tî?Æz;®ZÙ?`ë\u001cð!çÁ?nIslFî?z&<Î?7z\u0015~ßè?6sU\u0002{Ý?<×½Ü×¸Ái\u0012J\u0019Ü?ß¡MVþPë?°Ýåì®?\u0001Cá\u0016xGâ?`£ý\u0017«?X·¢\u0007öÆ?@Ç\u000b»Ñ?òåñ\u0002ØÙ?Üw÷~À\u000eæ?e\u0000ü×]ì?Ô0=fj+Û?Uêk/ã?~Ûn99Ö?J\u000bO\u001e¶ëÕ?\u0014o¾u4kä?\u0018dYk±?=&¼i¥óä?5ãF\u0017<ï?YòCA¥ï?Uõ=ª=àæ?,\u000baÓ?TçûQ\u0005@Ö?x3¾ïùÙ?\u0013\u0005\u001f\u0017£:å?¿UV\f\u001aë?à\u0018·æ,¿?BjË%©ÀÛ?î\u001e\u0016sÙ? Ç\u001e~®?pÖ<+VEß?Ú¾½¤\u0011mÖ?lî\u0001 ûí?Añ\u001bï?~ÿ´ #ç?ô¬Ü\u0006ZÉ?\u0012\u0001·åXUØ?:zåg¾?ÞØdrZÕ?Ê$\u0012|öXï?\u0000ß¿Ø6Gº?\u0010Á\u0001yå©?zÖVuÁé?Õë\u0017\u0005Ìä?dÈXéª^ç?#ASDF BLOCK INDEX\n",
      "%YAML 1.1\n",
      "---\n",
      "- 799\n",
      "...\n",
      "\n"
     ]
    }
   ],
   "source": [
    "# CHECK\n",
    "\n",
    "with open(\"exercise_2.asdf\", \"r\", encoding=\"unicode_escape\") as f:\n",
    "    print(f.read())\n",
    "\n",
    "with asdf.open(\"exercise_2.asdf\") as af:\n",
    "    for key, value in tree.items():\n",
    "        assert np.all(af[key] == value)\n"
   ]
  },
  {
   "cell_type": "markdown",
   "metadata": {},
   "source": [
    "Observe that `duplicated_array` is written using a `yaml` anchor (`id001`) which references the information\n",
    "stored under `array`. Moreover, both `view_1` and `view_2` both reference the same `source` value: `0`;\n",
    "meaning the binary block has not been duplicated."
   ]
  },
  {
   "cell_type": "markdown",
   "metadata": {},
   "source": [
    "# Exercise 3"
   ]
  },
  {
   "cell_type": "code",
   "execution_count": 6,
   "metadata": {},
   "outputs": [],
   "source": [
    "import astropy \n",
    "\n",
    "quantity = np.random.rand(8, 8) * astropy.units.m\n",
    "model = astropy.modeling.models.Gaussian2D(quantity, 2, 3, 4, 5)\n",
    "time = astropy.time.Time(\"J2000\")\n",
    "coord = astropy.coordinates.ICRS(ra=1 * astropy.units.deg, dec=2 * astropy.units.deg)\n",
    "\n",
    "tree = {\n",
    "    \"quantity\": quantity,\n",
    "    \"model\": model,\n",
    "    \"time\": time,\n",
    "    \"coord\": coord,\n",
    "}\n",
    "\n",
    "af = asdf.AsdfFile(tree)\n",
    "af.write_to(\"exercise_3.asdf\")"
   ]
  },
  {
   "cell_type": "code",
   "execution_count": 7,
   "metadata": {},
   "outputs": [
    {
     "name": "stdout",
     "output_type": "stream",
     "text": [
      "#ASDF 1.0.0\n",
      "#ASDF_STANDARD 1.5.0\n",
      "%YAML 1.1\n",
      "%TAG ! tag:stsci.edu:asdf/\n",
      "--- !core/asdf-1.1.0\n",
      "asdf_library: !core/software-1.0.0 {author: The ASDF Developers, homepage: 'http://github.com/asdf-format/asdf',\n",
      "  name: asdf, version: 2.12.0}\n",
      "history:\n",
      "  extensions:\n",
      "  - !core/extension_metadata-1.0.0\n",
      "    extension_class: asdf.extension.BuiltinExtension\n",
      "    software: !core/software-1.0.0 {name: asdf, version: 2.12.0}\n",
      "  - !core/extension_metadata-1.0.0\n",
      "    extension_class: asdf.extension._manifest.ManifestExtension\n",
      "    extension_uri: asdf://asdf-format.org/transform/extensions/transform-1.5.0\n",
      "    software: !core/software-1.0.0 {name: asdf-astropy, version: 0.2.1}\n",
      "  - !core/extension_metadata-1.0.0\n",
      "    extension_class: asdf.extension._manifest.ManifestExtension\n",
      "    extension_uri: asdf://asdf-format.org/core/extensions/core-1.5.0\n",
      "    software: !core/software-1.0.0 {name: asdf-astropy, version: 0.2.1}\n",
      "  - !core/extension_metadata-1.0.0\n",
      "    extension_class: asdf.extension._manifest.ManifestExtension\n",
      "    extension_uri: asdf://asdf-format.org/astronomy/coordinates/extensions/coordinates-1.0.0\n",
      "    software: !core/software-1.0.0 {name: asdf-astropy, version: 0.2.1}\n",
      "coord: !<tag:astropy.org:astropy/coordinates/frames/icrs-1.1.0>\n",
      "  data: !<tag:astropy.org:astropy/coordinates/representation-1.0.0>\n",
      "    components:\n",
      "      lat: !<tag:astropy.org:astropy/coordinates/latitude-1.0.0> {unit: !unit/unit-1.0.0 deg,\n",
      "        value: 2.0}\n",
      "      lon: !<tag:astropy.org:astropy/coordinates/longitude-1.0.0>\n",
      "        unit: !unit/unit-1.0.0 deg\n",
      "        value: 1.0\n",
      "        wrap_angle: !<tag:astropy.org:astropy/coordinates/angle-1.0.0> {unit: !unit/unit-1.0.0 deg,\n",
      "          value: 360.0}\n",
      "    type: UnitSphericalRepresentation\n",
      "  frame_attributes: {}\n",
      "model: !transform/gaussian2d-1.0.0\n",
      "  amplitude: !unit/quantity-1.1.0\n",
      "    unit: !unit/unit-1.0.0 m\n",
      "    value: !core/ndarray-1.0.0\n",
      "      source: 1\n",
      "      datatype: float64\n",
      "      byteorder: little\n",
      "      shape: [8, 8]\n",
      "  bounding_box:\n",
      "  - [-24.5, 30.5]\n",
      "  - [-20.0, 24.0]\n",
      "  bounds:\n",
      "    x_stddev: [1.1754943508222875e-38, null]\n",
      "    y_stddev: [1.1754943508222875e-38, null]\n",
      "  inputs: [x, y]\n",
      "  outputs: [z]\n",
      "  theta: 0.0\n",
      "  x_mean: 2.0\n",
      "  x_stddev: 4.0\n",
      "  y_mean: 3.0\n",
      "  y_stddev: 5.0\n",
      "quantity: !unit/quantity-1.1.0\n",
      "  unit: !unit/unit-1.0.0 m\n",
      "  value: !core/ndarray-1.0.0\n",
      "    source: 0\n",
      "    datatype: float64\n",
      "    byteorder: little\n",
      "    shape: [8, 8]\n",
      "time: !time/time-1.1.0 {scale: tt, value: J2000.000}\n",
      "...\n",
      "ÓBLK\u00000\u0000\u0000\u0000\u0000\u0000\u0000\u0000\u0000\u0000\u0000\u0000\u0000\u0000\u0000\u0002\u0000\u0000\u0000\u0000\u0000\u0000\u0000\u0002\u0000\u0000\u0000\u0000\u0000\u0000\u0000\u0002\u0000#{Ù±\u001aïÏ\tX½!\u0010\u001d=UÇg^ýí?ä-Wã-è?$Z\n",
      "¬\u000fÕ?L*àPe\u0001Ñ?W¶AÞ~êã?ß\n",
      "\u001d/æ?È'#Ö\u0000æ?òK}¸]-î?)<{¦\u0001ã?È\u0005H»\u0012`´?uýY®aâì?\u001cMÏ\u0013*\u0017í?ô\u0017xÿ(Ì?ë/\u0012\u0015Bë?àF.\\ñÙ?î\u0005Êá?¼p=nXâ?>¾\u0018*\u0005Æì?ÀÆú\"c-º?h87ÜHÂì?öÉ¢°{BÖ?å\u001d¸«Ûê?\u000eO]Ü.Ð?peÿÆ·²?ó.èÞN°ï?ÒÑñ¾ç?@10ùó?ªM\u001fÐóhå?PéwGÇ×?%H,£Äâ?MiþjÎ?R$\n",
      "T6Ð?\u0010ß%;^\u000eÈ?¦\u001d¹Ûd\u0018í?Qq8E¤ê?â¤}\u001eì?ç¨dúÜê?PGÓ4Âà? Â\u0014\u0004?ú¸7­à?Õr¥\u001c>2ï?b$¦Ncé?G`Øvã?d1ù\\Ý?\u001cíR¹iyÁ?\u0010_ëe©¯?Ô\u0002ìöé?Ä¨r\u0001ê?bA¤§7í?çw^ÓnÑâ?\n",
      "/O\u0017ãÛ?GBá5×Åè? ¹ªÿÂÞ¿?B*\u0003ýAæ?¼0é\u0005Ö?\u0004tIþªï?<\u000bM-/Â?³R}`¢è?\u0005kd»Õæ?³T³á?à_§\u0012yÎ?Ð®Êç?ªÈ~¤\u001dÉÑ?c\u001c\u000fZBè?ÓBLK\u00000\u0000\u0000\u0000\u0000\u0000\u0000\u0000\u0000\u0000\u0000\u0000\u0000\u0000\u0000\u0002\u0000\u0000\u0000\u0000\u0000\u0000\u0000\u0002\u0000\u0000\u0000\u0000\u0000\u0000\u0000\u0002\u0000#{Ù±\u001aïÏ\tX½!\u0010\u001d=UÇg^ýí?ä-Wã-è?$Z\n",
      "¬\u000fÕ?L*àPe\u0001Ñ?W¶AÞ~êã?ß\n",
      "\u001d/æ?È'#Ö\u0000æ?òK}¸]-î?)<{¦\u0001ã?È\u0005H»\u0012`´?uýY®aâì?\u001cMÏ\u0013*\u0017í?ô\u0017xÿ(Ì?ë/\u0012\u0015Bë?àF.\\ñÙ?î\u0005Êá?¼p=nXâ?>¾\u0018*\u0005Æì?ÀÆú\"c-º?h87ÜHÂì?öÉ¢°{BÖ?å\u001d¸«Ûê?\u000eO]Ü.Ð?peÿÆ·²?ó.èÞN°ï?ÒÑñ¾ç?@10ùó?ªM\u001fÐóhå?PéwGÇ×?%H,£Äâ?MiþjÎ?R$\n",
      "T6Ð?\u0010ß%;^\u000eÈ?¦\u001d¹Ûd\u0018í?Qq8E¤ê?â¤}\u001eì?ç¨dúÜê?PGÓ4Âà? Â\u0014\u0004?ú¸7­à?Õr¥\u001c>2ï?b$¦Ncé?G`Øvã?d1ù\\Ý?\u001cíR¹iyÁ?\u0010_ëe©¯?Ô\u0002ìöé?Ä¨r\u0001ê?bA¤§7í?çw^ÓnÑâ?\n",
      "/O\u0017ãÛ?GBá5×Åè? ¹ªÿÂÞ¿?B*\u0003ýAæ?¼0é\u0005Ö?\u0004tIþªï?<\u000bM-/Â?³R}`¢è?\u0005kd»Õæ?³T³á?à_§\u0012yÎ?Ð®Êç?ªÈ~¤\u001dÉÑ?c\u001c\u000fZBè?#ASDF BLOCK INDEX\n",
      "%YAML 1.1\n",
      "---\n",
      "- 2422\n",
      "- 2988\n",
      "...\n",
      "\n"
     ]
    }
   ],
   "source": [
    "# CHECK\n",
    "\n",
    "with open(\"exercise_3.asdf\", \"r\", encoding=\"unicode_escape\") as f:\n",
    "    print(f.read())"
   ]
  },
  {
   "cell_type": "code",
   "execution_count": null,
   "metadata": {},
   "outputs": [],
   "source": []
  }
 ],
 "metadata": {
  "kernelspec": {
   "display_name": "Python 3.10.5",
   "language": "python",
   "name": "python3"
  },
  "language_info": {
   "codemirror_mode": {
    "name": "ipython",
    "version": 3
   },
   "file_extension": ".py",
   "mimetype": "text/x-python",
   "name": "python",
   "nbconvert_exporter": "python",
   "pygments_lexer": "ipython3",
   "version": "3.10.5"
  },
  "orig_nbformat": 4,
  "vscode": {
   "interpreter": {
    "hash": "23c0b16ecc4b90d4002cfaf9a9234431b6e4b45c53fb1fb5e06b3d4a2a4d054f"
   }
  }
 },
 "nbformat": 4,
 "nbformat_minor": 2
}
