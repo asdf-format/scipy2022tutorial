{
 "cells": [
  {
   "cell_type": "code",
   "execution_count": null,
   "id": "dc019178-3cfa-4549-b0a8-fa8693016266",
   "metadata": {},
   "outputs": [],
   "source": [
    "import asdf\n",
    "import numpy as np"
   ]
  },
  {
   "cell_type": "markdown",
   "id": "3a9850b0-7e5f-42b6-aa18-e2f03708a14b",
   "metadata": {},
   "source": [
    "# 3 - Creating ASDF Files\n",
    "\n",
    "## Introduction\n",
    "\n",
    "ASDF files store their information using a tree structure. This allows the stored information be be\n",
    "hierarchically organized within the file. Without any extensions, this tree is a nested combination\n",
    "of basic data structures: maps, lists, arrays, strings, Booleans, and numbers. In Python these types\n",
    "correspond to `dict`, `list`, `np.ndarray`, `str`, `bool`, and `int`, `float`, `complex`. Where\n",
    "`np.ndarray` is treated in a special way. These data types can be extended to other types and objects\n",
    "using extensions.\n",
    "\n",
    "In the ASDF python library, this tree can be created using a Python dictionary using key/value pairs.\n",
    "Indeed, one can interact with any `AsdfFile` tree as if it were a dictionary. Note that due to limits\n",
    "imposed by Python, keys must be `bool`, `int`, or `str` types only, while data information can be any\n",
    "of the above data types.\n",
    "\n",
    "## Creating ASDF files using basic python types\n",
    "\n",
    "Lets first create an ASDF file with the key/value pair `\"hello\": \"world\"`:"
   ]
  },
  {
   "cell_type": "code",
   "execution_count": null,
   "id": "e0cbe5a2-ff64-43ac-9c41-ad354d45977f",
   "metadata": {},
   "outputs": [],
   "source": [
    "tree = {\"hello\": \"world\"}\n",
    "af = asdf.AsdfFile(tree)\n",
    "af.write_to(\"hello.asdf\")\n",
    "af[\"hello\"]"
   ]
  },
  {
   "cell_type": "markdown",
   "id": "63ca8aed-aa2c-4e5f-be4c-7dfd0b0cfd67",
   "metadata": {},
   "source": [
    "Open the `hello.asdf` file in your favorite text editor. You should see a something that looks like:"
   ]
  },
  {
   "cell_type": "code",
   "execution_count": null,
   "id": "7954d9bc",
   "metadata": {},
   "outputs": [],
   "source": [
    "with open(\"hello.asdf\") as f:\n",
    "    print(f.read())"
   ]
  },
  {
   "cell_type": "markdown",
   "id": "e20e2abe",
   "metadata": {},
   "source": [
    "Notice that the file contains more information than just the `\"hello\": \"world\"` key value that we\n",
    "entered. It contains information on the library used to create the file under `asdf_library`, and\n",
    "information on what the ASDF library needs (schemas, extensions, etc.) to deserialize the stored \n",
    "data under `history`. \n",
    "\n",
    "Next lets create a file that stores information using all the other basic python types\n",
    "(avoiding arrays for now):"
   ]
  },
  {
   "cell_type": "code",
   "execution_count": null,
   "id": "f04312fc-bed2-4114-9e88-c7271a6bb4af",
   "metadata": {},
   "outputs": [],
   "source": [
    "tree = {\n",
    "    \"hello\": \"world\",\n",
    "    \"foo\": 42,\n",
    "    \"bar\": 3.14,\n",
    "    \"true\": False,\n",
    "    \"imaginary\": complex(2, 3),\n",
    "    \"animals\": [\"cat\", \"dog\", \"bird\"],\n",
    "    \"data\": {\"mean\": 3.14, \"std\": 2.71},\n",
    "}\n",
    "af = asdf.AsdfFile(tree)\n",
    "af.write_to(\"example.asdf\")"
   ]
  },
  {
   "cell_type": "markdown",
   "id": "8c681968-f93c-42bf-a7cd-a239999f141e",
   "metadata": {},
   "source": [
    "Now open `example.asdf` in your text editor. You should see something like:"
   ]
  },
  {
   "cell_type": "code",
   "execution_count": null,
   "id": "c9794cf9",
   "metadata": {},
   "outputs": [],
   "source": [
    "with open(\"example.asdf\") as f:\n",
    "    print(f.read())"
   ]
  },
  {
   "cell_type": "markdown",
   "id": "b0e2ec83",
   "metadata": {},
   "source": [
    "Again observe that all the data we added to our tree is contained within our asdf file. Notice in\n",
    "particular the `imaginary` data now has a yaml tag denoting that the data is a complex number, this\n",
    "tag will be used by ASDF to correctly deserialize this data as a `complex` type later.\n",
    "\n",
    "### Updating your ASDF files\n",
    "\n",
    "Recall that opening ASDF files can be simply done with the `asdf.open` command much like the standard\n",
    "Python `open` command. Note that typically one must explicitly use the `mode` keyword to when specifying\n",
    "the open method, this is because the `uri` keyword input is before the `mode` keyword input in the open\n",
    "interface.\n",
    "\n",
    "For example:"
   ]
  },
  {
   "cell_type": "code",
   "execution_count": null,
   "id": "b81cd3aa-b499-4bcf-a1f0-6f71d4cfa701",
   "metadata": {},
   "outputs": [],
   "source": [
    "with asdf.open(\"example.asdf\") as af:\n",
    "    print(f'{af[\"hello\"]=}')\n",
    "    print(f'{af[\"foo\"]=}')\n",
    "    print(f'{af[\"bar\"]=}')\n",
    "    print(f'{af[\"imaginary\"]=}')\n",
    "    print(f'{af[\"animals\"]=}')\n",
    "    print(f'{af[\"data\"]=}')"
   ]
  },
  {
   "cell_type": "markdown",
   "id": "b986ad68-2824-4adb-b2f5-600f86a379e9",
   "metadata": {},
   "source": [
    "ASDF files can also be updated in the in a similar way. This time by opening the\n",
    "file as writable and calling the `update` method:"
   ]
  },
  {
   "cell_type": "code",
   "execution_count": null,
   "id": "eb875226-9402-4aae-a2a0-f0d5fe9d9c77",
   "metadata": {},
   "outputs": [],
   "source": [
    "with asdf.open(\"example.asdf\", mode=\"rw\") as af:\n",
    "    af[\"new\"] = \"cool new stuff\"\n",
    "    af.update()"
   ]
  },
  {
   "cell_type": "markdown",
   "id": "878c5fc2",
   "metadata": {},
   "source": [
    "Note that updates can be expensive if they require rewriting the whole file. This can be mitigated\n",
    "by padding strategies in both the metadata section and within binary blocks."
   ]
  },
  {
   "cell_type": "code",
   "execution_count": null,
   "id": "62ae8042",
   "metadata": {},
   "outputs": [],
   "source": [
    "with open(\"example.asdf\", \"r\") as f:\n",
    "    print(f.read())"
   ]
  },
  {
   "cell_type": "markdown",
   "id": "2b92717c-c619-4072-afec-ab44ddad97c3",
   "metadata": {},
   "source": [
    "## Creating ASDF files with numpy arrays\n",
    "\n",
    "Beyond the maps, lists, strings, and numbers built into Python, ASDF can save arrays, in particular\n",
    "numpy arrays (`nd.array`). Indeed, much of ASDF is dedicated to efficiently saving arrays.\n",
    "\n",
    "For example if suppose we want to save a random 8x8 numpy array:"
   ]
  },
  {
   "cell_type": "code",
   "execution_count": null,
   "id": "873a50b3-258f-49ee-96ef-5cc8ac29ad0f",
   "metadata": {},
   "outputs": [],
   "source": [
    "tree = {\"random_array\": np.random.rand(8, 8)}\n",
    "af = asdf.AsdfFile(tree)\n",
    "af.write_to(\"random.asdf\")"
   ]
  },
  {
   "cell_type": "markdown",
   "id": "7419f8d1-7986-465d-8203-295e26a78a33",
   "metadata": {},
   "source": [
    "Now opening this file in your text editor will result in something like:"
   ]
  },
  {
   "cell_type": "code",
   "execution_count": null,
   "id": "67a56453",
   "metadata": {},
   "outputs": [],
   "source": [
    "with open(\"random.asdf\", \"r\", encoding=\"unicode_escape\") as f:\n",
    "    print(f.read())"
   ]
  },
  {
   "cell_type": "markdown",
   "id": "b386f241",
   "metadata": {},
   "source": [
    "Observe that at the end of the file that there is apparently some binary data. This binary data contains the information\n",
    "in the random array we wrote. Indeed, when ASDF writes arrays to the file it stores them as binary data in a block after\n",
    "the YAML section of the file rather in the section itself. Note that `random_array` in the YAML section stores some\n",
    "information about the nature of the array and includes the `source` key. This `source` value references which binary block \n",
    "(in this case block `0`) the data is stored in.\n",
    "\n",
    "Indeed if we update the file with another array to the file we get a second block:"
   ]
  },
  {
   "cell_type": "code",
   "execution_count": null,
   "id": "73d8e212-11d1-4cb5-a299-5acfc34ca9c0",
   "metadata": {},
   "outputs": [],
   "source": [
    "with asdf.open(\"random.asdf\", mode=\"rw\") as af:\n",
    "    af.tree.update({\"new_array\": np.random.rand(10, 10)})\n",
    "    af.update()"
   ]
  },
  {
   "cell_type": "markdown",
   "id": "66dae048-2f0d-4879-a8ea-c5fd18b7e161",
   "metadata": {},
   "source": [
    "Opening `random.asdf` in your text editor will give something like:"
   ]
  },
  {
   "cell_type": "code",
   "execution_count": null,
   "id": "6a51f74d",
   "metadata": {},
   "outputs": [],
   "source": [
    "with open(\"random.asdf\", encoding=\"unicode_escape\") as f:\n",
    "    print(f.read())"
   ]
  },
  {
   "cell_type": "markdown",
   "id": "a7753281",
   "metadata": {},
   "source": [
    "This now has a `new_array` key, which contains a second `source: 1` meaning there is a second binary block.\n",
    "\n",
    "Now observe that ASDF is smart about storing arrays as binary data; meaning that, if arrays are shared between\n",
    "entries in the tree, the same binary block is used. Indeed, this extends to sharing views on the data:"
   ]
  },
  {
   "cell_type": "code",
   "execution_count": null,
   "id": "ec8c8c81-c29d-4682-add3-bbb2abdd3282",
   "metadata": {},
   "outputs": [],
   "source": [
    "duplicated_array = np.random.rand(8, 8)\n",
    "multi_view_array = np.random.rand(8, 8)\n",
    "tree = {\n",
    "    \"duplicated_array_0\": duplicated_array,\n",
    "    \"duplicated_array_1\": duplicated_array,\n",
    "    \"multi_view_array\": multi_view_array,\n",
    "    \"new_view\": multi_view_array[2:4, 3:6],\n",
    "}\n",
    "with asdf.open(\"random.asdf\", mode=\"rw\") as af:\n",
    "    af.tree.update(tree)\n",
    "    af.update()"
   ]
  },
  {
   "cell_type": "markdown",
   "id": "82710797-0dab-48c3-9f2b-5019d0b7a5e4",
   "metadata": {},
   "source": [
    "Opening `random.asdf` in your text editor once again gives something like:"
   ]
  },
  {
   "cell_type": "code",
   "execution_count": null,
   "id": "ed6c1d2f",
   "metadata": {},
   "outputs": [],
   "source": [
    "with open(\"random.asdf\", encoding=\"unicode_escape\") as f:\n",
    "    print(f.read())"
   ]
  },
  {
   "cell_type": "markdown",
   "id": "e0b1337e",
   "metadata": {},
   "source": [
    "First, note that `duplicated_array_1` simply listed using a yaml anchor which points to `duplicated_array_0`. Second,\n",
    "observe that the `source` in both `multi_view_array` and `new_array` are the same value (`2`) rather than distinct values.\n",
    "So ASDF did not unnecessary duplicate the binary data.\n",
    "\n",
    "## Serializing other objects\n",
    "\n",
    "The ASDF library supports writing extensions for objects outside of the ASDF-standard, which we will explain\n",
    "in detail in another lecture. Assuming that one has installed an ASDF extension to support some custom Python\n",
    "objects, ASDF will be able to seamlessly save those objects with no additional effort.\n",
    "\n",
    "For example, as part of the install for this course we installed the `asdf-astropy` package, which provides\n",
    "extensions for writing many `astropy` objects."
   ]
  },
  {
   "cell_type": "code",
   "execution_count": null,
   "id": "fd2aaa84-bb61-40d9-9f7a-46c0f6cd594e",
   "metadata": {},
   "outputs": [],
   "source": [
    "import astropy\n",
    "\n",
    "quantity = 50 * astropy.units.m\n",
    "model = astropy.modeling.models.Gaussian2D(quantity, 2, 3, 4, 5)\n",
    "time = astropy.time.Time(\"J2000\")\n",
    "coord = astropy.coordinates.ICRS(ra=1 * astropy.units.deg, dec=2 * astropy.units.deg)\n",
    "\n",
    "tree = {\n",
    "    \"quantity\": quantity,\n",
    "    \"model\": model,\n",
    "    \"time\": time,\n",
    "    \"coord\": coord,\n",
    "}\n",
    "\n",
    "af = asdf.AsdfFile(tree)\n",
    "af.write_to(\"astropy.asdf\")"
   ]
  },
  {
   "cell_type": "markdown",
   "id": "89f36bff-59c2-4da8-90c5-1890d4daae16",
   "metadata": {},
   "source": [
    "Notice that since `asdf-astropy` was installed, no extra effort was required to write these objects\n",
    "even though they clearly fall outside the ASDF-standard objects we previously discussed.\n",
    "\n",
    "Moreover examining `astropy.asdf` in your text editor results in:"
   ]
  },
  {
   "cell_type": "code",
   "execution_count": null,
   "id": "e11433ec",
   "metadata": {},
   "outputs": [],
   "source": [
    "with open(\"astropy.asdf\", encoding=\"unicode_escape\") as f:\n",
    "    print(f.read())"
   ]
  },
  {
   "cell_type": "markdown",
   "id": "60e77faa",
   "metadata": {},
   "source": [
    "Which clearly shows that we were successful in saving all the `astropy` objects we intended to."
   ]
  }
 ],
 "metadata": {
  "kernelspec": {
   "display_name": "Python 3.10.4",
   "language": "python",
   "name": "python3"
  },
  "language_info": {
   "codemirror_mode": {
    "name": "ipython",
    "version": 3
   },
   "file_extension": ".py",
   "mimetype": "text/x-python",
   "name": "python",
   "nbconvert_exporter": "python",
   "pygments_lexer": "ipython3",
   "version": "3.10.4"
  },
  "vscode": {
   "interpreter": {
    "hash": "c54ecae8f3b9a546603254558bcb3ca9dea5c7af451a66a7914c053836710349"
   }
  }
 },
 "nbformat": 4,
 "nbformat_minor": 5
}
