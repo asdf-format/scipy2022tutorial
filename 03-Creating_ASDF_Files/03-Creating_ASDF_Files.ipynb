{
 "cells": [
  {
   "cell_type": "code",
   "execution_count": null,
   "id": "dc019178-3cfa-4549-b0a8-fa8693016266",
   "metadata": {},
   "outputs": [],
   "source": [
    "import asdf\n",
    "import numpy as np"
   ]
  },
  {
   "cell_type": "markdown",
   "id": "3a9850b0-7e5f-42b6-aa18-e2f03708a14b",
   "metadata": {},
   "source": [
    "# 3 - Creating ASDF Files\n",
    "\n",
    "## Introduction\n",
    "\n",
    "ASDF files store their information using a tree (nested key/value) structure. This allows the stored\n",
    "information be be hierarchically organized within the file. Without any extensions, this tree is a\n",
    "nested combination of basic data structures:\n",
    "- maps,\n",
    "- lists,\n",
    "- arrays,\n",
    "- strings,\n",
    "- booleans,\n",
    "- and numbers.\n",
    "\n",
    "All of which are stored using `yaml`. Note that more complex structures (ones not directly supported\n",
    "by `yaml`) are denoted using `yaml` tags. However, those tagged \"sub-trees\" are still comprised of the\n",
    "above basic structures and other tagged sub-trees. Additional tagged tagged objects are supported via\n",
    "ASDF extensions.\n",
    "\n",
    "The Python analogs for these types are:\n",
    "- maps -> `dict`,\n",
    "- lists -> `list`,\n",
    "- arrays -> `np.ndarray`,\n",
    "- strings -> `str`,\n",
    "- booleans -> `bool`,\n",
    "- and numbers -> `int`, `float`, `complex` (depending on the type of number).\n",
    "\n",
    "Where `np.ndarray` are treated in a special way distinct from regular `yaml` (binary blocks). Note\n",
    "that due to limits imposed by Python, dictionary keys are limited to `bool`, `int`, or `str` types\n",
    "only, while value information can be any of the above data types.\n",
    "\n",
    "Typically, when creating an ASDF file using the python library, one begins by creating a nested Python\n",
    "dictionary which corresponds to the nested tree structure one wants the file to have. Indeed, one can\n",
    "interact with any `AsdfFile` object as if it were a dictionary representing this tree structure.\n",
    "\n",
    "## Creating ASDF files using basic python types\n",
    "\n",
    "Lets first create an ASDF file with the key/value pair `\"hello\": \"world\"`:"
   ]
  },
  {
   "cell_type": "code",
   "execution_count": null,
   "id": "e0cbe5a2-ff64-43ac-9c41-ad354d45977f",
   "metadata": {},
   "outputs": [],
   "source": [
    "tree = {\"hello\": \"world\"}\n",
    "af = asdf.AsdfFile(tree)\n",
    "af.write_to(\"hello.asdf\")\n",
    "af[\"hello\"]"
   ]
  },
  {
   "cell_type": "markdown",
   "id": "63ca8aed-aa2c-4e5f-be4c-7dfd0b0cfd67",
   "metadata": {},
   "source": [
    "Open the `hello.asdf` file in your favorite text editor. You should see a something that looks like:"
   ]
  },
  {
   "cell_type": "code",
   "execution_count": null,
   "id": "7954d9bc",
   "metadata": {},
   "outputs": [],
   "source": [
    "with open(\"hello.asdf\") as f:\n",
    "    print(f.read())"
   ]
  },
  {
   "cell_type": "markdown",
   "id": "e20e2abe",
   "metadata": {},
   "source": [
    "Notice that the file contains more information than just the `\"hello\": \"world\"` key value that we\n",
    "entered. It contains information on the library used to create the file under `asdf_library`, and\n",
    "information on what the ASDF library needs (schemas, extensions, etc.) to deserialize the stored \n",
    "data under `history`. \n"
   ]
  },
  {
   "cell_type": "markdown",
   "id": "8245b31a",
   "metadata": {},
   "source": [
    "### Exercise 1\n",
    "Create an ASDF file that stores information using all the basic Python types\n",
    "Except `np.ndarray`:"
   ]
  },
  {
   "cell_type": "code",
   "execution_count": null,
   "id": "e80a2545",
   "metadata": {},
   "outputs": [],
   "source": []
  },
  {
   "cell_type": "markdown",
   "id": "2b92717c-c619-4072-afec-ab44ddad97c3",
   "metadata": {},
   "source": [
    "## Creating ASDF files with `np.ndarray`\n",
    "\n",
    "Beyond the maps, lists, strings, and numbers built into Python, ASDF can save arrays, in particular\n",
    "numpy arrays (`nd.array`). Indeed, much of ASDF is dedicated to efficiently saving arrays.\n",
    "\n",
    "For example if suppose we want to save a random 8x8 numpy array:"
   ]
  },
  {
   "cell_type": "code",
   "execution_count": 4,
   "id": "873a50b3-258f-49ee-96ef-5cc8ac29ad0f",
   "metadata": {},
   "outputs": [],
   "source": [
    "tree = {\"random_array\": np.random.rand(8, 8)}\n",
    "af = asdf.AsdfFile(tree)\n",
    "af.write_to(\"random.asdf\")"
   ]
  },
  {
   "cell_type": "markdown",
   "id": "7419f8d1-7986-465d-8203-295e26a78a33",
   "metadata": {},
   "source": [
    "Now opening this file in your text editor will result in something like:"
   ]
  },
  {
   "cell_type": "code",
   "execution_count": 5,
   "id": "67a56453",
   "metadata": {},
   "outputs": [
    {
     "name": "stdout",
     "output_type": "stream",
     "text": [
      "#ASDF 1.0.0\n",
      "#ASDF_STANDARD 1.5.0\n",
      "%YAML 1.1\n",
      "%TAG ! tag:stsci.edu:asdf/\n",
      "--- !core/asdf-1.1.0\n",
      "asdf_library: !core/software-1.0.0 {author: The ASDF Developers, homepage: 'http://github.com/asdf-format/asdf',\n",
      "  name: asdf, version: 2.12.0}\n",
      "history:\n",
      "  extensions:\n",
      "  - !core/extension_metadata-1.0.0\n",
      "    extension_class: asdf.extension.BuiltinExtension\n",
      "    software: !core/software-1.0.0 {name: asdf, version: 2.12.0}\n",
      "random_array: !core/ndarray-1.0.0\n",
      "  source: 0\n",
      "  datatype: float64\n",
      "  byteorder: little\n",
      "  shape: [8, 8]\n",
      "...\n",
      "ÓBLK\u00000\u0000\u0000\u0000\u0000\u0000\u0000\u0000\u0000\u0000\u0000\u0000\u0000\u0000\u0000\u0002\u0000\u0000\u0000\u0000\u0000\u0000\u0000\u0002\u0000\u0000\u0000\u0000\u0000\u0000\u0000\u0002\u0000\u001a¤Øí\u0015Àâ\u0001-kîÇÏ§Ðó½\u0000â?iì\u001e*\u0014å?Ê \n",
      "CbÓ?ôsG\u0015Ä?\u0000ÕmÑÌÇ?\u0005\u0001Ü_é?i\u0005]Ï\\è?@?_Ë\u0001«½?\u001e¼w8T\n",
      "å?²¹<QöÕ?\u001agÑ\u0007ÙñÛ?º!§\u000fFÚ?Ô\f¿\u001cÚ$ã?ü\u0014X7^Öé?of¶ÓGï?vU:û\u001eë?[7î¥oÌâ?j»\u0005ÈÜ?Dtò/Û\u000bÉ?GEù\u00014xà?µ|ÝÑüSï?õz&íì?n\u0003ÜØöIí?´\u0011w\u000b)Á?Ì¥Îó9ùè?ðdbn·?apÿ¶í½ç?\u000fL#ïúÞë? \u0002Ê¥m\u0011Á?¡mKð\u0007ÿå?ÿXö¸Æá?KÊ»]¦Ñ?ì/[µ×â?\u0017à\u0014¦_î?àü\u000e#&ê?ÏæSÒ­í?ð!?Ôô²?dtÂ¾\u000b\u0000Ò?q¨j\\zä?\\\u0002\u001f\u0010}@À?V\u000b5{aÔ?Jæ¸²á?Á²¨Ø¤\u001bå?rfbïj·í?8>ÇÎ4\u0007±?\u0000ÂÌõ«p?,»¶\u0001o\u0007ã?è¿Ã±r·â?:ÛO9W¾Ý?\u0010\fy Ò?Û\u001fÂ\u000eHþä?&Ó@ÏL(ç?\u000b©Þtê?HÀ<\":(¿?`¹\u001f|f²? 9Ý¿¿?f¬uò4¸í?ØGSá?Á\u000b¬ðì.â?Ëð\u0013±³,î??Ìùâ¶rç?\u0000¼nÀMX??\u001aá$y[â?p]MQn3î?#ASDF BLOCK INDEX\n",
      "%YAML 1.1\n",
      "---\n",
      "- 517\n",
      "...\n",
      "\n"
     ]
    }
   ],
   "source": [
    "with open(\"random.asdf\", \"r\", encoding=\"unicode_escape\") as f:\n",
    "    print(f.read())"
   ]
  },
  {
   "cell_type": "markdown",
   "id": "b386f241",
   "metadata": {},
   "source": [
    "Observe that at the end of the file that there is apparently some binary data. This binary data contains the information\n",
    "in the random array we wrote. Indeed, when ASDF writes arrays to the file it stores them as binary data in a block after\n",
    "the YAML section of the file rather in the section itself. Note that `random_array` in the YAML section stores some\n",
    "information about the nature of the array and includes the `source` key. This `source` value references which binary block \n",
    "(in this case block `0`) the data is stored in.\n",
    "\n",
    "Note that ASDF will store this data in an efficient manner. By this we mean that arrays shared between different objects\n",
    "stored in the ASDF tree, will only be stored once as a binary block with both entries in the yaml metadata will both\n",
    "reference the same binary block. Moreover, this extends to objects which reference a different view of the same data,\n",
    "meaning the views will all still reference the same binary block, only storing information on the view itself."
   ]
  },
  {
   "cell_type": "markdown",
   "id": "eca32812",
   "metadata": {},
   "source": [
    "### Exercise 2\n",
    "\n",
    "Create tree containing the same `np.ndarray` twice, and multiple views on the same `np.ndarray`."
   ]
  },
  {
   "cell_type": "code",
   "execution_count": null,
   "id": "85cee267",
   "metadata": {},
   "outputs": [],
   "source": []
  },
  {
   "cell_type": "markdown",
   "id": "e0b1337e",
   "metadata": {},
   "source": [
    "## Serializing Other Objects\n",
    "\n",
    "As mentioned above, other types of objects can also be serialized by ASDF including objects outside \n",
    "the ASDF-standard; However, support for these objects requires the creation of an ASDF extension, which\n",
    "we will describe in a later tutorial.\n",
    "\n",
    "For our current purposes recall that these objects are denoted in the `yaml` metadata via a `yaml`\n",
    "tag. Indeed some of the objects already discussed are tagged in the metadata. These tags are used by\n",
    "ASDF to determine which extension to use when reading an ASDF file. This enables the \"seamless\" nature\n",
    "of reading objects from an ASDF file, provided the necessary ASDF extension is installed. Note that\n",
    "when a tagged object is present in an ASDF file, but no extension can be found to handle that tag ASDF\n",
    "will raise a warning and return that \"object\" in its \"raw\" form, meaning you will get the nested dictionary\n",
    "object rather than a fully realized instance of the object you wrote.\n",
    "\n",
    "On the other hand, ASDF extensions specify what Python objects they support. This is how ASDF can\n",
    "seamlessly recognize a complex object and serialize it with no input from the user (other than installing\n",
    "the correct ASDF extensions).\n",
    "\n",
    "For example, as part of the install for this course we installed the `asdf-astropy` package, which provides\n",
    "extensions for writing many `astropy` objects. Indeed `asdf-astropy` enables ASDF support for\n",
    "\n",
    "- `astropy` `unit` and `quantity` objects.\n",
    "- (Most) `astropy` model objects.\n",
    "- `astropy` `Time` objects.\n",
    "- `astropy` coordinate and frame objects.\n",
    "- `astropy` `Table` objects.\n",
    "\n",
    "Thus serializing an `astropy` `Table` object:"
   ]
  },
  {
   "cell_type": "code",
   "execution_count": 8,
   "id": "7d2364fb",
   "metadata": {},
   "outputs": [],
   "source": [
    "from astropy.table import Table\n",
    "\n",
    "tree = {\"table\": Table(dtype=[('a', 'f4'), ('b', 'i4'), ('c', 'S2')])}\n",
    "af = asdf.AsdfFile(tree)\n",
    "af.write_to(\"table.asdf\")"
   ]
  },
  {
   "cell_type": "markdown",
   "id": "3096c0b6",
   "metadata": {},
   "source": [
    "Notice how no additional effort was need to write the ASDF file since `asdf-astropy` was installed \n",
    "already. Now lets perform a cursory inspection of the `gaussian.asdf` file:"
   ]
  },
  {
   "cell_type": "code",
   "execution_count": 10,
   "id": "3c8e56a9",
   "metadata": {},
   "outputs": [
    {
     "name": "stdout",
     "output_type": "stream",
     "text": [
      "#ASDF 1.0.0\n",
      "#ASDF_STANDARD 1.5.0\n",
      "%YAML 1.1\n",
      "%TAG ! tag:stsci.edu:asdf/\n",
      "--- !core/asdf-1.1.0\n",
      "asdf_library: !core/software-1.0.0 {author: The ASDF Developers, homepage: 'http://github.com/asdf-format/asdf',\n",
      "  name: asdf, version: 2.12.0}\n",
      "history:\n",
      "  extensions:\n",
      "  - !core/extension_metadata-1.0.0\n",
      "    extension_class: asdf.extension.BuiltinExtension\n",
      "    software: !core/software-1.0.0 {name: asdf, version: 2.12.0}\n",
      "  - !core/extension_metadata-1.0.0\n",
      "    extension_class: asdf.extension._manifest.ManifestExtension\n",
      "    extension_uri: asdf://astropy.org/astropy/extensions/astropy-1.0.0\n",
      "    software: !core/software-1.0.0 {name: asdf-astropy, version: 0.2.1}\n",
      "  - !core/extension_metadata-1.0.0\n",
      "    extension_class: asdf.extension._manifest.ManifestExtension\n",
      "    extension_uri: asdf://asdf-format.org/core/extensions/core-1.5.0\n",
      "    software: !core/software-1.0.0 {name: asdf-astropy, version: 0.2.1}\n",
      "table: !<tag:astropy.org:astropy/table/table-1.0.0>\n",
      "  colnames: [a, b, c]\n",
      "  columns:\n",
      "  - !core/column-1.0.0\n",
      "    data: !core/ndarray-1.0.0\n",
      "      source: 0\n",
      "      datatype: float32\n",
      "      byteorder: little\n",
      "      shape: [0]\n",
      "    name: a\n",
      "  - !core/column-1.0.0\n",
      "    data: !core/ndarray-1.0.0\n",
      "      source: 1\n",
      "      datatype: int32\n",
      "      byteorder: little\n",
      "      shape: [0]\n",
      "    name: b\n",
      "  - !core/column-1.0.0\n",
      "    data: !core/ndarray-1.0.0\n",
      "      source: 2\n",
      "      datatype: [ascii, 2]\n",
      "      byteorder: big\n",
      "      shape: [0]\n",
      "    name: c\n",
      "  qtable: false\n",
      "...\n",
      "ÓBLK\u00000\u0000\u0000\u0000\u0000\u0000\u0000\u0000\u0000\u0000\u0000\u0000\u0000\u0000\u0000\u0000\u0000\u0000\u0000\u0000\u0000\u0000\u0000\u0000\u0000\u0000\u0000\u0000\u0000\u0000\u0000\u0000\u0000Ô\u001dÙ\u0000²\u0004é\tìøB~ÓBLK\u00000\u0000\u0000\u0000\u0000\u0000\u0000\u0000\u0000\u0000\u0000\u0000\u0000\u0000\u0000\u0000\u0000\u0000\u0000\u0000\u0000\u0000\u0000\u0000\u0000\u0000\u0000\u0000\u0000\u0000\u0000\u0000\u0000Ô\u001dÙ\u0000²\u0004é\tìøB~ÓBLK\u00000\u0000\u0000\u0000\u0000\u0000\u0000\u0000\u0000\u0000\u0000\u0000\u0000\u0000\u0000\u0000\u0000\u0000\u0000\u0000\u0000\u0000\u0000\u0000\u0000\u0000\u0000\u0000\u0000\u0000\u0000\u0000\u0000Ô\u001dÙ\u0000²\u0004é\tìøB~#ASDF BLOCK INDEX\n",
      "%YAML 1.1\n",
      "---\n",
      "- 1434\n",
      "- 1488\n",
      "- 1542\n",
      "...\n",
      "\n"
     ]
    }
   ],
   "source": [
    "with open(\"table.asdf\",  \"r\", encoding=\"unicode_escape\") as f:\n",
    "    print(f.read())"
   ]
  },
  {
   "cell_type": "markdown",
   "id": "821739e4",
   "metadata": {},
   "source": [
    "### Exercise 3\n",
    "\n",
    "Write an ASDF file containing the following `astropy` objects:\n",
    "1. `Quantity`\n",
    "2. A different model\n",
    "3. A `Time` object\n",
    "4. A coordinate object."
   ]
  },
  {
   "cell_type": "markdown",
   "id": "07a29aa2",
   "metadata": {},
   "source": []
  }
 ],
 "metadata": {
  "kernelspec": {
   "display_name": "Python 3.10.4",
   "language": "python",
   "name": "python3"
  },
  "language_info": {
   "codemirror_mode": {
    "name": "ipython",
    "version": 3
   },
   "file_extension": ".py",
   "mimetype": "text/x-python",
   "name": "python",
   "nbconvert_exporter": "python",
   "pygments_lexer": "ipython3",
   "version": "3.10.4"
  },
  "vscode": {
   "interpreter": {
    "hash": "c54ecae8f3b9a546603254558bcb3ca9dea5c7af451a66a7914c053836710349"
   }
  }
 },
 "nbformat": 4,
 "nbformat_minor": 5
}
