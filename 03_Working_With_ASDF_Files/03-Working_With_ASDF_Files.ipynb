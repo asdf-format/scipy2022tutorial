{
 "cells": [
  {
   "cell_type": "markdown",
   "id": "6298d0de",
   "metadata": {},
   "source": [
    "### Working With ASDF Files"
   ]
  },
  {
   "cell_type": "markdown",
   "id": "4e784d45",
   "metadata": {},
   "source": [
    "#### Outline\n",
    "\n",
    "- Read a file\n",
    "- Show the contents of an ASDF file\n",
    "- Search for an attribute in an ASDF file\n",
    "- Accessing metadata and data\n",
    "- Modifying and saving files\n",
    "- Exercise\n",
    "- Adding History items\n",
    "- Command line interface"
   ]
  },
  {
   "cell_type": "markdown",
   "id": "91e91a63",
   "metadata": {},
   "source": [
    "#### Reading an ASDF file\n",
    "\n",
    "The Python ASDF library is a standalone package distributed through PyPi and conda-forge."
   ]
  },
  {
   "cell_type": "code",
   "execution_count": null,
   "id": "e5d434c2",
   "metadata": {},
   "outputs": [],
   "source": [
    "import asdf"
   ]
  },
  {
   "cell_type": "code",
   "execution_count": null,
   "id": "7d5e3d29",
   "metadata": {},
   "outputs": [],
   "source": [
    "af = asdf.open('pluto.asdf')"
   ]
  },
  {
   "cell_type": "markdown",
   "id": "b8ff3d48",
   "metadata": {},
   "source": [
    "**Exercise 1:**\n",
    "\n",
    "- Read the file in this chapter - *pluto.asdf* using the Python asdf library\n",
    "- Use the *info* method to look at the contents of the file\n",
    "- Use the *search* method to look for an attribute, called *birthday* and retrieve the value\n",
    "- Finally, use matplotlib to display the image saved under attribute *picture*"
   ]
  },
  {
   "cell_type": "markdown",
   "id": "456b4f5b",
   "metadata": {},
   "source": [
    "#### Using a schema to validate a file"
   ]
  },
  {
   "cell_type": "markdown",
   "id": "16d3dd54",
   "metadata": {},
   "source": [
    "ASDF uses schemas to check that a file conforms to the [ASDF Standard](https://asdf-standard.readthedocs.io/en/latest/) and possibly the requirements of other extensions (see later notebooks). *jsonschema* is used for validation. Schema validation happens on reading (*asdf.open*) and writing (*write_to* and *update*). \n",
    "\n",
    "However, sometimes it is useful for particular applications to impose additional restrictions when deciding whether a given file is valid or not. ASDF allows using \"custom schemas\" in such cases and passing them to the *open* function.\n"
   ]
  },
  {
   "cell_type": "markdown",
   "id": "b0266810",
   "metadata": {},
   "source": [
    "Let's see how to write a schema and make sure our file *pluto.asdf* is correct.\n",
    "A schema is just a text file and and any editor can be used to write it.\n",
    "\n",
    "- There's a yaml header at the begining of each schema which states the version of the YAML schema, followed by `---` and the `$schema` declaration stating the draft.\n",
    "- A schema file ends with `...` .\n",
    "- The ASDF schemas use indentation, similar to YAML, and by convention it is 2 spaces.\n",
    "- `title` is not required but by convention it's a one-line description of an attribute.\n",
    "- `description` is an optional, longer, possibly multi-line comment.\n",
    "- `type` is required\n",
    "- If a `required` field is present, all properties listed in it must be present in the file.\n",
    "\n"
   ]
  },
  {
   "cell_type": "code",
   "execution_count": null,
   "id": "ea8f89ad",
   "metadata": {},
   "outputs": [],
   "source": [
    "s = \"\"\"\n",
    "%YAML 1.1\n",
    "---\n",
    "$schema: http://stsci.edu/schemas/yaml-schema/draft-01\n",
    "\n",
    "title: Mickey's pet\n",
    "description: |\n",
    "  Basic info and a picture of Mickie's \n",
    "  dog Pluto.\n",
    "\n",
    "type: object\n",
    "properties:\n",
    "  age:\n",
    "    title: The age of Pluto\n",
    "    type: object\n",
    "    properties:\n",
    "      birthday:\n",
    "        title: Pluto's first showing\n",
    "        tag: tag:stsci.edu:asdf/time/time-1.1.0\n",
    "  mass:\n",
    "    title: How much he weighs.\n",
    "    tag: tag:stsci.edu:asdf/unit/quantity-1.1.0\n",
    "  picture:\n",
    "    tag: tag:stsci.edu:asdf/core/ndarray-1.0.0\n",
    "  name:\n",
    "    title: Name\n",
    "    type: string\n",
    "required: [name, picture]\n",
    "...\n",
    "\"\"\""
   ]
  },
  {
   "cell_type": "code",
   "execution_count": null,
   "id": "bfd12130",
   "metadata": {},
   "outputs": [],
   "source": [
    "f = open('pluto-1.0.0.yaml', mode='w')\n",
    "f.write(s)\n",
    "f.close()"
   ]
  },
  {
   "cell_type": "code",
   "execution_count": null,
   "id": "8abcd0b5",
   "metadata": {},
   "outputs": [],
   "source": [
    "afs = asdf.open('pluto.asdf', custom_schema='./pluto-1.0.0.yaml')"
   ]
  },
  {
   "cell_type": "code",
   "execution_count": null,
   "id": "ada61947",
   "metadata": {},
   "outputs": [],
   "source": [
    "afs.info()"
   ]
  },
  {
   "cell_type": "code",
   "execution_count": null,
   "id": "2a66de09",
   "metadata": {},
   "outputs": [],
   "source": [
    "weight = afs['mass']\n",
    "print(type(weight))"
   ]
  },
  {
   "cell_type": "code",
   "execution_count": null,
   "id": "248473a7",
   "metadata": {},
   "outputs": [],
   "source": [
    "from astropy import units as u\n",
    "weight.to(u.imperial.lb)"
   ]
  },
  {
   "cell_type": "markdown",
   "id": "e0a97c6f",
   "metadata": {},
   "source": [
    "**Exercise 2:**\n",
    "\n",
    "- Add `additionalProperties=false` to the schema and attempt to add a new property.\n",
    "- Modify the schema to include a required property, called *friend* or type string. \n",
    "- Open the file to see the error message\n"
   ]
  },
  {
   "cell_type": "markdown",
   "id": "7a40ae12",
   "metadata": {},
   "source": [
    "#### Adding History items\n",
    "\n",
    "When using *asdf.info* we see one of the properties is called **History**. By default it stores a list of extensions used when processing the file. It is possible to add custom entries to this list."
   ]
  },
  {
   "cell_type": "code",
   "execution_count": null,
   "id": "77031228",
   "metadata": {},
   "outputs": [],
   "source": [
    "afs.add_history_entry('First appeared in \"The Chain Gang\", 1930' )\n"
   ]
  },
  {
   "cell_type": "code",
   "execution_count": null,
   "id": "ca5eaf60",
   "metadata": {},
   "outputs": [],
   "source": [
    "# add row_max\n",
    "afs.info()"
   ]
  },
  {
   "cell_type": "markdown",
   "id": "faa901da",
   "metadata": {},
   "source": [
    "#### Command Liine interface\n",
    "\n",
    "The library, asdf, includes a command-line tool, **asdftool** that performs a number of useful operations:\n",
    "\n",
    "**explode:** Convert a self-contained ASDF file into exploded form (see Saving external arrays).\n",
    "\n",
    "**implode:** Convert an ASDF file in exploded form into a self-contained file.\n",
    "\n",
    "**defragment:** Remove unused blocks and extra space.\n",
    "\n",
    "**diff:** Report differences between two ASDF files.\n",
    "\n",
    "**edit:** Edit the YAML portion of an ASDF file.\n",
    "\n",
    "**info:** Print a rendering of an ASDF tree.\n",
    "\n",
    "**extensions:** Show information about installed extensions (see Extensions from other packages).\n",
    "\n",
    "**tags:** List currently available tags.\n",
    "\n",
    "**to_yaml:** Inline all of the data in an ASDF file so that it is pure YAML.\n",
    "\n",
    "Run **asdftool --help** for more information."
   ]
  },
  {
   "cell_type": "markdown",
   "id": "d41602e6",
   "metadata": {},
   "source": [
    "**Exercise 3:**\n",
    "\n",
    "- Use *asdftool* to find the differences in the two files - *pluto.asdf* and *pluto-friend.asdf*\n",
    "- Use some of the other options of *asdftool*"
   ]
  },
  {
   "cell_type": "code",
   "execution_count": null,
   "id": "c747806a",
   "metadata": {},
   "outputs": [],
   "source": []
  }
 ],
 "metadata": {
  "kernelspec": {
   "display_name": "Python 3 (ipykernel)",
   "language": "python",
   "name": "python3"
  },
  "language_info": {
   "codemirror_mode": {
    "name": "ipython",
    "version": 3
   },
   "file_extension": ".py",
   "mimetype": "text/x-python",
   "name": "python",
   "nbconvert_exporter": "python",
   "pygments_lexer": "ipython3",
   "version": "3.9.12"
  }
 },
 "nbformat": 4,
 "nbformat_minor": 5
}
