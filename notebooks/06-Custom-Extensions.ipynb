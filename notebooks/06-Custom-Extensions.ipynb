{
 "cells": [
  {
   "cell_type": "code",
   "execution_count": 1,
   "metadata": {},
   "outputs": [],
   "source": [
    "import asdf\n",
    "import os\n",
    "import numpy as np\n",
    "\n",
    "from dataclasses import dataclass\n",
    "from pathlib import Path"
   ]
  },
  {
   "cell_type": "markdown",
   "metadata": {},
   "source": [
    "# 6 - Creating Custom ASDF Extensions\n",
    "\n",
    "Often we want to be able to save our \"custom\" python objects to ASDF in a \"seamless\"\n",
    "fashion, like how we were able to save various `astropy` objects using `asdf-astropy`\n",
    "in tutorial 3. Here we will work through how to create the necessary ASDF extensions\n",
    "to support doing this for a \"custom\" object."
   ]
  },
  {
   "cell_type": "markdown",
   "metadata": {},
   "source": [
    "## Example Object\n",
    "\n",
    "Lets start with a simple geometric ellipse as a custom python object"
   ]
  },
  {
   "cell_type": "code",
   "execution_count": 2,
   "metadata": {},
   "outputs": [],
   "source": [
    "@dataclass\n",
    "class Ellipse:\n",
    "    \"\"\"An ellispe defined by semi-major and semi-minor axes.\n",
    "\n",
    "    Note: Using a dataclass to define the object so that we get `==` for free.\n",
    "    \"\"\"\n",
    "\n",
    "    semi_major: float\n",
    "    semi_minor: float"
   ]
  },
  {
   "cell_type": "markdown",
   "metadata": {},
   "source": [
    "## Introduction to Writing an Extension\n",
    "\n",
    "Our ultimate goal is to create a `Converter` class which converts from an `Ellipse` object\n",
    "to an ASDF file and from an ASDF file back into an `Ellipse` object, such that an `Ellipse`\n",
    "object \"round-trips\".\n",
    "\n",
    "Formally, the `Converter` interface defines a mapping between tagged objects in the `ASDF` tree\n",
    "and their corresponding Python objects. Typically, this means one converter per tag/object\n",
    "pair; however, a single `Converter` can also support many-to-one and many-to-many mappings \n",
    "object.\n",
    "\n",
    "Thus to successfully create an ASDF extension to support `Ellipse`, we need three things:\n",
    "\n",
    "1. A `tag` for `Ellipse`.\n",
    "2. A `Converter` for `Ellispe`.\n",
    "3. An `Extension` for `Ellipse`."
   ]
  },
  {
   "cell_type": "markdown",
   "metadata": {},
   "source": [
    "### Creating a `tag`\n",
    "\n",
    "Recall that ASDF supports schemas for validating the information stored in its files. The\n",
    "determination of which schema(s) need to be used to validate what parts of the ASDF tree\n",
    "is noted by a yaml `tag` within the metadata.\n",
    "\n",
    "This means we need to \n",
    "\n",
    "1. Create a `schema` for `Ellipse`.\n",
    "2. Create `tag` for that schema.\n",
    "\n",
    "Note that to create the `tag` for the schema, we will need to create an \"extension manifest\".\n",
    "\n",
    "#### Create a `schema`\n",
    "\n",
    "Note that schemas are typically stored in `yaml` files which are then loaded into ASDF via an\n",
    "\"entry point\"; however, to begin with lets create the schema for `Ellipse` dynamically:"
   ]
  },
  {
   "cell_type": "code",
   "execution_count": 3,
   "metadata": {},
   "outputs": [],
   "source": [
    "ellipse_uri = \"asdf://example.com/example-project/schemas/ellipse-1.0.0\"\n",
    "\n",
    "ellipse_schema_content = f\"\"\"\n",
    "%YAML 1.1\n",
    "---\n",
    "$schema: http://stsci.edu/schemas/yaml-schema/draft-01\n",
    "id: {ellipse_uri}\n",
    "\n",
    "type: object\n",
    "properties:\n",
    "  semi_major:\n",
    "    type: number\n",
    "  semi_minor:\n",
    "    type: number\n",
    "required: [semi_major, semi_minor]\n",
    "...\n",
    "\"\"\""
   ]
  },
  {
   "cell_type": "markdown",
   "metadata": {},
   "source": [
    "Note that ASDF uses JSON schema for its schema language; however, ASDF uses `yaml`\n",
    "as its file format for schemas, not `json`.\n",
    "\n",
    "Now we can dynamically add this schema to ASDF using the `add_resource_mapping`:"
   ]
  },
  {
   "cell_type": "code",
   "execution_count": 4,
   "metadata": {},
   "outputs": [],
   "source": [
    "asdf.get_config().add_resource_mapping({ellipse_uri: ellipse_schema_content})"
   ]
  },
  {
   "cell_type": "markdown",
   "metadata": {},
   "source": [
    "Later we will go over how to perform this automatically via an entry-point.\n",
    "\n",
    "Lets now load and check that the schema we just created is a valid schema:"
   ]
  },
  {
   "cell_type": "code",
   "execution_count": 5,
   "metadata": {},
   "outputs": [],
   "source": [
    "schema = asdf.schema.load_schema(ellipse_uri)\n",
    "asdf.schema.check_schema(schema)"
   ]
  },
  {
   "cell_type": "markdown",
   "metadata": {},
   "source": [
    "Note that `asdf.schema.check_schema` will work directly on any `yaml` file loaded\n",
    "through the `pyyaml` interface."
   ]
  },
  {
   "cell_type": "markdown",
   "metadata": {},
   "source": [
    "Lets also attempt to validate a portion of an ASDF tree for `Ellipse` against this schema:"
   ]
  },
  {
   "cell_type": "code",
   "execution_count": 6,
   "metadata": {},
   "outputs": [],
   "source": [
    "test_ellipse_object = {\"semi_major\": 1.0, \"semi_minor\": 2.0}\n",
    "\n",
    "asdf.schema.validate(test_ellipse_object, schema=schema)"
   ]
  },
  {
   "cell_type": "markdown",
   "metadata": {},
   "source": [
    "#### Creating the `tag` Extension\n",
    "\n",
    "The mechanism that ASDF uses to bind a `tag` to a schema is a `manifest`, which\n",
    "is special schema file which lists pairs pairs of `tag_uri` and `schema_uri` to\n",
    "associate the `schema_uri` (what URI identifies the schema) with a specific `tag_uri`\n",
    "(what will be used to reference a specific object). This allows the reuse of a `schema`\n",
    "for multiple types of objects, which may contain identical information but have different\n",
    "functionality.\n",
    "\n",
    "Now lets create a manifest for ASDF which has a tag pointing to the schema for `Ellipse`:"
   ]
  },
  {
   "cell_type": "code",
   "execution_count": 7,
   "metadata": {},
   "outputs": [],
   "source": [
    "ellipse_manifest_uri = \"asdf://example.com/example-project/manifests/shapes-1.0.0\"\n",
    "ellipse_extension_uri = \"asdf://example.com/example-project/extensions/shapes-1.0.0\"\n",
    "ellipse_tag = \"asdf://example.com/example-project/tags/ellipse-1.0.0\"\n",
    "\n",
    "ellipse_manifest_content = f\"\"\"\n",
    "%YAML 1.1\n",
    "---\n",
    "id: {ellipse_manifest_uri}\n",
    "extension_uri: {ellipse_extension_uri}\n",
    "\n",
    "title: Example Shape extension 1.0.0\n",
    "description: Tags for example shape objects.\n",
    "\n",
    "tags:\n",
    "  - tag_uri: {ellipse_tag}\n",
    "    schema_uri: {ellipse_uri}\n",
    "...\n",
    "\"\"\"\n",
    "\n",
    "asdf.get_config().add_resource_mapping({ellipse_manifest_uri: ellipse_manifest_content})\n",
    "\n",
    "# check\n",
    "schema = asdf.schema.load_schema(ellipse_manifest_uri)\n",
    "asdf.schema.check_schema(schema)\n",
    "asdf.schema.validate(ellipse_manifest_content, schema=schema)"
   ]
  },
  {
   "cell_type": "markdown",
   "metadata": {},
   "source": [
    "### Create a `Converter`\n",
    "\n",
    "All converters should be constructed as subclasses of the abstract type `asdf.extension.Converter`,\n",
    "which requires that you define two methods:\n",
    "\n",
    "1. `to_yaml_tree`: which converts a Python object into an ASDF tree.\n",
    "2. `from_yaml_tree`: which converts an ASDF tree into a python object.\n",
    "\n",
    "Note that these methods can account for the type/tag of the objects attempting to be converted.\n",
    "\n",
    "Moreover your converter also needs to define the following two variables:\n",
    "\n",
    "1. `tags`: A list of tags that this converter will use when reading ASDF.\n",
    "2. `types`: A list of Python (object) types that this converter will use when writing ASDF.\n",
    "\n",
    "Note that these lists do not need to be indexed with respect to each other, and that in order for\n",
    "the converter to actually be used by ASDF, at least one of the `tags` needs to be registered as a\n",
    "resource with ASDF (usually via the entry point).\n",
    "\n",
    "An example converter for `Ellipse`:"
   ]
  },
  {
   "cell_type": "code",
   "execution_count": 8,
   "metadata": {},
   "outputs": [],
   "source": [
    "class EllipseConverter(asdf.extension.Converter):\n",
    "    tags = [ellipse_tag]\n",
    "    types = [Ellipse]\n",
    "\n",
    "    def to_yaml_tree(self, obj, tag, ctx):\n",
    "        return {\n",
    "            \"semi_major\": obj.semi_major,\n",
    "            \"semi_minor\": obj.semi_minor,\n",
    "        }\n",
    "\n",
    "    def from_yaml_tree(self, node, tag, ctx):\n",
    "        return Ellipse(semi_major=node[\"semi_major\"], semi_minor=node[\"semi_minor\"])"
   ]
  },
  {
   "cell_type": "markdown",
   "metadata": {},
   "source": [
    "Note that, for performance of the entry points, one will normally defer the `import` of the object to be created\n",
    "until `from_yaml_tree` is actually called."
   ]
  },
  {
   "cell_type": "markdown",
   "metadata": {},
   "source": [
    "### Create the Full Extension\n",
    "\n",
    "Now lets dynamically create an extension around the `ellipse_tag` and `EllipseConverter`:"
   ]
  },
  {
   "cell_type": "code",
   "execution_count": 9,
   "metadata": {},
   "outputs": [],
   "source": [
    "class EllipseExtension(asdf.extension.Extension):\n",
    "    extension_uri = ellipse_extension_uri\n",
    "    converters = [EllipseConverter()]\n",
    "    tags = [ellipse_tag]\n",
    "\n",
    "\n",
    "asdf.get_config().add_extension(EllipseExtension())"
   ]
  },
  {
   "cell_type": "markdown",
   "metadata": {},
   "source": [
    "#### Testing the `Ellipse` Extension\n",
    "\n",
    "Lets now check that we can round-trip an `Ellipse` object through ASDF:"
   ]
  },
  {
   "cell_type": "code",
   "execution_count": 10,
   "metadata": {},
   "outputs": [],
   "source": [
    "ellipse = Ellipse(1.0, 2.0)\n",
    "\n",
    "with asdf.AsdfFile() as af:\n",
    "    af[\"ellipse\"] = ellipse\n",
    "    af.write_to(\"ellipse.asdf\")"
   ]
  },
  {
   "cell_type": "markdown",
   "metadata": {},
   "source": [
    "Let's examine the contents of the ASDF file and then read/compare them to our original object:"
   ]
  },
  {
   "cell_type": "code",
   "execution_count": 11,
   "metadata": {},
   "outputs": [
    {
     "name": "stdout",
     "output_type": "stream",
     "text": [
      "#ASDF 1.0.0\n",
      "#ASDF_STANDARD 1.5.0\n",
      "%YAML 1.1\n",
      "%TAG ! tag:stsci.edu:asdf/\n",
      "--- !core/asdf-1.1.0\n",
      "asdf_library: !core/software-1.0.0 {author: The ASDF Developers, homepage: 'http://github.com/asdf-format/asdf',\n",
      "  name: asdf, version: 2.12.0}\n",
      "history:\n",
      "  extensions:\n",
      "  - !core/extension_metadata-1.0.0\n",
      "    extension_class: asdf.extension.BuiltinExtension\n",
      "    software: !core/software-1.0.0 {name: asdf, version: 2.12.0}\n",
      "  - !core/extension_metadata-1.0.0 {extension_class: __main__.EllipseExtension, extension_uri: 'asdf://example.com/example-project/extensions/shapes-1.0.0'}\n",
      "ellipse: !<asdf://example.com/example-project/tags/ellipse-1.0.0> {semi_major: 1.0,\n",
      "  semi_minor: 2.0}\n",
      "...\n",
      "\n",
      "Ellipse(semi_major=1.0, semi_minor=2.0)\n"
     ]
    }
   ],
   "source": [
    "with open(\"ellipse.asdf\") as f:\n",
    "    print(f.read())\n",
    "\n",
    "with asdf.open(\"ellipse.asdf\") as af:\n",
    "    print(af[\"ellipse\"])\n",
    "    assert af[\"ellipse\"] == ellipse"
   ]
  },
  {
   "cell_type": "markdown",
   "metadata": {},
   "source": [
    "## Using Entry-Points to Automatically Extend ASDF\n",
    "\n",
    "Now lets move to implementing the above Extension as an automatically available resource for\n",
    "ASDF, much like the extensions found in `asdf-astropy`.\n",
    "\n",
    "Recall that in order for the extension to function, we must have the required schema and manifest\n",
    "\"resources\" available for ASDF to use. Only then can a functional extension can be added to ASDF.\n",
    "This means we need to:\n",
    "\n",
    "1. Package and add the resources to ASDF using an entry point\n",
    "2. Add the extension to ASDF using an entry point"
   ]
  },
  {
   "cell_type": "markdown",
   "metadata": {},
   "source": [
    "### Resources\n",
    "\n",
    "Normally we organize the resource files into a directory structure which can be parsed to form part\n",
    "of the URI (`id`) used for each resource document. This is done so that adding resources can be\n",
    "performed by ASDF by crawling these directory structures.\n",
    "\n",
    "Lets first take our two \"resources\" for `Ellipse` and turn them into these resource files:"
   ]
  },
  {
   "cell_type": "code",
   "execution_count": 12,
   "metadata": {},
   "outputs": [],
   "source": [
    "schema_root = \"resources/schemas\"\n",
    "manifest_root = \"resources/manifests\"\n",
    "\n",
    "os.makedirs(schema_root, exist_ok=True)\n",
    "os.makedirs(manifest_root, exist_ok=True)\n",
    "\n",
    "with open(f\"{schema_root}/ellipse-1.0.0.yaml\", \"w\") as f:\n",
    "    f.write(ellipse_schema_content)\n",
    "\n",
    "with open(f\"{manifest_root}/shapes-1.0.0.yaml\", \"w\") as f:\n",
    "    f.write(ellipse_manifest_content)"
   ]
  },
  {
   "cell_type": "markdown",
   "metadata": {},
   "source": [
    "\n",
    "ASDF provides the `asdf.resource.DirectoryResourceMapping` object to crawl resource directories.\n",
    "It allows us to turn these directory structures into objects which can subsequently be added to\n",
    "ASDF using the entry points.\n",
    "\n",
    "These objects require two input parameters:\n",
    "1. A path to the root directory which contains the resources to be added.\n",
    "2. The prefix that will be used together with the file names to generate the URI\n",
    "for the resource in question.\n",
    "\n",
    "There are some optional inputs:\n",
    "1. `recursive`: (default `False`) which determines if the object will search recursively through\n",
    "subdirectories.\n",
    "2. `filename_pattern`: (default: `*.yaml`) Glob pattern for the files that should be added.\n",
    "3. `stem_filename`: (default: `True`) determine if the file extension should be removed when creating\n",
    "the URI.\n",
    "\n",
    "In this case we do not need to set any of the file, here we need to do only the following:"
   ]
  },
  {
   "cell_type": "code",
   "execution_count": 13,
   "metadata": {},
   "outputs": [],
   "source": [
    "schema_prefix = \"asdf://example.com/example-project/schemas/\"\n",
    "schema_mapping = asdf.resource.DirectoryResourceMapping(schema_root, schema_prefix)\n",
    "\n",
    "manifest_prefix = \"asdf://example.com/example-project/manifests/\"\n",
    "manifest_mapping = asdf.resource.DirectoryResourceMapping(\n",
    "    manifest_root, manifest_prefix\n",
    ")"
   ]
  },
  {
   "cell_type": "markdown",
   "metadata": {},
   "source": [
    "Now these \"mapping\" objects can be returned as elements of a list by a function, which\n",
    "we will later reference when writing our entry point:"
   ]
  },
  {
   "cell_type": "code",
   "execution_count": 14,
   "metadata": {},
   "outputs": [],
   "source": [
    "# In module asdf_shapes.integration\n",
    "def get_resource_mappings():\n",
    "    return [schema_mapping, manifest_mapping]"
   ]
  },
  {
   "cell_type": "markdown",
   "metadata": {},
   "source": [
    "Then in the `setup.cfg` for your package you can define a section `[options.entry_points]` which defines\n",
    "an `asdf.resource_mappings` entry point as follows:\n",
    "\n",
    "```\n",
    "[options.entry_points]\n",
    "asdf.resource_mappings =\n",
    "    asdf_shapes_schemas = asdf_shapes.integration:get_resource_mappings\n",
    "```\n",
    "\n",
    "Once installing your package, these resources would be available to ASDF without any direct intervention\n",
    "on the user's part (i.e. `add_resource_mapping` calls are unnecessary)."
   ]
  },
  {
   "cell_type": "markdown",
   "metadata": {},
   "source": [
    "### Extensions\n",
    "\n",
    "Since Extensions are pure python objects there is not as much boiler plate needed in order\n",
    "to conveniently add them to ASDF using entry points. Indeed, one only needs to return all\n",
    "the extensions as elements of a list via a function, as we did for resources (though it\n",
    "needs to be a different function):"
   ]
  },
  {
   "cell_type": "code",
   "execution_count": 15,
   "metadata": {},
   "outputs": [],
   "source": [
    "# In module asdf_shapes.integration\n",
    "def get_extensions():\n",
    "    return [EllipseExtension()]"
   ]
  },
  {
   "cell_type": "markdown",
   "metadata": {},
   "source": [
    "Then we add a different entry point in the `setup.cfg` under `asdf.extensions`, giving us:\n",
    "\n",
    "```\n",
    "[options.entry_points]\n",
    "asdf.resource_mappings =\n",
    "    asdf_shapes_schemas = asdf_shapes.integration:get_resource_mappings\n",
    "asdf.extensions =\n",
    "    asdf_shapes_extensions = asdf_shapes.integration:get_extensions\n",
    "```\n",
    "\n",
    "Once installing your package with the above entry points, ASDF will then be able to seamlessly\n",
    "handle reading and writing the Python objects you created extensions for."
   ]
  }
 ],
 "metadata": {
  "kernelspec": {
   "display_name": "Python 3.10.4",
   "language": "python",
   "name": "python3"
  },
  "language_info": {
   "codemirror_mode": {
    "name": "ipython",
    "version": 3
   },
   "file_extension": ".py",
   "mimetype": "text/x-python",
   "name": "python",
   "nbconvert_exporter": "python",
   "pygments_lexer": "ipython3",
   "version": "3.10.4"
  },
  "orig_nbformat": 4,
  "vscode": {
   "interpreter": {
    "hash": "c54ecae8f3b9a546603254558bcb3ca9dea5c7af451a66a7914c053836710349"
   }
  }
 },
 "nbformat": 4,
 "nbformat_minor": 2
}
