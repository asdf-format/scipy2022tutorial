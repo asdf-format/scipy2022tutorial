{
 "cells": [
  {
   "cell_type": "code",
   "execution_count": 1,
   "id": "dc019178-3cfa-4549-b0a8-fa8693016266",
   "metadata": {},
   "outputs": [],
   "source": [
    "import asdf\n",
    "import numpy as np"
   ]
  },
  {
   "cell_type": "markdown",
   "id": "3a9850b0-7e5f-42b6-aa18-e2f03708a14b",
   "metadata": {},
   "source": [
    "# Introduction\n",
    "\n",
    "ASDF files store their information using a tree structure. This allows the stored information be be\n",
    "hierarchically organized within the file. Without any extensions, this tree is a nested combination\n",
    "of basic data structures: maps, lists, arrays, strings, and numbers. In Python these types correspond\n",
    "to `dict`, `list`, `np.ndarray`, `str`, and `int`, `float`, `complex`. Where `np.ndarray` is treated in\n",
    "a special way. These data types can be extended to other types and objects using extensions.\n",
    "\n",
    "In the ASDF python library, this tree can be created using a Python dictionary using key/value pairs.\n",
    "Indeed, one can interact with any `AsdfFile` tree as if it were a dictionary. Note that due to limits\n",
    "imposed by Python, keys must be `bool`, `int`, or `str` types only, while data information can be any\n",
    "of the above data types.\n",
    "\n",
    "# Creating ASDF files using basic python types\n",
    "\n",
    "Lets first create an ASDF file with the key/value pair `\"hello\": \"world\"`:"
   ]
  },
  {
   "cell_type": "code",
   "execution_count": 2,
   "id": "e0cbe5a2-ff64-43ac-9c41-ad354d45977f",
   "metadata": {},
   "outputs": [
    {
     "data": {
      "text/plain": [
       "'world'"
      ]
     },
     "execution_count": 2,
     "metadata": {},
     "output_type": "execute_result"
    }
   ],
   "source": [
    "tree = {\"hello\": \"world\"}\n",
    "ff = asdf.AsdfFile(tree)\n",
    "ff.write_to(\"hello.asdf\")\n",
    "ff[\"hello\"]"
   ]
  },
  {
   "cell_type": "markdown",
   "id": "63ca8aed-aa2c-4e5f-be4c-7dfd0b0cfd67",
   "metadata": {},
   "source": [
    "Open the `hello.asdf` file in your favorite text editor. You should see a something that looks like:"
   ]
  },
  {
   "cell_type": "code",
   "execution_count": 3,
   "id": "7954d9bc",
   "metadata": {},
   "outputs": [
    {
     "name": "stdout",
     "output_type": "stream",
     "text": [
      "#ASDF 1.0.0\n",
      "#ASDF_STANDARD 1.5.0\n",
      "%YAML 1.1\n",
      "%TAG ! tag:stsci.edu:asdf/\n",
      "--- !core/asdf-1.1.0\n",
      "asdf_library: !core/software-1.0.0 {author: The ASDF Developers, homepage: 'http://github.com/asdf-format/asdf',\n",
      "  name: asdf, version: 2.12.0}\n",
      "history:\n",
      "  extensions:\n",
      "  - !core/extension_metadata-1.0.0\n",
      "    extension_class: asdf.extension.BuiltinExtension\n",
      "    software: !core/software-1.0.0 {name: asdf, version: 2.12.0}\n",
      "hello: world\n",
      "...\n",
      "\n"
     ]
    }
   ],
   "source": [
    "with open(\"hello.asdf\", \"r\") as f:\n",
    "    print(f.read())"
   ]
  },
  {
   "cell_type": "markdown",
   "id": "e20e2abe",
   "metadata": {},
   "source": [
    "Notice that the file contains more information than just the `\"hello\": \"world\"` key value that we\n",
    "entered. It contains information on the library used to create the file under `asdf_library`, and\n",
    "information on what the ASDF library needs (schemas, extensions, etc.) to deserialize the stored \n",
    "data under `history`. \n",
    "\n",
    "Next lets create a file that stores information using all the other basic python types\n",
    "(avoiding arrays for now):"
   ]
  },
  {
   "cell_type": "code",
   "execution_count": 4,
   "id": "f04312fc-bed2-4114-9e88-c7271a6bb4af",
   "metadata": {},
   "outputs": [],
   "source": [
    "tree = {\n",
    "    \"hello\": \"world\",\n",
    "    \"foo\": 42,\n",
    "    \"bar\": 3.14,\n",
    "    \"imaginary\": complex(2, 3),\n",
    "    \"animals\": [\"cat\", \"dog\", \"bird\"],\n",
    "    \"data\": {\"mean\": 3.14, \"std\": 2.71},\n",
    "}\n",
    "ff = asdf.AsdfFile(tree)\n",
    "ff.write_to(\"example.asdf\")"
   ]
  },
  {
   "cell_type": "markdown",
   "id": "8c681968-f93c-42bf-a7cd-a239999f141e",
   "metadata": {},
   "source": [
    "Now open `example.asdf` in your text editor. You should see something like:"
   ]
  },
  {
   "cell_type": "code",
   "execution_count": 5,
   "id": "c9794cf9",
   "metadata": {},
   "outputs": [
    {
     "name": "stdout",
     "output_type": "stream",
     "text": [
      "#ASDF 1.0.0\n",
      "#ASDF_STANDARD 1.5.0\n",
      "%YAML 1.1\n",
      "%TAG ! tag:stsci.edu:asdf/\n",
      "--- !core/asdf-1.1.0\n",
      "asdf_library: !core/software-1.0.0 {author: The ASDF Developers, homepage: 'http://github.com/asdf-format/asdf',\n",
      "  name: asdf, version: 2.12.0}\n",
      "history:\n",
      "  extensions:\n",
      "  - !core/extension_metadata-1.0.0\n",
      "    extension_class: asdf.extension.BuiltinExtension\n",
      "    software: !core/software-1.0.0 {name: asdf, version: 2.12.0}\n",
      "animals: [cat, dog, bird]\n",
      "bar: 3.14\n",
      "data: {mean: 3.14, std: 2.71}\n",
      "foo: 42\n",
      "hello: world\n",
      "imaginary: !core/complex-1.0.0 (2+3j)\n",
      "...\n",
      "\n"
     ]
    }
   ],
   "source": [
    "with open(\"example.asdf\", \"r\") as f:\n",
    "    print(f.read())"
   ]
  },
  {
   "cell_type": "markdown",
   "id": "b0e2ec83",
   "metadata": {},
   "source": [
    "Again observe that all the data we added to our tree is contained within our asdf file. Notice in\n",
    "particular the `imaginary` data now has a yaml tag denoting that the data is a complex number, this\n",
    "tag will be used by ASDF to correctly deserialize this data as a `complex` type later.\n",
    "\n",
    "## Updating your ASDF files\n",
    "\n",
    "Recall that opening ASDF files can be simply done with the `asdf.open` command much like the standard\n",
    "Python `open` command, with the exception that one must explicitly use the `mode` keyword to specify\n",
    "the open method\n",
    "\n",
    "For example:"
   ]
  },
  {
   "cell_type": "code",
   "execution_count": 6,
   "id": "b81cd3aa-b499-4bcf-a1f0-6f71d4cfa701",
   "metadata": {},
   "outputs": [
    {
     "name": "stdout",
     "output_type": "stream",
     "text": [
      "af[\"hello\"]='world'\n",
      "af[\"foo\"]=42\n",
      "af[\"bar\"]=3.14\n",
      "af[\"imaginary\"]=(2+3j)\n",
      "af[\"animals\"]=['cat', 'dog', 'bird']\n",
      "af[\"data\"]={'mean': 3.14, 'std': 2.71}\n"
     ]
    }
   ],
   "source": [
    "with asdf.open(\"example.asdf\") as af:\n",
    "    print(f'{af[\"hello\"]=}')\n",
    "    print(f'{af[\"foo\"]=}')\n",
    "    print(f'{af[\"bar\"]=}')\n",
    "    print(f'{af[\"imaginary\"]=}')\n",
    "    print(f'{af[\"animals\"]=}')\n",
    "    print(f'{af[\"data\"]=}')"
   ]
  },
  {
   "cell_type": "markdown",
   "id": "b986ad68-2824-4adb-b2f5-600f86a379e9",
   "metadata": {},
   "source": [
    "ASDF files can also be updated in the in a similar way. This time by opening the\n",
    "file as writable and calling the `update` method:"
   ]
  },
  {
   "cell_type": "code",
   "execution_count": 7,
   "id": "eb875226-9402-4aae-a2a0-f0d5fe9d9c77",
   "metadata": {},
   "outputs": [],
   "source": [
    "with asdf.open(\"example.asdf\", mode=\"rw\") as af:\n",
    "    af[\"new\"] = \"cool new stuff\"\n",
    "    af.update()"
   ]
  },
  {
   "cell_type": "code",
   "execution_count": 8,
   "id": "62ae8042",
   "metadata": {},
   "outputs": [
    {
     "name": "stdout",
     "output_type": "stream",
     "text": [
      "#ASDF 1.0.0\n",
      "#ASDF_STANDARD 1.5.0\n",
      "%YAML 1.1\n",
      "%TAG ! tag:stsci.edu:asdf/\n",
      "--- !core/asdf-1.1.0\n",
      "asdf_library: !core/software-1.0.0 {author: The ASDF Developers, homepage: 'http://github.com/asdf-format/asdf',\n",
      "  name: asdf, version: 2.12.0}\n",
      "history:\n",
      "  extensions:\n",
      "  - !core/extension_metadata-1.0.0\n",
      "    extension_class: asdf.extension.BuiltinExtension\n",
      "    software: !core/software-1.0.0 {name: asdf, version: 2.12.0}\n",
      "animals: [cat, dog, bird]\n",
      "bar: 3.14\n",
      "data: {mean: 3.14, std: 2.71}\n",
      "foo: 42\n",
      "hello: world\n",
      "imaginary: !core/complex-1.0.0 (2+3j)\n",
      "new: cool new stuff\n",
      "...\n",
      "\n"
     ]
    }
   ],
   "source": [
    "with open(\"example.asdf\", \"r\") as f:\n",
    "    print(f.read())"
   ]
  },
  {
   "cell_type": "markdown",
   "id": "2b92717c-c619-4072-afec-ab44ddad97c3",
   "metadata": {},
   "source": [
    "# Creating ASDF files with numpy arrays\n",
    "\n",
    "Beyond the maps, lists, strings, and numbers built into Python, ASDF can save arrays, in particular\n",
    "numpy arrays (`nd.array`). Indeed, much of ASDF is dedicated to efficiently saving arrays.\n",
    "\n",
    "For example if suppose we want to save a random 8x8 numpy array:"
   ]
  },
  {
   "cell_type": "code",
   "execution_count": 9,
   "id": "873a50b3-258f-49ee-96ef-5cc8ac29ad0f",
   "metadata": {},
   "outputs": [],
   "source": [
    "tree = {\"random_array\": np.random.rand(8, 8)}\n",
    "ff = asdf.AsdfFile(tree)\n",
    "ff.write_to(\"random.asdf\")"
   ]
  },
  {
   "cell_type": "markdown",
   "id": "7419f8d1-7986-465d-8203-295e26a78a33",
   "metadata": {},
   "source": [
    "Now opening this file in your text editor will result in something like:"
   ]
  },
  {
   "cell_type": "code",
   "execution_count": 10,
   "id": "67a56453",
   "metadata": {},
   "outputs": [
    {
     "name": "stdout",
     "output_type": "stream",
     "text": [
      "#ASDF 1.0.0\n",
      "#ASDF_STANDARD 1.5.0\n",
      "%YAML 1.1\n",
      "%TAG ! tag:stsci.edu:asdf/\n",
      "--- !core/asdf-1.1.0\n",
      "asdf_library: !core/software-1.0.0 {author: The ASDF Developers, homepage: 'http://github.com/asdf-format/asdf',\n",
      "  name: asdf, version: 2.12.0}\n",
      "history:\n",
      "  extensions:\n",
      "  - !core/extension_metadata-1.0.0\n",
      "    extension_class: asdf.extension.BuiltinExtension\n",
      "    software: !core/software-1.0.0 {name: asdf, version: 2.12.0}\n",
      "random_array: !core/ndarray-1.0.0\n",
      "  source: 0\n",
      "  datatype: float64\n",
      "  byteorder: little\n",
      "  shape: [8, 8]\n",
      "...\n",
      "ÓBLK\u00000\u0000\u0000\u0000\u0000\u0000\u0000\u0000\u0000\u0000\u0000\u0000\u0000\u0000\u0000\u0002\u0000\u0000\u0000\u0000\u0000\u0000\u0000\u0002\u0000\u0000\u0000\u0000\u0000\u0000\u0000\u0002\u0000ÔQÞÑ¬h¬ÄP#X,¨h\u0000ö#\\8¨ðí?8­þFR\u0004á?¶ë¸Ö>ãÕ?×LÏ\u0006ë?\\NÍðÉá?_L\u0011M\\â?SQÍuºà?÷µ±¦è?zj\u0000ÅR¹ä?\u0015è¬ïY\u001fè?(8\u001f¤ÒÏ?\u0015Ôz:çä? \u0013¸(,Þ? L×o´Å?ü9ÚìýJÒ?b\u0013O\u0012ß?æz\tÿNHÙ?SÜ`#\u0002½ë?¬LNÌ¦á?À4Æ Ñ?,ë\u0002¸¼\u0018ß? È\u0012¹/rå?@WûG7x?\u000fG# Ü?ÐÀà®Zºç?W|\u0006prë?ê\u0003S\u001eà?­É\f~\u0018ã?x¯0aÃ|î?Vé#ù,cà?¹\n",
      "FFî?\u0007k»^Eê?öPSO8îà?\u0014I^_¬Æ?\u00062\u000bk±ré?xã¸­Ã?4E¸ìÖÔ?Kc$«C­ä?Ì\u001bÐÁ\tEÌ?xÙ\u0004?Ä?øÓ\fJ2¥é?ä¼(mÍÎ?Ne÷DJ«á?l/v\u0010¸·É?XK.·û½?Ð\u0012ÿ÷««?O\u0010=Zò%ì?(\u0002,ÞÈ?qSõ;®Ê?Á¨mR{ä?à/ÿâH?¨*Á](À?Ì5.SøÄ?{i2ÎVZí?vCmM>ÔÝ?\u001d]¯Pæ\u0018â?þ¨|Çî\u001eá?¸\u0015y@í?oÇVôÄ?y]ç­ôÍë?5þNðà?õ¦×[º å?¯åF^N§? îª2?#ASDF BLOCK INDEX\n",
      "%YAML 1.1\n",
      "---\n",
      "- 517\n",
      "...\n",
      "\n"
     ]
    }
   ],
   "source": [
    "with open(\"random.asdf\", \"r\", encoding=\"unicode_escape\") as f:\n",
    "    print(f.read())"
   ]
  },
  {
   "cell_type": "markdown",
   "id": "b386f241",
   "metadata": {},
   "source": [
    "Observe that at the end of the file that there is apparently some binary data. This binary data contains the information\n",
    "in the random array we wrote. Indeed, when ASDF writes arrays to the file it stores them as binary data in a block after\n",
    "the YAML section of the file rather in the section itself. Note that `random_array` in the YAML section stores some\n",
    "information about the nature of the array and includes the `source` key. This `source` value references which binary block \n",
    "(in this case block `0`) the data is stored in.\n",
    "\n",
    "Indeed if we update the file with another array to the file we get a second block:"
   ]
  },
  {
   "cell_type": "code",
   "execution_count": 11,
   "id": "73d8e212-11d1-4cb5-a299-5acfc34ca9c0",
   "metadata": {},
   "outputs": [],
   "source": [
    "with asdf.open(\"random.asdf\", mode=\"rw\") as ff:\n",
    "    ff.tree.update({\"new_array\": np.random.rand(10, 10)})\n",
    "    ff.update()"
   ]
  },
  {
   "cell_type": "markdown",
   "id": "66dae048-2f0d-4879-a8ea-c5fd18b7e161",
   "metadata": {},
   "source": [
    "Opening `random.asdf` in your text editor will give something like:"
   ]
  },
  {
   "cell_type": "code",
   "execution_count": 12,
   "id": "6a51f74d",
   "metadata": {},
   "outputs": [
    {
     "name": "stdout",
     "output_type": "stream",
     "text": [
      "#ASDF 1.0.0\n",
      "#ASDF_STANDARD 1.5.0\n",
      "%YAML 1.1\n",
      "%TAG ! tag:stsci.edu:asdf/\n",
      "--- !core/asdf-1.1.0\n",
      "asdf_library: !core/software-1.0.0 {author: The ASDF Developers, homepage: 'http://github.com/asdf-format/asdf',\n",
      "  name: asdf, version: 2.12.0}\n",
      "history:\n",
      "  extensions:\n",
      "  - !core/extension_metadata-1.0.0\n",
      "    extension_class: asdf.extension.BuiltinExtension\n",
      "    software: !core/software-1.0.0 {name: asdf, version: 2.12.0}\n",
      "new_array: !core/ndarray-1.0.0\n",
      "  source: 1\n",
      "  datatype: float64\n",
      "  byteorder: little\n",
      "  shape: [10, 10]\n",
      "random_array: !core/ndarray-1.0.0\n",
      "  source: 0\n",
      "  datatype: float64\n",
      "  byteorder: little\n",
      "  shape: [8, 8]\n",
      "...\n",
      "ÓBLK\u00000\u0000\u0000\u0000\u0000\u0000\u0000\u0000\u0000\u0000\u0000\u0000\u0000\u0000\u0000\u0002\u0000\u0000\u0000\u0000\u0000\u0000\u0000\u0002\u0000\u0000\u0000\u0000\u0000\u0000\u0000\u0002\u0000ÔQÞÑ¬h¬ÄP#X,¨h\u0000ö#\\8¨ðí?8­þFR\u0004á?¶ë¸Ö>ãÕ?×LÏ\u0006ë?\\NÍðÉá?_L\u0011M\\â?SQÍuºà?÷µ±¦è?zj\u0000ÅR¹ä?\u0015è¬ïY\u001fè?(8\u001f¤ÒÏ?\u0015Ôz:çä? \u0013¸(,Þ? L×o´Å?ü9ÚìýJÒ?b\u0013O\u0012ß?æz\tÿNHÙ?SÜ`#\u0002½ë?¬LNÌ¦á?À4Æ Ñ?,ë\u0002¸¼\u0018ß? È\u0012¹/rå?@WûG7x?\u000fG# Ü?ÐÀà®Zºç?W|\u0006prë?ê\u0003S\u001eà?­É\f~\u0018ã?x¯0aÃ|î?Vé#ù,cà?¹\n",
      "FFî?\u0007k»^Eê?öPSO8îà?\u0014I^_¬Æ?\u00062\u000bk±ré?xã¸­Ã?4E¸ìÖÔ?Kc$«C­ä?Ì\u001bÐÁ\tEÌ?xÙ\u0004?Ä?øÓ\fJ2¥é?ä¼(mÍÎ?Ne÷DJ«á?l/v\u0010¸·É?XK.·û½?Ð\u0012ÿ÷««?O\u0010=Zò%ì?(\u0002,ÞÈ?qSõ;®Ê?Á¨mR{ä?à/ÿâH?¨*Á](À?Ì5.SøÄ?{i2ÎVZí?vCmM>ÔÝ?\u001d]¯Pæ\u0018â?þ¨|Çî\u001eá?¸\u0015y@í?oÇVôÄ?y]ç­ôÍë?5þNðà?õ¦×[º å?¯åF^N§? îª2?ÓBLK\u00000\u0000\u0000\u0000\u0000\u0000\u0000\u0000\u0000\u0000\u0000\u0000\u0000\u0000\u0000\u0003 \u0000\u0000\u0000\u0000\u0000\u0000\u0003 \u0000\u0000\u0000\u0000\u0000\u0000\u0003 ´MÊ\u0011ÄESÝ\t(½©~¦»\t, î=\u0003Í?B©\u001e9lê?\u0000U KÔÜ?û»\u0003[áè?BúPû\u0006å?(øÖcþÔ?à[|<Ö?P®X·7®ê?d±sfà?\u000f\"mBÒ²å?Æ£²;¹Ü?@3IòÅ?@G K/»?Í\u0013p6«¬å?Ì±\u001eÎ\u000ejÀ?Ð\u0006èÙÔ?ù\u0017À¹\u0001ï?(\u0013ü0Íî?öÂU\f×?`\u0016ql¡_Á?\u0016\u000b±¡òéÜ?âûþÅKà?}Üá¢\u0019\u001fé?OËoro²ï?Õa>ÆMÑ?¤Íüht?\n",
      "Xú\u0015¥RÕ?£Ë0zä?dyVä,»Ã?Å^Í¥=àâ?SK©;é?(A]rlY¾?p0\u0014|\u001a§?RÂã&(7Û?ÃL5pºï?®øãáªþß?\u000e&\f\u001d8XÕ?ÒFQï\u000f©ã?Èâ½ßóÜ?Æ¹!\u000e\n",
      ",ï?\n",
      ";g3Ø\u0011å?ÈÞCè¹ª´?¹\u000bpâ²Ó?`\u0016§l\u0001ê?LSnþÙ?SÜöSñ\u001eê?q\u001fc©ljå\u001f\u0018®èÎ?v\u001c\tçÀï?åk3¬¦ì?h¸k\u0004ü·?óæ\u0018¥è?´D¨Hê?Ô¼H²\u000fîÃ?CvþãËí?<ßJhE\u001aé?V Z#Á¹Þ?TrôîÆ*ã?<©b\n",
      "Ö?nßn^XÚ?ÔP¶e1~ë?\u0011îÓÃÝè?pò©b\u000fÏÐ?\\µ|ËÜGÏ?UÜbaÙ%ã?\u0012×ïîDæ?IE0í?órÃ\u000f'ï?V\u0016í\u0015æï?Ç¨(¸ï?\n",
      "u|Ë\u0002í?<Çh\u0004.|à?kÚLäÇ\u001aá?\u0016\u001dªôÚÁ?JD´\u001d|\n",
      "Ø?\n",
      "}&ÕzjÞ?~`\u0018£_¥Û?H6Ì\u000fÂ\u0014¸?\u001adÞ[;\u000b×?ðþÎ\\\u0014Ó?|Dv©\u0013Ô?\u000bC¢Væ?V±UÂ\u0019Oá?o:¬@VYã?\u0011\u0000\u001f\u001a'\u000bê?WE9Nê?\u0018DA&\u0016½?fÓÈ\u0017^Jë?q\u0006eSIæ?<DâFÇ7Í?\u0017ºNQËì?%*ZÊç?øQF¦\u000bÌÈ?TNÚ%p¹Ï?èk\u001a&OÙ?ìÂÌ2~è?¼;PÇâWÉ?Xy\u0013´Àõí?x{i?g¾?\u0010±\u0003K¦?#ASDF BLOCK INDEX\n",
      "%YAML 1.1\n",
      "---\n",
      "- 618\n",
      "- 1184\n",
      "...\n",
      "\n"
     ]
    }
   ],
   "source": [
    "with open(\"random.asdf\", \"r\", encoding=\"unicode_escape\") as f:\n",
    "    print(f.read())"
   ]
  },
  {
   "cell_type": "markdown",
   "id": "a7753281",
   "metadata": {},
   "source": [
    "This now has a `new_array` key, which contains a second `source: 1` meaning there is a second binary block.\n",
    "\n",
    "Now observe that ASDF is smart about storing arrays as binary data; meaning that, if arrays are shared between\n",
    "entries in the tree, the same binary block is used. Indeed, this extends to sharing views on the data:"
   ]
  },
  {
   "cell_type": "code",
   "execution_count": 13,
   "id": "ec8c8c81-c29d-4682-add3-bbb2abdd3282",
   "metadata": {},
   "outputs": [],
   "source": [
    "duplicated_array = np.random.rand(8, 8)\n",
    "multi_view_array = np.random.rand(8, 8)\n",
    "tree = {\n",
    "    \"duplicated_array_0\": duplicated_array,\n",
    "    \"duplicated_array_1\": duplicated_array,\n",
    "    \"multi_view_array\": multi_view_array,\n",
    "    \"new_view\": multi_view_array[2:4, 3:6],\n",
    "}\n",
    "with asdf.open(\"random.asdf\", mode=\"rw\") as ff:\n",
    "    ff.tree.update(tree)\n",
    "    ff.update()"
   ]
  },
  {
   "cell_type": "markdown",
   "id": "82710797-0dab-48c3-9f2b-5019d0b7a5e4",
   "metadata": {},
   "source": [
    "Opening `random.asdf` in your text editor once again gives something like:"
   ]
  },
  {
   "cell_type": "code",
   "execution_count": 14,
   "id": "ed6c1d2f",
   "metadata": {},
   "outputs": [
    {
     "name": "stdout",
     "output_type": "stream",
     "text": [
      "#ASDF 1.0.0\n",
      "#ASDF_STANDARD 1.5.0\n",
      "%YAML 1.1\n",
      "%TAG ! tag:stsci.edu:asdf/\n",
      "--- !core/asdf-1.1.0\n",
      "asdf_library: !core/software-1.0.0 {author: The ASDF Developers, homepage: 'http://github.com/asdf-format/asdf',\n",
      "  name: asdf, version: 2.12.0}\n",
      "history:\n",
      "  extensions:\n",
      "  - !core/extension_metadata-1.0.0\n",
      "    extension_class: asdf.extension.BuiltinExtension\n",
      "    software: !core/software-1.0.0 {name: asdf, version: 2.12.0}\n",
      "duplicated_array_0: &id001 !core/ndarray-1.0.0\n",
      "  source: 3\n",
      "  datatype: float64\n",
      "  byteorder: little\n",
      "  shape: [8, 8]\n",
      "duplicated_array_1: *id001\n",
      "multi_view_array: !core/ndarray-1.0.0\n",
      "  source: 2\n",
      "  datatype: float64\n",
      "  byteorder: little\n",
      "  shape: [8, 8]\n",
      "new_array: !core/ndarray-1.0.0\n",
      "  source: 0\n",
      "  datatype: float64\n",
      "  byteorder: little\n",
      "  shape: [10, 10]\n",
      "new_view: !core/ndarray-1.0.0\n",
      "  source: 2\n",
      "  datatype: float64\n",
      "  byteorder: little\n",
      "  shape: [2, 3]\n",
      "  offset: 152\n",
      "  strides: [64, 8]\n",
      "random_array: !core/ndarray-1.0.0\n",
      "  source: 1\n",
      "  datatype: float64\n",
      "  byteorder: little\n",
      "  shape: [8, 8]\n",
      "...\n",
      "\u0000\u0000\u0000\u0000\u0000\u0000\u0000\u0000\u0000\u0000\u0000\u0000\u0000\u0000\u0000\u0000\u0000\u0000\u0000\u0000\u0000\u0000\u0000\u0000\u0000\u0000\u0000\u0000\u0000\u0000\u0000\u0000\u0000\u0000\u0000\u0000\u0000\u0000\u0000\u0000\u0000\u0000\u0000\u0000\u0000\u0000\u0000\u0000\u0000\u0000\u0000\u0000\u0000\u0000\u0000\u0000\u0000\u0000\u0000\u0000\u0000\u0000\u0000\u0000\u0000\u0000\u0000\u0000\u0000\u0000\u0000\u0000\u0000\u0000\u0000\u0000\u0000\u0000\u0000\u0000\u0000\u0000\u0000\u0000\u0000\u0000\u0000\u0000\u0000\u0000\u0000\u0000\u0000\u0000\u0000\u0000\u0000\u0000\u0000\u0000\u0000\u0000\u0000\u0000\u0000\u0000\u0000\u0000\u0000\u0000\u0000\u0000\u0000\u0000\u0000\u0000\u0000\u0000\u0000\u0000\u0000\u0000\u0000\u0000\u0000\u0000\u0000\u0000\u0000\u0000\u0000\u0000\u0000\u0000\u0000\u0000\u0000\u0000\u0000\u0000\u0000\u0000\u0000\u0000\u0000\u0000\u0000\u0000\u0000\u0000\u0000\u0000\u0000\u0000\u0000\u0000\u0000\u0000\u0000\u0000\u0000\u0000\u0000\u0000\u0000\u0000\u0000\u0000\u0000\u0000\u0000\u0000\u0000\u0000\u0000\u0000\u0000\u0000\u0000\u0000\u0000\u0000\u0000\u0000\u0000\u0000\u0000ÓBLK\u00000\u0000\u0000\u0000\u0000\u0000\u0000\u0000\u0000\u0000\u0000\u0000\u0000\u0000\u0000\u0003 \u0000\u0000\u0000\u0000\u0000\u0000\u0003 \u0000\u0000\u0000\u0000\u0000\u0000\u0003 ´MÊ\u0011ÄESÝ\t(½©~¦»\t, î=\u0003Í?B©\u001e9lê?\u0000U KÔÜ?û»\u0003[áè?BúPû\u0006å?(øÖcþÔ?à[|<Ö?P®X·7®ê?d±sfà?\u000f\"mBÒ²å?Æ£²;¹Ü?@3IòÅ?@G K/»?Í\u0013p6«¬å?Ì±\u001eÎ\u000ejÀ?Ð\u0006èÙÔ?ù\u0017À¹\u0001ï?(\u0013ü0Íî?öÂU\f×?`\u0016ql¡_Á?\u0016\u000b±¡òéÜ?âûþÅKà?}Üá¢\u0019\u001fé?OËoro²ï?Õa>ÆMÑ?¤Íüht?\n",
      "Xú\u0015¥RÕ?£Ë0zä?dyVä,»Ã?Å^Í¥=àâ?SK©;é?(A]rlY¾?p0\u0014|\u001a§?RÂã&(7Û?ÃL5pºï?®øãáªþß?\u000e&\f\u001d8XÕ?ÒFQï\u000f©ã?Èâ½ßóÜ?Æ¹!\u000e\n",
      ",ï?\n",
      ";g3Ø\u0011å?ÈÞCè¹ª´?¹\u000bpâ²Ó?`\u0016§l\u0001ê?LSnþÙ?SÜöSñ\u001eê?q\u001fc©ljå\u001f\u0018®èÎ?v\u001c\tçÀï?åk3¬¦ì?h¸k\u0004ü·?óæ\u0018¥è?´D¨Hê?Ô¼H²\u000fîÃ?CvþãËí?<ßJhE\u001aé?V Z#Á¹Þ?TrôîÆ*ã?<©b\n",
      "Ö?nßn^XÚ?ÔP¶e1~ë?\u0011îÓÃÝè?pò©b\u000fÏÐ?\\µ|ËÜGÏ?UÜbaÙ%ã?\u0012×ïîDæ?IE0í?órÃ\u000f'ï?V\u0016í\u0015æï?Ç¨(¸ï?\n",
      "u|Ë\u0002í?<Çh\u0004.|à?kÚLäÇ\u001aá?\u0016\u001dªôÚÁ?JD´\u001d|\n",
      "Ø?\n",
      "}&ÕzjÞ?~`\u0018£_¥Û?H6Ì\u000fÂ\u0014¸?\u001adÞ[;\u000b×?ðþÎ\\\u0014Ó?|Dv©\u0013Ô?\u000bC¢Væ?V±UÂ\u0019Oá?o:¬@VYã?\u0011\u0000\u001f\u001a'\u000bê?WE9Nê?\u0018DA&\u0016½?fÓÈ\u0017^Jë?q\u0006eSIæ?<DâFÇ7Í?\u0017ºNQËì?%*ZÊç?øQF¦\u000bÌÈ?TNÚ%p¹Ï?èk\u001a&OÙ?ìÂÌ2~è?¼;PÇâWÉ?Xy\u0013´Àõí?x{i?g¾?\u0010±\u0003K¦?ÓBLK\u00000\u0000\u0000\u0000\u0000\u0000\u0000\u0000\u0000\u0000\u0000\u0000\u0000\u0000\u0000\u0002\u0000\u0000\u0000\u0000\u0000\u0000\u0000\u0002\u0000\u0000\u0000\u0000\u0000\u0000\u0000\u0002\u0000ÔQÞÑ¬h¬ÄP#X,¨h\u0000ö#\\8¨ðí?8­þFR\u0004á?¶ë¸Ö>ãÕ?×LÏ\u0006ë?\\NÍðÉá?_L\u0011M\\â?SQÍuºà?÷µ±¦è?zj\u0000ÅR¹ä?\u0015è¬ïY\u001fè?(8\u001f¤ÒÏ?\u0015Ôz:çä? \u0013¸(,Þ? L×o´Å?ü9ÚìýJÒ?b\u0013O\u0012ß?æz\tÿNHÙ?SÜ`#\u0002½ë?¬LNÌ¦á?À4Æ Ñ?,ë\u0002¸¼\u0018ß? È\u0012¹/rå?@WûG7x?\u000fG# Ü?ÐÀà®Zºç?W|\u0006prë?ê\u0003S\u001eà?­É\f~\u0018ã?x¯0aÃ|î?Vé#ù,cà?¹\n",
      "FFî?\u0007k»^Eê?öPSO8îà?\u0014I^_¬Æ?\u00062\u000bk±ré?xã¸­Ã?4E¸ìÖÔ?Kc$«C­ä?Ì\u001bÐÁ\tEÌ?xÙ\u0004?Ä?øÓ\fJ2¥é?ä¼(mÍÎ?Ne÷DJ«á?l/v\u0010¸·É?XK.·û½?Ð\u0012ÿ÷««?O\u0010=Zò%ì?(\u0002,ÞÈ?qSõ;®Ê?Á¨mR{ä?à/ÿâH?¨*Á](À?Ì5.SøÄ?{i2ÎVZí?vCmM>ÔÝ?\u001d]¯Pæ\u0018â?þ¨|Çî\u001eá?¸\u0015y@í?oÇVôÄ?y]ç­ôÍë?5þNðà?õ¦×[º å?¯åF^N§? îª2?ÓBLK\u00000\u0000\u0000\u0000\u0000\u0000\u0000\u0000\u0000\u0000\u0000\u0000\u0000\u0000\u0000\u0002\u0000\u0000\u0000\u0000\u0000\u0000\u0000\u0002\u0000\u0000\u0000\u0000\u0000\u0000\u0000\u0002\u0000/\u0013ÈýzÜÐ0[âi X¨\f_\u00056\u0006\u0014å?+ø\\Gà?\u0010³v)_É?ÀEI³ º?æVMY4ï?:ë¶u-å?\f'\u0016\n",
      "UÞ?¯b´À´?\u0015¯oô¸à?`Öä\u0004ÛBÓ?.kH¡¢~?ÿ¦ü¯»6ë?oÓ\u0014küê?`ªA9³¶æ?\f¡è~îÃ?\u0007ì¤áæ?¸ö\fLÜ?\\Û\u0002l\\á?ecÍàäá?{W²{Íç?Ø±à\u001aPÎ?\u0011åNÕ,ä?åz_°Õåç?¶[\u0004¢Ä\u0013å?P:HQÌ?Ì¾º\n",
      "ÐÒ?T»uµüß?Ñ\u0000Åf°©ì?j@å\\¼UÓ?3#Ñ/°ê?\u0000Û'W@&³?àXÃN{®?âR=ù¦zæ?¤õHÊÓ?R´dô²Uè?ð\u0003Æ^\u0015Ç?\u0004\u000e\u0015÷ÎÊÂ?p!9êBj½?\n",
      "»¯\u0001­é?\"%'\"Må?I\"^c°ì?V@KP_ß?Jµ#¤ènÙ?4³áïÒ?2ò\u001cï¡/Õ?\u000eÂ¢°^¿å?\"tléÑÿâ?DiGI\u0002Ò?D\u001d?\u001eã?ÔNQBïJØ?(­¼È?äÛÞi·?\u0007ç\u0017\u001e\"È?ëBvÐï?¡\u0001%yµ?\u001aÏ'ÉïOæ?0Âúu¢?óÊiýéà?nJ\u001a+éK® Ý?²Ax\u0012Öï?ØTò\\\u0014é?þ¨«¼Ìï?pÐ)\u0010Ö?ÓBLK\u00000\u0000\u0000\u0000\u0000\u0000\u0000\u0000\u0000\u0000\u0000\u0000\u0000\u0000\u0000\u00026\u0000\u0000\u0000\u0000\u0000\u0000\u0002\u0000\u0000\u0000\u0000\u0000\u0000\u0000\u0002\u0000\u0017òb\u0006j÷mNFýè÷|\u001câ£Ó,Û?1ÙJJ{\u0019ä?ó_}Ô§\u001eà??àÆaÍá?²¢x\t\u0006Ó?\u000fÙüovç?®¨\\_¬]Ù?ñ8qI~ë? Õ_\n",
      "s?à\n",
      "\u001fâÝ?8²ÉAã¾µ?è~(\u0005á°µ?^Í=To\u000fè?2\u0011D»{\u0011ë?óÅX\u0010wÓä?'iw\u0018¢æ?a;É?Tì?L1CSuì?\f÷¥á86Ç?\fß\u001a^ÒÄ?\u0011÷çN$à?ÊÍ¨ü\u001eÕ?Uþëß\u0016Ïæ?|\u0012a÷Dì?ø·;1î?Êwâ[±ß?DoñO-Ê?±§Oµ©ë??\f­Rhî?O*¢¯)Ûç?HÉ¶\u000f6Ð?v#É/½KÕ?Ø\t*ëOÐ¹?º\u0014ãvÜ?lÝ$þEôÞ?\u0012¿ð=FÚæ?ë:Þ×ï?Ø\u0013\u0010écÊ?ß9ÙÌá?ûl:åx[æ?r¥Có¦Éé?HQ\u0011åØ Ë?Â£ºO0\u000fë?¼ö±àÕ?Àó\u0014¥ÆØ?e*H\u0014òé?¹'${?ÜÕ¯ÏbÂ?)\u001b³\"â?p\n",
      "!ß\u000eÜ?\n",
      "çå*¢å?@ãMÛ³ë?¦²ù}ùp?8æéß\u0006Ê?$=mTä?¢\u0017¨\u0019\u0017ï?%Û\u000fÜHé?\u0004dÉÉÃ?·ÅÕ(æ?ò \u0012\u000eÉòæ?ö6\"b\tâ?L[è3 Éä?\u000b\u0012\u0004Kt~è?a\u0003\u0005¿6Øé?\u0000\u0000\u0000\u0000\u0000\u0000\u0000\u0000\u0000\u0000\u0000\u0000\u0000\u0000\u0000\u0000\u0000\u0000\u0000\u0000\u0000\u0000\u0000\u0000\u0000\u0000\u0000\u0000\u0000\u0000\u0000\u0000\u0000\u0000\u0000\u0000\u0000\u0000\u0000\u0000\u0000\u0000\u0000\u0000\u0000\u0000\u0000\u0000\u0000\u0000\u0000\u0000\u0000\u0000#ASDF BLOCK INDEX\n",
      "%YAML 1.1\n",
      "---\n",
      "- 1184\n",
      "- 2038\n",
      "- 2604\n",
      "- 3170\n",
      "...\n",
      "\n"
     ]
    }
   ],
   "source": [
    "with open(\"random.asdf\", \"r\", encoding=\"unicode_escape\") as f:\n",
    "    print(f.read())"
   ]
  },
  {
   "cell_type": "markdown",
   "id": "e0b1337e",
   "metadata": {},
   "source": [
    "First, note that `duplicated_array_1` simply listed using a yaml anchor which points to `duplicated_array_0`. Second,\n",
    "observe that the `source` in both `multi_view_array` and `new_array` are the same value (`2`) rather than distinct values.\n",
    "So ASDF did not unnecessary duplicate the binary data.\n",
    "\n",
    "# Serializing other objects\n",
    "\n",
    "The ASDF library supports writing extensions for objects outside of the ASDF-standard, which we will explain\n",
    "in detail in another lecture. Assuming that one has installed an ASDF extension to support some custom Python\n",
    "objects, ASDF will be able to seamlessly save those objects with no additional effort.\n",
    "\n",
    "For example, as part of the install for this course we installed the `asdf-astropy` package, which provides\n",
    "extensions for writing many `astropy` objects."
   ]
  },
  {
   "cell_type": "code",
   "execution_count": 15,
   "id": "fd2aaa84-bb61-40d9-9f7a-46c0f6cd594e",
   "metadata": {},
   "outputs": [],
   "source": [
    "import astropy\n",
    "\n",
    "quantity = 50 * astropy.units.m\n",
    "model = astropy.modeling.models.Gaussian2D(quantity, 2, 3, 4, 5)\n",
    "time = astropy.time.Time(\"J2000\")\n",
    "coord = astropy.coordinates.ICRS(ra=1 * astropy.units.deg, dec=2 * astropy.units.deg)\n",
    "\n",
    "tree = {\n",
    "    \"quantity\": quantity,\n",
    "    \"model\": model,\n",
    "    \"time\": time,\n",
    "    \"coord\": coord,\n",
    "}\n",
    "\n",
    "ff = asdf.AsdfFile(tree)\n",
    "ff.write_to(\"astropy.asdf\")"
   ]
  },
  {
   "cell_type": "markdown",
   "id": "89f36bff-59c2-4da8-90c5-1890d4daae16",
   "metadata": {},
   "source": [
    "Notice that since `asdf-astropy` was installed, no extra effort was required to write these objects\n",
    "even though they clearly fall outside the ASDF-standard objects we previously discussed.\n",
    "\n",
    "Moreover examining `astropy.asdf` in your text editor results in:"
   ]
  },
  {
   "cell_type": "code",
   "execution_count": 16,
   "id": "e11433ec",
   "metadata": {},
   "outputs": [
    {
     "name": "stdout",
     "output_type": "stream",
     "text": [
      "#ASDF 1.0.0\n",
      "#ASDF_STANDARD 1.5.0\n",
      "%YAML 1.1\n",
      "%TAG ! tag:stsci.edu:asdf/\n",
      "--- !core/asdf-1.1.0\n",
      "asdf_library: !core/software-1.0.0 {author: The ASDF Developers, homepage: 'http://github.com/asdf-format/asdf',\n",
      "  name: asdf, version: 2.12.0}\n",
      "history:\n",
      "  extensions:\n",
      "  - !core/extension_metadata-1.0.0\n",
      "    extension_class: asdf.extension.BuiltinExtension\n",
      "    software: !core/software-1.0.0 {name: asdf, version: 2.12.0}\n",
      "  - !core/extension_metadata-1.0.0\n",
      "    extension_class: asdf.extension._manifest.ManifestExtension\n",
      "    extension_uri: asdf://asdf-format.org/astronomy/coordinates/extensions/coordinates-1.0.0\n",
      "    software: !core/software-1.0.0 {name: asdf-astropy, version: 0.2.1}\n",
      "  - !core/extension_metadata-1.0.0\n",
      "    extension_class: asdf.extension._manifest.ManifestExtension\n",
      "    extension_uri: asdf://asdf-format.org/core/extensions/core-1.5.0\n",
      "    software: !core/software-1.0.0 {name: asdf-astropy, version: 0.2.1}\n",
      "  - !core/extension_metadata-1.0.0\n",
      "    extension_class: asdf.extension._manifest.ManifestExtension\n",
      "    extension_uri: asdf://asdf-format.org/transform/extensions/transform-1.5.0\n",
      "    software: !core/software-1.0.0 {name: asdf-astropy, version: 0.2.1}\n",
      "coord: !<tag:astropy.org:astropy/coordinates/frames/icrs-1.1.0>\n",
      "  data: !<tag:astropy.org:astropy/coordinates/representation-1.0.0>\n",
      "    components:\n",
      "      lat: !<tag:astropy.org:astropy/coordinates/latitude-1.0.0> {unit: !unit/unit-1.0.0 deg,\n",
      "        value: 2.0}\n",
      "      lon: !<tag:astropy.org:astropy/coordinates/longitude-1.0.0>\n",
      "        unit: !unit/unit-1.0.0 deg\n",
      "        value: 1.0\n",
      "        wrap_angle: !<tag:astropy.org:astropy/coordinates/angle-1.0.0> {unit: !unit/unit-1.0.0 deg,\n",
      "          value: 360.0}\n",
      "    type: UnitSphericalRepresentation\n",
      "  frame_attributes: {}\n",
      "model: !transform/gaussian2d-1.0.0\n",
      "  amplitude: !unit/quantity-1.1.0 {unit: !unit/unit-1.0.0 m, value: 50.0}\n",
      "  bounding_box:\n",
      "  - [-24.5, 30.5]\n",
      "  - [-20.0, 24.0]\n",
      "  bounds:\n",
      "    x_stddev: [1.1754943508222875e-38, null]\n",
      "    y_stddev: [1.1754943508222875e-38, null]\n",
      "  inputs: [x, y]\n",
      "  outputs: [z]\n",
      "  theta: 0.0\n",
      "  x_mean: 2.0\n",
      "  x_stddev: 4.0\n",
      "  y_mean: 3.0\n",
      "  y_stddev: 5.0\n",
      "quantity: !unit/quantity-1.1.0 {unit: !unit/unit-1.0.0 m, value: 50.0}\n",
      "time: !time/time-1.1.0 {scale: tt, value: J2000.000}\n",
      "...\n",
      "\n"
     ]
    }
   ],
   "source": [
    "with open(\"astropy.asdf\", \"r\", encoding=\"unicode_escape\") as f:\n",
    "    print(f.read())"
   ]
  },
  {
   "cell_type": "markdown",
   "id": "60e77faa",
   "metadata": {},
   "source": [
    "Which clearly shows that we were successful in saving all the `astropy` objects we intended to."
   ]
  }
 ],
 "metadata": {
  "kernelspec": {
   "display_name": "Python 3.10.4",
   "language": "python",
   "name": "python3"
  },
  "language_info": {
   "codemirror_mode": {
    "name": "ipython",
    "version": 3
   },
   "file_extension": ".py",
   "mimetype": "text/x-python",
   "name": "python",
   "nbconvert_exporter": "python",
   "pygments_lexer": "ipython3",
   "version": "3.10.4"
  },
  "vscode": {
   "interpreter": {
    "hash": "c54ecae8f3b9a546603254558bcb3ca9dea5c7af451a66a7914c053836710349"
   }
  }
 },
 "nbformat": 4,
 "nbformat_minor": 5
}
