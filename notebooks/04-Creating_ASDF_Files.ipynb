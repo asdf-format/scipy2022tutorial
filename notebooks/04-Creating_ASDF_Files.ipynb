{
 "cells": [
  {
   "cell_type": "code",
   "execution_count": 1,
   "id": "dc019178-3cfa-4549-b0a8-fa8693016266",
   "metadata": {},
   "outputs": [],
   "source": [
    "import asdf\n",
    "import numpy as np"
   ]
  },
  {
   "cell_type": "markdown",
   "id": "3a9850b0-7e5f-42b6-aa18-e2f03708a14b",
   "metadata": {},
   "source": [
    "# 4 - Creating ASDF Files\n",
    "\n",
    "## Introduction\n",
    "\n",
    "ASDF files store their information using a tree structure. This allows the stored information be be\n",
    "hierarchically organized within the file. Without any extensions, this tree is a nested combination\n",
    "of basic data structures: maps, lists, arrays, strings, and numbers. In Python these types correspond\n",
    "to `dict`, `list`, `np.ndarray`, `str`, and `int`, `float`, `complex`. Where `np.ndarray` is treated in\n",
    "a special way. These data types can be extended to other types and objects using extensions.\n",
    "\n",
    "In the ASDF python library, this tree can be created using a Python dictionary using key/value pairs.\n",
    "Indeed, one can interact with any `AsdfFile` tree as if it were a dictionary. Note that due to limits\n",
    "imposed by Python, keys must be `bool`, `int`, or `str` types only, while data information can be any\n",
    "of the above data types.\n",
    "\n",
    "## Creating ASDF files using basic python types\n",
    "\n",
    "Lets first create an ASDF file with the key/value pair `\"hello\": \"world\"`:"
   ]
  },
  {
   "cell_type": "code",
   "execution_count": 2,
   "id": "e0cbe5a2-ff64-43ac-9c41-ad354d45977f",
   "metadata": {},
   "outputs": [
    {
     "data": {
      "text/plain": [
       "'world'"
      ]
     },
     "execution_count": 2,
     "metadata": {},
     "output_type": "execute_result"
    }
   ],
   "source": [
    "tree = {\"hello\": \"world\"}\n",
    "ff = asdf.AsdfFile(tree)\n",
    "ff.write_to(\"hello.asdf\")\n",
    "ff[\"hello\"]"
   ]
  },
  {
   "cell_type": "markdown",
   "id": "63ca8aed-aa2c-4e5f-be4c-7dfd0b0cfd67",
   "metadata": {},
   "source": [
    "Open the `hello.asdf` file in your favorite text editor. You should see a something that looks like:"
   ]
  },
  {
   "cell_type": "code",
   "execution_count": 3,
   "id": "7954d9bc",
   "metadata": {},
   "outputs": [
    {
     "name": "stdout",
     "output_type": "stream",
     "text": [
      "#ASDF 1.0.0\n",
      "#ASDF_STANDARD 1.5.0\n",
      "%YAML 1.1\n",
      "%TAG ! tag:stsci.edu:asdf/\n",
      "--- !core/asdf-1.1.0\n",
      "asdf_library: !core/software-1.0.0 {author: The ASDF Developers, homepage: 'http://github.com/asdf-format/asdf',\n",
      "  name: asdf, version: 2.12.0}\n",
      "history:\n",
      "  extensions:\n",
      "  - !core/extension_metadata-1.0.0\n",
      "    extension_class: asdf.extension.BuiltinExtension\n",
      "    software: !core/software-1.0.0 {name: asdf, version: 2.12.0}\n",
      "hello: world\n",
      "...\n",
      "\n"
     ]
    }
   ],
   "source": [
    "with open(\"hello.asdf\", \"r\") as f:\n",
    "    print(f.read())"
   ]
  },
  {
   "cell_type": "markdown",
   "id": "e20e2abe",
   "metadata": {},
   "source": [
    "Notice that the file contains more information than just the `\"hello\": \"world\"` key value that we\n",
    "entered. It contains information on the library used to create the file under `asdf_library`, and\n",
    "information on what the ASDF library needs (schemas, extensions, etc.) to deserialize the stored \n",
    "data under `history`. \n",
    "\n",
    "Next lets create a file that stores information using all the other basic python types\n",
    "(avoiding arrays for now):"
   ]
  },
  {
   "cell_type": "code",
   "execution_count": 4,
   "id": "f04312fc-bed2-4114-9e88-c7271a6bb4af",
   "metadata": {},
   "outputs": [],
   "source": [
    "tree = {\n",
    "    \"hello\": \"world\",\n",
    "    \"foo\": 42,\n",
    "    \"bar\": 3.14,\n",
    "    \"imaginary\": complex(2, 3),\n",
    "    \"animals\": [\"cat\", \"dog\", \"bird\"],\n",
    "    \"data\": {\"mean\": 3.14, \"std\": 2.71},\n",
    "}\n",
    "ff = asdf.AsdfFile(tree)\n",
    "ff.write_to(\"example.asdf\")"
   ]
  },
  {
   "cell_type": "markdown",
   "id": "8c681968-f93c-42bf-a7cd-a239999f141e",
   "metadata": {},
   "source": [
    "Now open `example.asdf` in your text editor. You should see something like:"
   ]
  },
  {
   "cell_type": "code",
   "execution_count": 5,
   "id": "c9794cf9",
   "metadata": {},
   "outputs": [
    {
     "name": "stdout",
     "output_type": "stream",
     "text": [
      "#ASDF 1.0.0\n",
      "#ASDF_STANDARD 1.5.0\n",
      "%YAML 1.1\n",
      "%TAG ! tag:stsci.edu:asdf/\n",
      "--- !core/asdf-1.1.0\n",
      "asdf_library: !core/software-1.0.0 {author: The ASDF Developers, homepage: 'http://github.com/asdf-format/asdf',\n",
      "  name: asdf, version: 2.12.0}\n",
      "history:\n",
      "  extensions:\n",
      "  - !core/extension_metadata-1.0.0\n",
      "    extension_class: asdf.extension.BuiltinExtension\n",
      "    software: !core/software-1.0.0 {name: asdf, version: 2.12.0}\n",
      "animals: [cat, dog, bird]\n",
      "bar: 3.14\n",
      "data: {mean: 3.14, std: 2.71}\n",
      "foo: 42\n",
      "hello: world\n",
      "imaginary: !core/complex-1.0.0 (2+3j)\n",
      "...\n",
      "\n"
     ]
    }
   ],
   "source": [
    "with open(\"example.asdf\", \"r\") as f:\n",
    "    print(f.read())"
   ]
  },
  {
   "cell_type": "markdown",
   "id": "b0e2ec83",
   "metadata": {},
   "source": [
    "Again observe that all the data we added to our tree is contained within our asdf file. Notice in\n",
    "particular the `imaginary` data now has a yaml tag denoting that the data is a complex number, this\n",
    "tag will be used by ASDF to correctly deserialize this data as a `complex` type later.\n",
    "\n",
    "### Updating your ASDF files\n",
    "\n",
    "Recall that opening ASDF files can be simply done with the `asdf.open` command much like the standard\n",
    "Python `open` command, with the exception that one must explicitly use the `mode` keyword to specify\n",
    "the open method\n",
    "\n",
    "For example:"
   ]
  },
  {
   "cell_type": "code",
   "execution_count": 6,
   "id": "b81cd3aa-b499-4bcf-a1f0-6f71d4cfa701",
   "metadata": {},
   "outputs": [
    {
     "name": "stdout",
     "output_type": "stream",
     "text": [
      "af[\"hello\"]='world'\n",
      "af[\"foo\"]=42\n",
      "af[\"bar\"]=3.14\n",
      "af[\"imaginary\"]=(2+3j)\n",
      "af[\"animals\"]=['cat', 'dog', 'bird']\n",
      "af[\"data\"]={'mean': 3.14, 'std': 2.71}\n"
     ]
    }
   ],
   "source": [
    "with asdf.open(\"example.asdf\") as af:\n",
    "    print(f'{af[\"hello\"]=}')\n",
    "    print(f'{af[\"foo\"]=}')\n",
    "    print(f'{af[\"bar\"]=}')\n",
    "    print(f'{af[\"imaginary\"]=}')\n",
    "    print(f'{af[\"animals\"]=}')\n",
    "    print(f'{af[\"data\"]=}')"
   ]
  },
  {
   "cell_type": "markdown",
   "id": "b986ad68-2824-4adb-b2f5-600f86a379e9",
   "metadata": {},
   "source": [
    "ASDF files can also be updated in the in a similar way. This time by opening the\n",
    "file as writable and calling the `update` method:"
   ]
  },
  {
   "cell_type": "code",
   "execution_count": 7,
   "id": "eb875226-9402-4aae-a2a0-f0d5fe9d9c77",
   "metadata": {},
   "outputs": [],
   "source": [
    "with asdf.open(\"example.asdf\", mode=\"rw\") as af:\n",
    "    af[\"new\"] = \"cool new stuff\"\n",
    "    af.update()"
   ]
  },
  {
   "cell_type": "code",
   "execution_count": 8,
   "id": "62ae8042",
   "metadata": {},
   "outputs": [
    {
     "name": "stdout",
     "output_type": "stream",
     "text": [
      "#ASDF 1.0.0\n",
      "#ASDF_STANDARD 1.5.0\n",
      "%YAML 1.1\n",
      "%TAG ! tag:stsci.edu:asdf/\n",
      "--- !core/asdf-1.1.0\n",
      "asdf_library: !core/software-1.0.0 {author: The ASDF Developers, homepage: 'http://github.com/asdf-format/asdf',\n",
      "  name: asdf, version: 2.12.0}\n",
      "history:\n",
      "  extensions:\n",
      "  - !core/extension_metadata-1.0.0\n",
      "    extension_class: asdf.extension.BuiltinExtension\n",
      "    software: !core/software-1.0.0 {name: asdf, version: 2.12.0}\n",
      "animals: [cat, dog, bird]\n",
      "bar: 3.14\n",
      "data: {mean: 3.14, std: 2.71}\n",
      "foo: 42\n",
      "hello: world\n",
      "imaginary: !core/complex-1.0.0 (2+3j)\n",
      "new: cool new stuff\n",
      "...\n",
      "\n"
     ]
    }
   ],
   "source": [
    "with open(\"example.asdf\", \"r\") as f:\n",
    "    print(f.read())"
   ]
  },
  {
   "cell_type": "markdown",
   "id": "2b92717c-c619-4072-afec-ab44ddad97c3",
   "metadata": {},
   "source": [
    "## Creating ASDF files with numpy arrays\n",
    "\n",
    "Beyond the maps, lists, strings, and numbers built into Python, ASDF can save arrays, in particular\n",
    "numpy arrays (`nd.array`). Indeed, much of ASDF is dedicated to efficiently saving arrays.\n",
    "\n",
    "For example if suppose we want to save a random 8x8 numpy array:"
   ]
  },
  {
   "cell_type": "code",
   "execution_count": 9,
   "id": "873a50b3-258f-49ee-96ef-5cc8ac29ad0f",
   "metadata": {},
   "outputs": [],
   "source": [
    "tree = {\"random_array\": np.random.rand(8, 8)}\n",
    "ff = asdf.AsdfFile(tree)\n",
    "ff.write_to(\"random.asdf\")"
   ]
  },
  {
   "cell_type": "markdown",
   "id": "7419f8d1-7986-465d-8203-295e26a78a33",
   "metadata": {},
   "source": [
    "Now opening this file in your text editor will result in something like:"
   ]
  },
  {
   "cell_type": "code",
   "execution_count": 10,
   "id": "67a56453",
   "metadata": {},
   "outputs": [
    {
     "name": "stdout",
     "output_type": "stream",
     "text": [
      "#ASDF 1.0.0\n",
      "#ASDF_STANDARD 1.5.0\n",
      "%YAML 1.1\n",
      "%TAG ! tag:stsci.edu:asdf/\n",
      "--- !core/asdf-1.1.0\n",
      "asdf_library: !core/software-1.0.0 {author: The ASDF Developers, homepage: 'http://github.com/asdf-format/asdf',\n",
      "  name: asdf, version: 2.12.0}\n",
      "history:\n",
      "  extensions:\n",
      "  - !core/extension_metadata-1.0.0\n",
      "    extension_class: asdf.extension.BuiltinExtension\n",
      "    software: !core/software-1.0.0 {name: asdf, version: 2.12.0}\n",
      "random_array: !core/ndarray-1.0.0\n",
      "  source: 0\n",
      "  datatype: float64\n",
      "  byteorder: little\n",
      "  shape: [8, 8]\n",
      "...\n",
      "ÓBLK\u00000\u0000\u0000\u0000\u0000\u0000\u0000\u0000\u0000\u0000\u0000\u0000\u0000\u0000\u0000\u0002\u0000\u0000\u0000\u0000\u0000\u0000\u0000\u0002\u0000\u0000\u0000\u0000\u0000\u0000\u0000\u0002\u0000Ê]hÁæÌ'¥P\u0015åÄØï¦ g³:ÈÅ?À5{WT Ú?'Ï[hÝ?\u000fû;Jî?é¶:z\u0015´æ?\t!Ü\u0003Ó#é?º¨\n",
      "\u0004ÕÚ?BÏ%!öè?hûH­\u0011ñ¸?C+\u001eë¦áî?7¼{ö\n",
      "Vè?\u000f\u0001Ô?\\¯å?(?KÔÄÃ?\tNï:\u000fé?Àý]Ô({È?\n",
      "1v%á?Zç¬GÿPÑ?ãoéÔÊ\u0010ï?\u000e²q¡Æ(×?ò`ÌJË§î?Pd\u0000¾Á?L/3Ebá?`tÈ©+ä?òãðçðì?IÍ ï?FÖå\u0000ª²?\u0004\u001a.\"]Dâ?ÓÃ8ò{Ó?¨óÓôIë?Ù\u001f\fàÓGé?|ÌÖ¾¥\u0014ã?êÇ\u0011äéÆÙ?¨{ì-Zæ?G\u0017Y7ËÐ?¥ßD\u001d\u001cvë?ô(TýF7æ?Ð×Éî}¡?.´Xwä?RîÈ²}ªÖ?\u0007z3¥Æ`æ?@/7\t÷¯?²»1ÆÑ?â\u0000X_í*æ?M¶[Ë3ûè?Y-7ùý±é?0ÌÉ_ÄèÚ?Ü¶~~Þ?½ 1:×nè?8\tQ\u001cä?¤jÏm+í?@£ÿ\u000ejÓì?<\u001bøk2É?»]°\u0012¢é?ø\u0014ó\u0018É\\á?¥(À÷ãë?î!ÇïÜ?è:C\u0019Ã\u001cÉ?\u0019zr\f»å?\u0000õ!§J\u0004?`\u000bMñ«`¼?EcVS\u0017¶é?è`Îþùß?kÑ\u0007Ì<í?®%Ùíà?#ASDF BLOCK INDEX\n",
      "%YAML 1.1\n",
      "---\n",
      "- 517\n",
      "...\n",
      "\n"
     ]
    }
   ],
   "source": [
    "with open(\"random.asdf\", \"r\", encoding=\"unicode_escape\") as f:\n",
    "    print(f.read())"
   ]
  },
  {
   "cell_type": "markdown",
   "id": "b386f241",
   "metadata": {},
   "source": [
    "Observe that at the end of the file that there is apparently some binary data. This binary data contains the information\n",
    "in the random array we wrote. Indeed, when ASDF writes arrays to the file it stores them as binary data in a block after\n",
    "the YAML section of the file rather in the section itself. Note that `random_array` in the YAML section stores some\n",
    "information about the nature of the array and includes the `source` key. This `source` value references which binary block \n",
    "(in this case block `0`) the data is stored in.\n",
    "\n",
    "Indeed if we update the file with another array to the file we get a second block:"
   ]
  },
  {
   "cell_type": "code",
   "execution_count": 11,
   "id": "73d8e212-11d1-4cb5-a299-5acfc34ca9c0",
   "metadata": {},
   "outputs": [],
   "source": [
    "with asdf.open(\"random.asdf\", mode=\"rw\") as ff:\n",
    "    ff.tree.update({\"new_array\": np.random.rand(10, 10)})\n",
    "    ff.update()"
   ]
  },
  {
   "cell_type": "markdown",
   "id": "66dae048-2f0d-4879-a8ea-c5fd18b7e161",
   "metadata": {},
   "source": [
    "Opening `random.asdf` in your text editor will give something like:"
   ]
  },
  {
   "cell_type": "code",
   "execution_count": 12,
   "id": "6a51f74d",
   "metadata": {},
   "outputs": [
    {
     "name": "stdout",
     "output_type": "stream",
     "text": [
      "#ASDF 1.0.0\n",
      "#ASDF_STANDARD 1.5.0\n",
      "%YAML 1.1\n",
      "%TAG ! tag:stsci.edu:asdf/\n",
      "--- !core/asdf-1.1.0\n",
      "asdf_library: !core/software-1.0.0 {author: The ASDF Developers, homepage: 'http://github.com/asdf-format/asdf',\n",
      "  name: asdf, version: 2.12.0}\n",
      "history:\n",
      "  extensions:\n",
      "  - !core/extension_metadata-1.0.0\n",
      "    extension_class: asdf.extension.BuiltinExtension\n",
      "    software: !core/software-1.0.0 {name: asdf, version: 2.12.0}\n",
      "new_array: !core/ndarray-1.0.0\n",
      "  source: 1\n",
      "  datatype: float64\n",
      "  byteorder: little\n",
      "  shape: [10, 10]\n",
      "random_array: !core/ndarray-1.0.0\n",
      "  source: 0\n",
      "  datatype: float64\n",
      "  byteorder: little\n",
      "  shape: [8, 8]\n",
      "...\n",
      "ÓBLK\u00000\u0000\u0000\u0000\u0000\u0000\u0000\u0000\u0000\u0000\u0000\u0000\u0000\u0000\u0000\u0002\u0000\u0000\u0000\u0000\u0000\u0000\u0000\u0002\u0000\u0000\u0000\u0000\u0000\u0000\u0000\u0002\u0000Ê]hÁæÌ'¥P\u0015åÄØï¦ g³:ÈÅ?À5{WT Ú?'Ï[hÝ?\u000fû;Jî?é¶:z\u0015´æ?\t!Ü\u0003Ó#é?º¨\n",
      "\u0004ÕÚ?BÏ%!öè?hûH­\u0011ñ¸?C+\u001eë¦áî?7¼{ö\n",
      "Vè?\u000f\u0001Ô?\\¯å?(?KÔÄÃ?\tNï:\u000fé?Àý]Ô({È?\n",
      "1v%á?Zç¬GÿPÑ?ãoéÔÊ\u0010ï?\u000e²q¡Æ(×?ò`ÌJË§î?Pd\u0000¾Á?L/3Ebá?`tÈ©+ä?òãðçðì?IÍ ï?FÖå\u0000ª²?\u0004\u001a.\"]Dâ?ÓÃ8ò{Ó?¨óÓôIë?Ù\u001f\fàÓGé?|ÌÖ¾¥\u0014ã?êÇ\u0011äéÆÙ?¨{ì-Zæ?G\u0017Y7ËÐ?¥ßD\u001d\u001cvë?ô(TýF7æ?Ð×Éî}¡?.´Xwä?RîÈ²}ªÖ?\u0007z3¥Æ`æ?@/7\t÷¯?²»1ÆÑ?â\u0000X_í*æ?M¶[Ë3ûè?Y-7ùý±é?0ÌÉ_ÄèÚ?Ü¶~~Þ?½ 1:×nè?8\tQ\u001cä?¤jÏm+í?@£ÿ\u000ejÓì?<\u001bøk2É?»]°\u0012¢é?ø\u0014ó\u0018É\\á?¥(À÷ãë?î!ÇïÜ?è:C\u0019Ã\u001cÉ?\u0019zr\f»å?\u0000õ!§J\u0004?`\u000bMñ«`¼?EcVS\u0017¶é?è`Îþùß?kÑ\u0007Ì<í?®%Ùíà?ÓBLK\u00000\u0000\u0000\u0000\u0000\u0000\u0000\u0000\u0000\u0000\u0000\u0000\u0000\u0000\u0000\u0003 \u0000\u0000\u0000\u0000\u0000\u0000\u0003 \u0000\u0000\u0000\u0000\u0000\u0000\u0003 à\u0015V\u0007ËaÌ\tkÍÚ§Û<\fKçeÝYË?*úî®?ôB£\u000eÛÅ?¢Qj²ÎÒ?éVzôìà?\u0004A½æHÌ?\u0017\u0002äý¹7ä?â6;\u0018\taÙ?<Ðv¹$\u0002Ê?\u0015å\u0003­aÌã?ªÿ\t®þÓ?äÔ¹ÏÙ?\u0002 \u0010äüè?é[çë?à\u000e\u0019s\u0016ê?°Êé9=lÓ?¬\u0010z¹&Ü?BÙß¢õë?b\u0019ï>£?9SUð?5óÎofÄå?\t:Nkâ&é?Î,úP¿ß?ÒOÝÅGqá?ª{gö6Ö?Yè(î¿æ?q/î±C1ì?z÷ä\n",
      "\u001c\tÞ?$ß× ä\u0019Ã?ÂÖ1ùî\u001bé??¡\u0014è?àÖ6÷9ð©?\u0004!¨û¥ë?ÄÛ^\u001fHÝ?d\u0019\u0011à\u0017Ç?\n",
      "ªèïlØ?avt î?<f;FÊè?(ÈÍÏ°¢Ñ?3z\u001ebæ?Äa9\u000eP\u0017Ë?XVlé!w·?S\u001eSÒ\u001aè?\n",
      "ðw±\u0015äÚ?h2¾LyÕ?Ï¬øAï?Yc\u0007»¾ì?ìï\n",
      "ãlôÍ?PþÆt1(Ý?\u000bT=aÕê?£Ò\u0010FPué?\u0002ð\u0002Þ¬>â?>HÀñë?8¦zÌÏ?Ò\u0016×4\u000b\u000bé?[ÉªCá?jÉd\n",
      "Â¡î?É-¶cQïå?ÏÂr?/\u000fâ?NdótËæß?èýK\n",
      "@è?L\t¥ÃN_Ø?\u001e%S·\u0013Êï\u0003`Ý±?³½¤aGôï? @ûöp?È$úÒ?£,Pd{ä?«\u001b®\u0012që?ødÉq\u001fÁí?r`dÒ\u001c\u0011ï?øQ¨Ø?¾\u0001CCäI:Öã?-\n",
      "Ã~ï?£ËP°.á?\u0014ñþîE`Ã?F\u0005OS¯Ñ?\u0000V-Ð^?\u0000®\u001d\u0005\u0010!À?Ø°D¸w6Á?Èæ\u0010ØöÍÃ?î\u0018 ¨RÂ×?sÙJÿÔ\u000bâ?ÌÝ\n",
      "ÛLÞ?U`¥ÓÈ*á?¢k\"\u000etÞÕ?ª@/W\u0003ãÛ?Ñ°J&æ>á?¤8wI°èÊ?¸è;\u0006q³?ÌßUÂ?\u0007\u0006\u0014ô\u0015ê?\u0014P#èÒÍ?0ø*ÞÅà?å»ç´=ç?·\tÁØ4æ?Ì´\u0010bªÄ?ç^>7å?a³\t:¢å?#ASDF BLOCK INDEX\n",
      "%YAML 1.1\n",
      "---\n",
      "- 618\n",
      "- 1184\n",
      "...\n",
      "\n"
     ]
    }
   ],
   "source": [
    "with open(\"random.asdf\", \"r\", encoding=\"unicode_escape\") as f:\n",
    "    print(f.read())"
   ]
  },
  {
   "cell_type": "markdown",
   "id": "a7753281",
   "metadata": {},
   "source": [
    "This now has a `new_array` key, which contains a second `source: 1` meaning there is a second binary block.\n",
    "\n",
    "Now observe that ASDF is smart about storing arrays as binary data; meaning that, if arrays are shared between\n",
    "entries in the tree, the same binary block is used. Indeed, this extends to sharing views on the data:"
   ]
  },
  {
   "cell_type": "code",
   "execution_count": 13,
   "id": "ec8c8c81-c29d-4682-add3-bbb2abdd3282",
   "metadata": {},
   "outputs": [],
   "source": [
    "duplicated_array = np.random.rand(8, 8)\n",
    "multi_view_array = np.random.rand(8, 8)\n",
    "tree = {\n",
    "    \"duplicated_array_0\": duplicated_array,\n",
    "    \"duplicated_array_1\": duplicated_array,\n",
    "    \"multi_view_array\": multi_view_array,\n",
    "    \"new_view\": multi_view_array[2:4, 3:6],\n",
    "}\n",
    "with asdf.open(\"random.asdf\", mode=\"rw\") as ff:\n",
    "    ff.tree.update(tree)\n",
    "    ff.update()"
   ]
  },
  {
   "cell_type": "markdown",
   "id": "82710797-0dab-48c3-9f2b-5019d0b7a5e4",
   "metadata": {},
   "source": [
    "Opening `random.asdf` in your text editor once again gives something like:"
   ]
  },
  {
   "cell_type": "code",
   "execution_count": 14,
   "id": "ed6c1d2f",
   "metadata": {},
   "outputs": [
    {
     "name": "stdout",
     "output_type": "stream",
     "text": [
      "#ASDF 1.0.0\n",
      "#ASDF_STANDARD 1.5.0\n",
      "%YAML 1.1\n",
      "%TAG ! tag:stsci.edu:asdf/\n",
      "--- !core/asdf-1.1.0\n",
      "asdf_library: !core/software-1.0.0 {author: The ASDF Developers, homepage: 'http://github.com/asdf-format/asdf',\n",
      "  name: asdf, version: 2.12.0}\n",
      "history:\n",
      "  extensions:\n",
      "  - !core/extension_metadata-1.0.0\n",
      "    extension_class: asdf.extension.BuiltinExtension\n",
      "    software: !core/software-1.0.0 {name: asdf, version: 2.12.0}\n",
      "duplicated_array_0: &id001 !core/ndarray-1.0.0\n",
      "  source: 3\n",
      "  datatype: float64\n",
      "  byteorder: little\n",
      "  shape: [8, 8]\n",
      "duplicated_array_1: *id001\n",
      "multi_view_array: !core/ndarray-1.0.0\n",
      "  source: 2\n",
      "  datatype: float64\n",
      "  byteorder: little\n",
      "  shape: [8, 8]\n",
      "new_array: !core/ndarray-1.0.0\n",
      "  source: 0\n",
      "  datatype: float64\n",
      "  byteorder: little\n",
      "  shape: [10, 10]\n",
      "new_view: !core/ndarray-1.0.0\n",
      "  source: 2\n",
      "  datatype: float64\n",
      "  byteorder: little\n",
      "  shape: [2, 3]\n",
      "  offset: 152\n",
      "  strides: [64, 8]\n",
      "random_array: !core/ndarray-1.0.0\n",
      "  source: 1\n",
      "  datatype: float64\n",
      "  byteorder: little\n",
      "  shape: [8, 8]\n",
      "...\n",
      "\u0000\u0000\u0000\u0000\u0000\u0000\u0000\u0000\u0000\u0000\u0000\u0000\u0000\u0000\u0000\u0000\u0000\u0000\u0000\u0000\u0000\u0000\u0000\u0000\u0000\u0000\u0000\u0000\u0000\u0000\u0000\u0000\u0000\u0000\u0000\u0000\u0000\u0000\u0000\u0000\u0000\u0000\u0000\u0000\u0000\u0000\u0000\u0000\u0000\u0000\u0000\u0000\u0000\u0000\u0000\u0000\u0000\u0000\u0000\u0000\u0000\u0000\u0000\u0000\u0000\u0000\u0000\u0000\u0000\u0000\u0000\u0000\u0000\u0000\u0000\u0000\u0000\u0000\u0000\u0000\u0000\u0000\u0000\u0000\u0000\u0000\u0000\u0000\u0000\u0000\u0000\u0000\u0000\u0000\u0000\u0000\u0000\u0000\u0000\u0000\u0000\u0000\u0000\u0000\u0000\u0000\u0000\u0000\u0000\u0000\u0000\u0000\u0000\u0000\u0000\u0000\u0000\u0000\u0000\u0000\u0000\u0000\u0000\u0000\u0000\u0000\u0000\u0000\u0000\u0000\u0000\u0000\u0000\u0000\u0000\u0000\u0000\u0000\u0000\u0000\u0000\u0000\u0000\u0000\u0000\u0000\u0000\u0000\u0000\u0000\u0000\u0000\u0000\u0000\u0000\u0000\u0000\u0000\u0000\u0000\u0000\u0000\u0000\u0000\u0000\u0000\u0000\u0000\u0000\u0000\u0000\u0000\u0000\u0000\u0000\u0000\u0000\u0000\u0000\u0000\u0000\u0000\u0000\u0000\u0000\u0000\u0000ÓBLK\u00000\u0000\u0000\u0000\u0000\u0000\u0000\u0000\u0000\u0000\u0000\u0000\u0000\u0000\u0000\u0003 \u0000\u0000\u0000\u0000\u0000\u0000\u0003 \u0000\u0000\u0000\u0000\u0000\u0000\u0003 à\u0015V\u0007ËaÌ\tkÍÚ§Û<\fKçeÝYË?*úî®?ôB£\u000eÛÅ?¢Qj²ÎÒ?éVzôìà?\u0004A½æHÌ?\u0017\u0002äý¹7ä?â6;\u0018\taÙ?<Ðv¹$\u0002Ê?\u0015å\u0003­aÌã?ªÿ\t®þÓ?äÔ¹ÏÙ?\u0002 \u0010äüè?é[çë?à\u000e\u0019s\u0016ê?°Êé9=lÓ?¬\u0010z¹&Ü?BÙß¢õë?b\u0019ï>£?9SUð?5óÎofÄå?\t:Nkâ&é?Î,úP¿ß?ÒOÝÅGqá?ª{gö6Ö?Yè(î¿æ?q/î±C1ì?z÷ä\n",
      "\u001c\tÞ?$ß× ä\u0019Ã?ÂÖ1ùî\u001bé??¡\u0014è?àÖ6÷9ð©?\u0004!¨û¥ë?ÄÛ^\u001fHÝ?d\u0019\u0011à\u0017Ç?\n",
      "ªèïlØ?avt î?<f;FÊè?(ÈÍÏ°¢Ñ?3z\u001ebæ?Äa9\u000eP\u0017Ë?XVlé!w·?S\u001eSÒ\u001aè?\n",
      "ðw±\u0015äÚ?h2¾LyÕ?Ï¬øAï?Yc\u0007»¾ì?ìï\n",
      "ãlôÍ?PþÆt1(Ý?\u000bT=aÕê?£Ò\u0010FPué?\u0002ð\u0002Þ¬>â?>HÀñë?8¦zÌÏ?Ò\u0016×4\u000b\u000bé?[ÉªCá?jÉd\n",
      "Â¡î?É-¶cQïå?ÏÂr?/\u000fâ?NdótËæß?èýK\n",
      "@è?L\t¥ÃN_Ø?\u001e%S·\u0013Êï\u0003`Ý±?³½¤aGôï? @ûöp?È$úÒ?£,Pd{ä?«\u001b®\u0012që?ødÉq\u001fÁí?r`dÒ\u001c\u0011ï?øQ¨Ø?¾\u0001CCäI:Öã?-\n",
      "Ã~ï?£ËP°.á?\u0014ñþîE`Ã?F\u0005OS¯Ñ?\u0000V-Ð^?\u0000®\u001d\u0005\u0010!À?Ø°D¸w6Á?Èæ\u0010ØöÍÃ?î\u0018 ¨RÂ×?sÙJÿÔ\u000bâ?ÌÝ\n",
      "ÛLÞ?U`¥ÓÈ*á?¢k\"\u000etÞÕ?ª@/W\u0003ãÛ?Ñ°J&æ>á?¤8wI°èÊ?¸è;\u0006q³?ÌßUÂ?\u0007\u0006\u0014ô\u0015ê?\u0014P#èÒÍ?0ø*ÞÅà?å»ç´=ç?·\tÁØ4æ?Ì´\u0010bªÄ?ç^>7å?a³\t:¢å?ÓBLK\u00000\u0000\u0000\u0000\u0000\u0000\u0000\u0000\u0000\u0000\u0000\u0000\u0000\u0000\u0000\u0002\u0000\u0000\u0000\u0000\u0000\u0000\u0000\u0002\u0000\u0000\u0000\u0000\u0000\u0000\u0000\u0002\u0000Ê]hÁæÌ'¥P\u0015åÄØï¦ g³:ÈÅ?À5{WT Ú?'Ï[hÝ?\u000fû;Jî?é¶:z\u0015´æ?\t!Ü\u0003Ó#é?º¨\n",
      "\u0004ÕÚ?BÏ%!öè?hûH­\u0011ñ¸?C+\u001eë¦áî?7¼{ö\n",
      "Vè?\u000f\u0001Ô?\\¯å?(?KÔÄÃ?\tNï:\u000fé?Àý]Ô({È?\n",
      "1v%á?Zç¬GÿPÑ?ãoéÔÊ\u0010ï?\u000e²q¡Æ(×?ò`ÌJË§î?Pd\u0000¾Á?L/3Ebá?`tÈ©+ä?òãðçðì?IÍ ï?FÖå\u0000ª²?\u0004\u001a.\"]Dâ?ÓÃ8ò{Ó?¨óÓôIë?Ù\u001f\fàÓGé?|ÌÖ¾¥\u0014ã?êÇ\u0011äéÆÙ?¨{ì-Zæ?G\u0017Y7ËÐ?¥ßD\u001d\u001cvë?ô(TýF7æ?Ð×Éî}¡?.´Xwä?RîÈ²}ªÖ?\u0007z3¥Æ`æ?@/7\t÷¯?²»1ÆÑ?â\u0000X_í*æ?M¶[Ë3ûè?Y-7ùý±é?0ÌÉ_ÄèÚ?Ü¶~~Þ?½ 1:×nè?8\tQ\u001cä?¤jÏm+í?@£ÿ\u000ejÓì?<\u001bøk2É?»]°\u0012¢é?ø\u0014ó\u0018É\\á?¥(À÷ãë?î!ÇïÜ?è:C\u0019Ã\u001cÉ?\u0019zr\f»å?\u0000õ!§J\u0004?`\u000bMñ«`¼?EcVS\u0017¶é?è`Îþùß?kÑ\u0007Ì<í?®%Ùíà?ÓBLK\u00000\u0000\u0000\u0000\u0000\u0000\u0000\u0000\u0000\u0000\u0000\u0000\u0000\u0000\u0000\u0002\u0000\u0000\u0000\u0000\u0000\u0000\u0000\u0002\u0000\u0000\u0000\u0000\u0000\u0000\u0000\u0002\u0000û~ìú\u0016\u0002.öó%;$1ê\u0015dÝî¹hÔ?\u000bYkCã?aìè«î?uÒÔas*ï?H\t¾\u0006|Ó?¬ý\u000eÈKáÌ?\u000b\t8ö·Ëì?Nâ1y[*á?üZÅ\u0014Ö?êïÀ²K±è?]§È\u000eá?(9ÿøóÀ?hO¹Åíï?lÌk\u0012Ñ?8;n¬¦¬Ì?2J:IôÙë?²G\u0014xVà?h\u0013\n",
      "{=®âHý û\n",
      "Û?¦å/ÍïÙ?*.CD`-Ð?\u0000$Êfþf?ÇÛo&ngé? UoÂ9IÅ?TÌÙÒÊ?N\u001b8¼êVç?¼à\u000b½Sâ?7O>áf\u000eî?@\u0010:lu·?|5PA.HÇ?Iú#{¡ê?JÇ»Xé?¨ÔæyÚ¾±?$æàÞàJÍ?\u0000øç\n",
      "]?:^<?­ä?ä.sÓß`Ð?D\\%îÈ\u0013à?\u001eya¸æ?ýøÍÜç?\fAÍ%7ì?N`û½RÚ?ü\u0000ý5ë?¾\u0003 KDï?'¬/>F\n",
      "ì?\u0017µßâcaå?x^Æs4¼?k<ßÞ?\u0011S5(\u0007Iâ? ^&u\n",
      "U?\u0014é-Ó.\u000fì?>ëBéL[Ñ?Ö\u0016\u0000¢ÑæÜ?Ø¤Û<%×Õ?2½ü!uÖÔ?ôÄwéÒ?å\u0014TÃ6ßè?\n",
      ")n¶Õ?¤vL÷âå?¡P¨\u0002Ã?*60¿\fë?\u0016¡ky-ä?&\u00100LUrá?\u0010î%)\u0016¹?ÓBLK\u00000\u0000\u0000\u0000\u0000\u0000\u0000\u0000\u0000\u0000\u0000\u0000\u0000\u0000\u0000\u00026\u0000\u0000\u0000\u0000\u0000\u0000\u0002\u0000\u0000\u0000\u0000\u0000\u0000\u0000\u0002\u0000\u0011·³\fMº|Ü¥6Ñ¿¡Â2KÞàí?Øûk,%Aì?D­6wé?×>ºß§\u0000å?ÿ´þCñÕã?È[|{ï?eNmØyã?\u0010Ïòþvµ?%­«gæ?öÊäÔ?ôÅÖbÞ?ûzµqóã?Búe\n",
      "À\u0014ì?°SGOÞ?´\u001eÒÝ§ûÑ?Z\u0014áô´í?\u001b8}<çç?Sê©\u001eµ¶å?÷\u000bc\u001aå?Ì9\fØÁ?í6\u001a²nÂè?\u0011ý-Í\u0010à?¦ \u0010åã?h\u0019D\u000e³lÓ?t3À#Ú?¤\f¾tâÇ?2$îjýà?\u0014ÞLm¦¿ÓÀ\u001d5=\n",
      "»?Ø¢4¤D`Ä?ºó\u0010îc\u001fÒ?h@2\u0011Ö?ØD$1Î]°??vW×°Få?\u001eõz5\u001fºá?ürE`&kÑ?\u0018ùÊC\tá? -\n",
      "\u0006Ø?Àé¹ôÝ¢?Ø,ìãjË?¾®\u0012°\u0004æ?\u0010Å.~`Ä?.+øíÂ?T·\u0001DsÈÐ?Ë@ðD×Ù?²Y\u000b'\u0019Ñ?²5·\u0004\n",
      "ã?Êº\u0011üÚ?(Ç\u0015©W¯â?¤\n",
      ";É?~íùb¯\u001eà?æ¨j{ï×?\få Qi³á?¸5kI\u0000sâ?°ú\u0017¾£?o¿E!3ê?âÎ\u0014heËÔ?×]vú+Ûé?l§xµ¹ç?¬Y'&ÔPÊ?õ\u0007ôõ'Ð?6ó»Çî?Cáëâºçê?0R$\u0012@°?\u0000\u0000\u0000\u0000\u0000\u0000\u0000\u0000\u0000\u0000\u0000\u0000\u0000\u0000\u0000\u0000\u0000\u0000\u0000\u0000\u0000\u0000\u0000\u0000\u0000\u0000\u0000\u0000\u0000\u0000\u0000\u0000\u0000\u0000\u0000\u0000\u0000\u0000\u0000\u0000\u0000\u0000\u0000\u0000\u0000\u0000\u0000\u0000\u0000\u0000\u0000\u0000\u0000\u0000#ASDF BLOCK INDEX\n",
      "%YAML 1.1\n",
      "---\n",
      "- 1184\n",
      "- 2038\n",
      "- 2604\n",
      "- 3170\n",
      "...\n",
      "\n"
     ]
    }
   ],
   "source": [
    "with open(\"random.asdf\", \"r\", encoding=\"unicode_escape\") as f:\n",
    "    print(f.read())"
   ]
  },
  {
   "cell_type": "markdown",
   "id": "e0b1337e",
   "metadata": {},
   "source": [
    "First, note that `duplicated_array_1` simply listed using a yaml anchor which points to `duplicated_array_0`. Second,\n",
    "observe that the `source` in both `multi_view_array` and `new_array` are the same value (`2`) rather than distinct values.\n",
    "So ASDF did not unnecessary duplicate the binary data.\n",
    "\n",
    "## Serializing other objects\n",
    "\n",
    "The ASDF library supports writing extensions for objects outside of the ASDF-standard, which we will explain\n",
    "in detail in another lecture. Assuming that one has installed an ASDF extension to support some custom Python\n",
    "objects, ASDF will be able to seamlessly save those objects with no additional effort.\n",
    "\n",
    "For example, as part of the install for this course we installed the `asdf-astropy` package, which provides\n",
    "extensions for writing many `astropy` objects."
   ]
  },
  {
   "cell_type": "code",
   "execution_count": 15,
   "id": "fd2aaa84-bb61-40d9-9f7a-46c0f6cd594e",
   "metadata": {},
   "outputs": [],
   "source": [
    "import astropy\n",
    "\n",
    "quantity = 50 * astropy.units.m\n",
    "model = astropy.modeling.models.Gaussian2D(quantity, 2, 3, 4, 5)\n",
    "time = astropy.time.Time(\"J2000\")\n",
    "coord = astropy.coordinates.ICRS(ra=1 * astropy.units.deg, dec=2 * astropy.units.deg)\n",
    "\n",
    "tree = {\n",
    "    \"quantity\": quantity,\n",
    "    \"model\": model,\n",
    "    \"time\": time,\n",
    "    \"coord\": coord,\n",
    "}\n",
    "\n",
    "ff = asdf.AsdfFile(tree)\n",
    "ff.write_to(\"astropy.asdf\")"
   ]
  },
  {
   "cell_type": "markdown",
   "id": "89f36bff-59c2-4da8-90c5-1890d4daae16",
   "metadata": {},
   "source": [
    "Notice that since `asdf-astropy` was installed, no extra effort was required to write these objects\n",
    "even though they clearly fall outside the ASDF-standard objects we previously discussed.\n",
    "\n",
    "Moreover examining `astropy.asdf` in your text editor results in:"
   ]
  },
  {
   "cell_type": "code",
   "execution_count": 16,
   "id": "e11433ec",
   "metadata": {},
   "outputs": [
    {
     "name": "stdout",
     "output_type": "stream",
     "text": [
      "#ASDF 1.0.0\n",
      "#ASDF_STANDARD 1.5.0\n",
      "%YAML 1.1\n",
      "%TAG ! tag:stsci.edu:asdf/\n",
      "--- !core/asdf-1.1.0\n",
      "asdf_library: !core/software-1.0.0 {author: The ASDF Developers, homepage: 'http://github.com/asdf-format/asdf',\n",
      "  name: asdf, version: 2.12.0}\n",
      "history:\n",
      "  extensions:\n",
      "  - !core/extension_metadata-1.0.0\n",
      "    extension_class: asdf.extension.BuiltinExtension\n",
      "    software: !core/software-1.0.0 {name: asdf, version: 2.12.0}\n",
      "  - !core/extension_metadata-1.0.0\n",
      "    extension_class: asdf.extension._manifest.ManifestExtension\n",
      "    extension_uri: asdf://asdf-format.org/astronomy/coordinates/extensions/coordinates-1.0.0\n",
      "    software: !core/software-1.0.0 {name: asdf-astropy, version: 0.2.1}\n",
      "  - !core/extension_metadata-1.0.0\n",
      "    extension_class: asdf.extension._manifest.ManifestExtension\n",
      "    extension_uri: asdf://asdf-format.org/core/extensions/core-1.5.0\n",
      "    software: !core/software-1.0.0 {name: asdf-astropy, version: 0.2.1}\n",
      "  - !core/extension_metadata-1.0.0\n",
      "    extension_class: asdf.extension._manifest.ManifestExtension\n",
      "    extension_uri: asdf://asdf-format.org/transform/extensions/transform-1.5.0\n",
      "    software: !core/software-1.0.0 {name: asdf-astropy, version: 0.2.1}\n",
      "coord: !<tag:astropy.org:astropy/coordinates/frames/icrs-1.1.0>\n",
      "  data: !<tag:astropy.org:astropy/coordinates/representation-1.0.0>\n",
      "    components:\n",
      "      lat: !<tag:astropy.org:astropy/coordinates/latitude-1.0.0> {unit: !unit/unit-1.0.0 deg,\n",
      "        value: 2.0}\n",
      "      lon: !<tag:astropy.org:astropy/coordinates/longitude-1.0.0>\n",
      "        unit: !unit/unit-1.0.0 deg\n",
      "        value: 1.0\n",
      "        wrap_angle: !<tag:astropy.org:astropy/coordinates/angle-1.0.0> {unit: !unit/unit-1.0.0 deg,\n",
      "          value: 360.0}\n",
      "    type: UnitSphericalRepresentation\n",
      "  frame_attributes: {}\n",
      "model: !transform/gaussian2d-1.0.0\n",
      "  amplitude: !unit/quantity-1.1.0 {unit: !unit/unit-1.0.0 m, value: 50.0}\n",
      "  bounding_box:\n",
      "  - [-24.5, 30.5]\n",
      "  - [-20.0, 24.0]\n",
      "  bounds:\n",
      "    x_stddev: [1.1754943508222875e-38, null]\n",
      "    y_stddev: [1.1754943508222875e-38, null]\n",
      "  inputs: [x, y]\n",
      "  outputs: [z]\n",
      "  theta: 0.0\n",
      "  x_mean: 2.0\n",
      "  x_stddev: 4.0\n",
      "  y_mean: 3.0\n",
      "  y_stddev: 5.0\n",
      "quantity: !unit/quantity-1.1.0 {unit: !unit/unit-1.0.0 m, value: 50.0}\n",
      "time: !time/time-1.1.0 {scale: tt, value: J2000.000}\n",
      "...\n",
      "\n"
     ]
    }
   ],
   "source": [
    "with open(\"astropy.asdf\", \"r\", encoding=\"unicode_escape\") as f:\n",
    "    print(f.read())"
   ]
  },
  {
   "cell_type": "markdown",
   "id": "60e77faa",
   "metadata": {},
   "source": [
    "Which clearly shows that we were successful in saving all the `astropy` objects we intended to."
   ]
  }
 ],
 "metadata": {
  "kernelspec": {
   "display_name": "Python 3.10.4",
   "language": "python",
   "name": "python3"
  },
  "language_info": {
   "codemirror_mode": {
    "name": "ipython",
    "version": 3
   },
   "file_extension": ".py",
   "mimetype": "text/x-python",
   "name": "python",
   "nbconvert_exporter": "python",
   "pygments_lexer": "ipython3",
   "version": "3.10.4"
  },
  "vscode": {
   "interpreter": {
    "hash": "c54ecae8f3b9a546603254558bcb3ca9dea5c7af451a66a7914c053836710349"
   }
  }
 },
 "nbformat": 4,
 "nbformat_minor": 5
}
