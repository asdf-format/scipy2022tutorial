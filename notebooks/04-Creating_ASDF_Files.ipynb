{
 "cells": [
  {
   "cell_type": "code",
   "execution_count": 1,
   "id": "dc019178-3cfa-4549-b0a8-fa8693016266",
   "metadata": {},
   "outputs": [],
   "source": [
    "import asdf\n",
    "import numpy as np"
   ]
  },
  {
   "cell_type": "markdown",
   "id": "3a9850b0-7e5f-42b6-aa18-e2f03708a14b",
   "metadata": {},
   "source": [
    "# 4 - Creating ASDF Files\n",
    "\n",
    "## Introduction\n",
    "\n",
    "ASDF files store their information using a tree structure. This allows the stored information be be\n",
    "hierarchically organized within the file. Without any extensions, this tree is a nested combination\n",
    "of basic data structures: maps, lists, arrays, strings, Booleans, and numbers. In Python these types\n",
    "correspond to `dict`, `list`, `np.ndarray`, `str`, `bool`, and `int`, `float`, `complex`. Where\n",
    "`np.ndarray` is treated in a special way. These data types can be extended to other types and objects\n",
    "using extensions.\n",
    "\n",
    "In the ASDF python library, this tree can be created using a Python dictionary using key/value pairs.\n",
    "Indeed, one can interact with any `AsdfFile` tree as if it were a dictionary. Note that due to limits\n",
    "imposed by Python, keys must be `bool`, `int`, or `str` types only, while data information can be any\n",
    "of the above data types.\n",
    "\n",
    "## Creating ASDF files using basic python types\n",
    "\n",
    "Lets first create an ASDF file with the key/value pair `\"hello\": \"world\"`:"
   ]
  },
  {
   "cell_type": "code",
   "execution_count": 2,
   "id": "e0cbe5a2-ff64-43ac-9c41-ad354d45977f",
   "metadata": {},
   "outputs": [
    {
     "data": {
      "text/plain": [
       "'world'"
      ]
     },
     "execution_count": 2,
     "metadata": {},
     "output_type": "execute_result"
    }
   ],
   "source": [
    "tree = {\"hello\": \"world\"}\n",
    "af = asdf.AsdfFile(tree)\n",
    "af.write_to(\"hello.asdf\")\n",
    "af[\"hello\"]"
   ]
  },
  {
   "cell_type": "markdown",
   "id": "63ca8aed-aa2c-4e5f-be4c-7dfd0b0cfd67",
   "metadata": {},
   "source": [
    "Open the `hello.asdf` file in your favorite text editor. You should see a something that looks like:"
   ]
  },
  {
   "cell_type": "code",
   "execution_count": 3,
   "id": "7954d9bc",
   "metadata": {},
   "outputs": [
    {
     "name": "stdout",
     "output_type": "stream",
     "text": [
      "#ASDF 1.0.0\n",
      "#ASDF_STANDARD 1.5.0\n",
      "%YAML 1.1\n",
      "%TAG ! tag:stsci.edu:asdf/\n",
      "--- !core/asdf-1.1.0\n",
      "asdf_library: !core/software-1.0.0 {author: The ASDF Developers, homepage: 'http://github.com/asdf-format/asdf',\n",
      "  name: asdf, version: 2.12.0}\n",
      "history:\n",
      "  extensions:\n",
      "  - !core/extension_metadata-1.0.0\n",
      "    extension_class: asdf.extension.BuiltinExtension\n",
      "    software: !core/software-1.0.0 {name: asdf, version: 2.12.0}\n",
      "hello: world\n",
      "...\n",
      "\n"
     ]
    }
   ],
   "source": [
    "with open(\"hello.asdf\") as f:\n",
    "    print(f.read())"
   ]
  },
  {
   "cell_type": "markdown",
   "id": "e20e2abe",
   "metadata": {},
   "source": [
    "Notice that the file contains more information than just the `\"hello\": \"world\"` key value that we\n",
    "entered. It contains information on the library used to create the file under `asdf_library`, and\n",
    "information on what the ASDF library needs (schemas, extensions, etc.) to deserialize the stored \n",
    "data under `history`. \n",
    "\n",
    "Next lets create a file that stores information using all the other basic python types\n",
    "(avoiding arrays for now):"
   ]
  },
  {
   "cell_type": "code",
   "execution_count": 4,
   "id": "f04312fc-bed2-4114-9e88-c7271a6bb4af",
   "metadata": {},
   "outputs": [],
   "source": [
    "tree = {\n",
    "    \"hello\": \"world\",\n",
    "    \"foo\": 42,\n",
    "    \"bar\": 3.14,\n",
    "    \"true\": False,\n",
    "    \"imaginary\": complex(2, 3),\n",
    "    \"animals\": [\"cat\", \"dog\", \"bird\"],\n",
    "    \"data\": {\"mean\": 3.14, \"std\": 2.71},\n",
    "}\n",
    "af = asdf.AsdfFile(tree)\n",
    "af.write_to(\"example.asdf\")"
   ]
  },
  {
   "cell_type": "markdown",
   "id": "8c681968-f93c-42bf-a7cd-a239999f141e",
   "metadata": {},
   "source": [
    "Now open `example.asdf` in your text editor. You should see something like:"
   ]
  },
  {
   "cell_type": "code",
   "execution_count": 5,
   "id": "c9794cf9",
   "metadata": {},
   "outputs": [
    {
     "name": "stdout",
     "output_type": "stream",
     "text": [
      "#ASDF 1.0.0\n",
      "#ASDF_STANDARD 1.5.0\n",
      "%YAML 1.1\n",
      "%TAG ! tag:stsci.edu:asdf/\n",
      "--- !core/asdf-1.1.0\n",
      "asdf_library: !core/software-1.0.0 {author: The ASDF Developers, homepage: 'http://github.com/asdf-format/asdf',\n",
      "  name: asdf, version: 2.12.0}\n",
      "history:\n",
      "  extensions:\n",
      "  - !core/extension_metadata-1.0.0\n",
      "    extension_class: asdf.extension.BuiltinExtension\n",
      "    software: !core/software-1.0.0 {name: asdf, version: 2.12.0}\n",
      "animals: [cat, dog, bird]\n",
      "bar: 3.14\n",
      "data: {mean: 3.14, std: 2.71}\n",
      "foo: 42\n",
      "hello: world\n",
      "imaginary: !core/complex-1.0.0 (2+3j)\n",
      "'true': false\n",
      "...\n",
      "\n"
     ]
    }
   ],
   "source": [
    "with open(\"example.asdf\") as f:\n",
    "    print(f.read())"
   ]
  },
  {
   "cell_type": "markdown",
   "id": "b0e2ec83",
   "metadata": {},
   "source": [
    "Again observe that all the data we added to our tree is contained within our asdf file. Notice in\n",
    "particular the `imaginary` data now has a yaml tag denoting that the data is a complex number, this\n",
    "tag will be used by ASDF to correctly deserialize this data as a `complex` type later.\n",
    "\n",
    "### Updating your ASDF files\n",
    "\n",
    "Recall that opening ASDF files can be simply done with the `asdf.open` command much like the standard\n",
    "Python `open` command. Note that typically one must explicitly use the `mode` keyword to when specifying\n",
    "the open method, this is because the `uri` keyword input is before the `mode` keyword input in the open\n",
    "interface.\n",
    "\n",
    "For example:"
   ]
  },
  {
   "cell_type": "code",
   "execution_count": 6,
   "id": "b81cd3aa-b499-4bcf-a1f0-6f71d4cfa701",
   "metadata": {},
   "outputs": [
    {
     "name": "stdout",
     "output_type": "stream",
     "text": [
      "af[\"hello\"]='world'\n",
      "af[\"foo\"]=42\n",
      "af[\"bar\"]=3.14\n",
      "af[\"imaginary\"]=(2+3j)\n",
      "af[\"animals\"]=['cat', 'dog', 'bird']\n",
      "af[\"data\"]={'mean': 3.14, 'std': 2.71}\n"
     ]
    }
   ],
   "source": [
    "with asdf.open(\"example.asdf\") as af:\n",
    "    print(f'{af[\"hello\"]=}')\n",
    "    print(f'{af[\"foo\"]=}')\n",
    "    print(f'{af[\"bar\"]=}')\n",
    "    print(f'{af[\"imaginary\"]=}')\n",
    "    print(f'{af[\"animals\"]=}')\n",
    "    print(f'{af[\"data\"]=}')"
   ]
  },
  {
   "cell_type": "markdown",
   "id": "b986ad68-2824-4adb-b2f5-600f86a379e9",
   "metadata": {},
   "source": [
    "ASDF files can also be updated in the in a similar way. This time by opening the\n",
    "file as writable and calling the `update` method:"
   ]
  },
  {
   "cell_type": "code",
   "execution_count": 7,
   "id": "eb875226-9402-4aae-a2a0-f0d5fe9d9c77",
   "metadata": {},
   "outputs": [],
   "source": [
    "with asdf.open(\"example.asdf\", mode=\"rw\") as af:\n",
    "    af[\"new\"] = \"cool new stuff\"\n",
    "    af.update()"
   ]
  },
  {
   "cell_type": "markdown",
   "id": "878c5fc2",
   "metadata": {},
   "source": [
    "Note that updates can be expensive if they require rewriting the whole file. This can be mitigated\n",
    "by padding strategies in both the metadata section and within binary blocks."
   ]
  },
  {
   "cell_type": "code",
   "execution_count": 8,
   "id": "62ae8042",
   "metadata": {},
   "outputs": [
    {
     "name": "stdout",
     "output_type": "stream",
     "text": [
      "#ASDF 1.0.0\n",
      "#ASDF_STANDARD 1.5.0\n",
      "%YAML 1.1\n",
      "%TAG ! tag:stsci.edu:asdf/\n",
      "--- !core/asdf-1.1.0\n",
      "asdf_library: !core/software-1.0.0 {author: The ASDF Developers, homepage: 'http://github.com/asdf-format/asdf',\n",
      "  name: asdf, version: 2.12.0}\n",
      "history:\n",
      "  extensions:\n",
      "  - !core/extension_metadata-1.0.0\n",
      "    extension_class: asdf.extension.BuiltinExtension\n",
      "    software: !core/software-1.0.0 {name: asdf, version: 2.12.0}\n",
      "animals: [cat, dog, bird]\n",
      "bar: 3.14\n",
      "data: {mean: 3.14, std: 2.71}\n",
      "foo: 42\n",
      "hello: world\n",
      "imaginary: !core/complex-1.0.0 (2+3j)\n",
      "new: cool new stuff\n",
      "'true': false\n",
      "...\n",
      "\n"
     ]
    }
   ],
   "source": [
    "with open(\"example.asdf\", \"r\") as f:\n",
    "    print(f.read())"
   ]
  },
  {
   "cell_type": "markdown",
   "id": "2b92717c-c619-4072-afec-ab44ddad97c3",
   "metadata": {},
   "source": [
    "## Creating ASDF files with numpy arrays\n",
    "\n",
    "Beyond the maps, lists, strings, and numbers built into Python, ASDF can save arrays, in particular\n",
    "numpy arrays (`nd.array`). Indeed, much of ASDF is dedicated to efficiently saving arrays.\n",
    "\n",
    "For example if suppose we want to save a random 8x8 numpy array:"
   ]
  },
  {
   "cell_type": "code",
   "execution_count": 9,
   "id": "873a50b3-258f-49ee-96ef-5cc8ac29ad0f",
   "metadata": {},
   "outputs": [],
   "source": [
    "tree = {\"random_array\": np.random.rand(8, 8)}\n",
    "af = asdf.AsdfFile(tree)\n",
    "af.write_to(\"random.asdf\")"
   ]
  },
  {
   "cell_type": "markdown",
   "id": "7419f8d1-7986-465d-8203-295e26a78a33",
   "metadata": {},
   "source": [
    "Now opening this file in your text editor will result in something like:"
   ]
  },
  {
   "cell_type": "code",
   "execution_count": 10,
   "id": "67a56453",
   "metadata": {},
   "outputs": [
    {
     "name": "stdout",
     "output_type": "stream",
     "text": [
      "#ASDF 1.0.0\n",
      "#ASDF_STANDARD 1.5.0\n",
      "%YAML 1.1\n",
      "%TAG ! tag:stsci.edu:asdf/\n",
      "--- !core/asdf-1.1.0\n",
      "asdf_library: !core/software-1.0.0 {author: The ASDF Developers, homepage: 'http://github.com/asdf-format/asdf',\n",
      "  name: asdf, version: 2.12.0}\n",
      "history:\n",
      "  extensions:\n",
      "  - !core/extension_metadata-1.0.0\n",
      "    extension_class: asdf.extension.BuiltinExtension\n",
      "    software: !core/software-1.0.0 {name: asdf, version: 2.12.0}\n",
      "random_array: !core/ndarray-1.0.0\n",
      "  source: 0\n",
      "  datatype: float64\n",
      "  byteorder: little\n",
      "  shape: [8, 8]\n",
      "...\n",
      "ÓBLK\u00000\u0000\u0000\u0000\u0000\u0000\u0000\u0000\u0000\u0000\u0000\u0000\u0000\u0000\u0000\u0002\u0000\u0000\u0000\u0000\u0000\u0000\u0000\u0002\u0000\u0000\u0000\u0000\u0000\u0000\u0000\u0002\u0000¸/ÁÕÜÁÞ\n",
      "`süVx§¿¦³SÑ?°1òy×æê?¼©SØb*È?|Ä&ÐÉê?6\u0014çÕ­ç?Ê\u0006µúùç?|7\n",
      "Ä\u001fÄè?\u001a\n",
      "õë\"Ù?üÄw\u0010öpÊ?ð%]%FÚ?\\ \\´)Ó?\u0010{s\u0010ÍÒ? }µFöÑ?«8óäã?F7ÖügÜÒ?\u0000çöITÞ?\n",
      "Æ¥â?®\u0019]¥H¹?@JOI\u0012¶´?\f&ÙÍÆ?Qåp¨¼bì?#Z\u001fûfí?F\u0013\"ÒíYÝ?UÙ(¯òxè?\u0000Ñ\u0005%È\u000bº?¼ÚÏùÈÛ?DLc2sçß?¦± tQç?²ÕñÃãæ?ãÿ\u001e\u0013k´í?}¯Ç\u001f­ñã?èÙÅêK¼?¼1)W7\u001eá?À0R-Ø?ÛR\u0016½°ê?Í\u000fMS²â?Â\u001d'G8Ô?`á÷òî¶?0ö\u000eáR!ä?ñOÒEæ?î\n",
      "\u001c¦z`ï?bW\u0000P³Kç?òÇzeñíä?ü\u0004ÙP§uÇ?0O\u0003Bsö£?>¸Ôý¾Õ?êº«oµ_ç?ÆçG\u0017|ï?<\\öÓ?îrªï'\u0012Ó?\u001a÷Ø\u0019í?ø^\n",
      "Ù?ZÉ«,&è?òKD\u0015å?1óÔ\u0010÷så?/9_Ñ\u0015ä?Ê)\u0017ÀYµÚ?Ö$½ÆÖ?ä.`dØ:Ì?p­?é?8»5qµ?¿Á_ïæ?p÷¦\u0002\f¸ï?XºTF]Ð?#ASDF BLOCK INDEX\n",
      "%YAML 1.1\n",
      "---\n",
      "- 517\n",
      "...\n",
      "\n"
     ]
    }
   ],
   "source": [
    "with open(\"random.asdf\", \"r\", encoding=\"unicode_escape\") as f:\n",
    "    print(f.read())"
   ]
  },
  {
   "cell_type": "markdown",
   "id": "b386f241",
   "metadata": {},
   "source": [
    "Observe that at the end of the file that there is apparently some binary data. This binary data contains the information\n",
    "in the random array we wrote. Indeed, when ASDF writes arrays to the file it stores them as binary data in a block after\n",
    "the YAML section of the file rather in the section itself. Note that `random_array` in the YAML section stores some\n",
    "information about the nature of the array and includes the `source` key. This `source` value references which binary block \n",
    "(in this case block `0`) the data is stored in.\n",
    "\n",
    "Indeed if we update the file with another array to the file we get a second block:"
   ]
  },
  {
   "cell_type": "code",
   "execution_count": 11,
   "id": "73d8e212-11d1-4cb5-a299-5acfc34ca9c0",
   "metadata": {},
   "outputs": [],
   "source": [
    "with asdf.open(\"random.asdf\", mode=\"rw\") as af:\n",
    "    af.tree.update({\"new_array\": np.random.rand(10, 10)})\n",
    "    af.update()"
   ]
  },
  {
   "cell_type": "markdown",
   "id": "66dae048-2f0d-4879-a8ea-c5fd18b7e161",
   "metadata": {},
   "source": [
    "Opening `random.asdf` in your text editor will give something like:"
   ]
  },
  {
   "cell_type": "code",
   "execution_count": 12,
   "id": "6a51f74d",
   "metadata": {},
   "outputs": [
    {
     "name": "stdout",
     "output_type": "stream",
     "text": [
      "#ASDF 1.0.0\n",
      "#ASDF_STANDARD 1.5.0\n",
      "%YAML 1.1\n",
      "%TAG ! tag:stsci.edu:asdf/\n",
      "--- !core/asdf-1.1.0\n",
      "asdf_library: !core/software-1.0.0 {author: The ASDF Developers, homepage: 'http://github.com/asdf-format/asdf',\n",
      "  name: asdf, version: 2.12.0}\n",
      "history:\n",
      "  extensions:\n",
      "  - !core/extension_metadata-1.0.0\n",
      "    extension_class: asdf.extension.BuiltinExtension\n",
      "    software: !core/software-1.0.0 {name: asdf, version: 2.12.0}\n",
      "new_array: !core/ndarray-1.0.0\n",
      "  source: 1\n",
      "  datatype: float64\n",
      "  byteorder: little\n",
      "  shape: [10, 10]\n",
      "random_array: !core/ndarray-1.0.0\n",
      "  source: 0\n",
      "  datatype: float64\n",
      "  byteorder: little\n",
      "  shape: [8, 8]\n",
      "...\n",
      "ÓBLK\u00000\u0000\u0000\u0000\u0000\u0000\u0000\u0000\u0000\u0000\u0000\u0000\u0000\u0000\u0000\u0002\u0000\u0000\u0000\u0000\u0000\u0000\u0000\u0002\u0000\u0000\u0000\u0000\u0000\u0000\u0000\u0002\u0000¸/ÁÕÜÁÞ\n",
      "`süVx§¿¦³SÑ?°1òy×æê?¼©SØb*È?|Ä&ÐÉê?6\u0014çÕ­ç?Ê\u0006µúùç?|7\n",
      "Ä\u001fÄè?\u001a\n",
      "õë\"Ù?üÄw\u0010öpÊ?ð%]%FÚ?\\ \\´)Ó?\u0010{s\u0010ÍÒ? }µFöÑ?«8óäã?F7ÖügÜÒ?\u0000çöITÞ?\n",
      "Æ¥â?®\u0019]¥H¹?@JOI\u0012¶´?\f&ÙÍÆ?Qåp¨¼bì?#Z\u001fûfí?F\u0013\"ÒíYÝ?UÙ(¯òxè?\u0000Ñ\u0005%È\u000bº?¼ÚÏùÈÛ?DLc2sçß?¦± tQç?²ÕñÃãæ?ãÿ\u001e\u0013k´í?}¯Ç\u001f­ñã?èÙÅêK¼?¼1)W7\u001eá?À0R-Ø?ÛR\u0016½°ê?Í\u000fMS²â?Â\u001d'G8Ô?`á÷òî¶?0ö\u000eáR!ä?ñOÒEæ?î\n",
      "\u001c¦z`ï?bW\u0000P³Kç?òÇzeñíä?ü\u0004ÙP§uÇ?0O\u0003Bsö£?>¸Ôý¾Õ?êº«oµ_ç?ÆçG\u0017|ï?<\\öÓ?îrªï'\u0012Ó?\u001a÷Ø\u0019í?ø^\n",
      "Ù?ZÉ«,&è?òKD\u0015å?1óÔ\u0010÷så?/9_Ñ\u0015ä?Ê)\u0017ÀYµÚ?Ö$½ÆÖ?ä.`dØ:Ì?p­?é?8»5qµ?¿Á_ïæ?p÷¦\u0002\f¸ï?XºTF]Ð?ÓBLK\u00000\u0000\u0000\u0000\u0000\u0000\u0000\u0000\u0000\u0000\u0000\u0000\u0000\u0000\u0000\u0003 \u0000\u0000\u0000\u0000\u0000\u0000\u0003 \u0000\u0000\u0000\u0000\u0000\u0000\u0003 íYî©äk\u001f~Ém/}§J_B\u0006\u000bÇÀà?Ài\u0016Ëûè?°áÀ@DÚ?lÓköÓ?(ì±4 \u000b²?ËPÐ²\u0010Æá?dÔ%óµ×è?\u0002½Ëî(Kä?\u000b\u0003§r-â?\u001a\"\u0005è??\u001e¼yÓ?0ü;ýë¦Ë?)\u000bÃýÿ|?\\!äÙïfé?\u0010Ø!\u0016 Ñ?ð\u0014ÏÚ\u0012\u0004±?È(«\u0016®ØÜ?\u000f¾\u0006!»?\u0012è­Öu\u0013Ð?¶iÞv¦Ù?Ä\u0000²\u0016Ô?Ð\u0003±±mÁ?á\u0017+Ö:þå?\u0010÷KU¬u×?Ò3QÊã¹î? q÷Ô XÅ?HýO³¸?è\u0000L<¥wë?\u0006\u001a=Ó?@yÑ>Ø?xD\u0006ì¹Gê?4 U0Ú\få?D«çëÚ?Ã1\u0007?]©â?ð_Ö\"È?XÔ¸¦c¼?\u0004\u0012¶7ã?0ÌÓ¼)\u001dÁ?ä?UkÝ?Îa»ziþÐ?$íY´Ä?Ð6ØÏB« ?vxt\u0000ßà?\u0000¬\tÉÚv?¯Ê>ÃMä?¨6ÙnÕÊ?¢ØLM\u0019Ö?ø9DN òÙ?d ú\u0002ßÏ?\u0018ág<¦1Ã?'ÁZÈ*¥ï?4<ö~·í?$V\u0015\u0011*Ò?\u0000\u0019öN-Õ?ÊwÚ\u001c~ÔÑ?¨kÓAVÌ±?&®6æ×ãÑ?¬¡\u001eþ\u0012ÙÈ?\u0000ð£ö§Ô?àoGÐ6Â?½¤ì@ùtï?\u0019ÂxG­ë?X@_\u001bæ?\u001f\u001aÊ¸@å?5]ý¤IJè?¯Þ×|\u001cé?èQÒâóã?¾®$¹ëÏè?¢oPÇaÔÕ?\u001a\u000f¼ÞAê?ÀÐ)¢?å\u001e28\u0013æ?ð<e dÝ¿?]]ÌB\u0015!â?$tÕÑZÛ?á1Óâ?ÔÝ%Ç?°³Ö?OP§h4è?Aþ\u0018Ãë?3\u00131ìÚ¡â?\u0019zÈ&ã?l8 º0Ñ?e×\u0001Õå?°\u000eîEó¢Ý?óÞ\u0010Ojí?ßª]<«®ç?ÈÞÁDº?´g!l7×?Ò\\îtØJÖ?\u000f\u0013)¼cë?pD±IÇ Ì?xâ¾Àê?°}ã¢[C×?>å\u0011ª>Åç?HG\u001c Kµ?H¯Yå3¦¶?ür(ÁËá?HN\u0007Z³ç?Ð\u0006Ü,\u000b°?#ASDF BLOCK INDEX\n",
      "%YAML 1.1\n",
      "---\n",
      "- 618\n",
      "- 1184\n",
      "...\n",
      "\n"
     ]
    }
   ],
   "source": [
    "with open(\"random.asdf\", encoding=\"unicode_escape\") as f:\n",
    "    print(f.read())"
   ]
  },
  {
   "cell_type": "markdown",
   "id": "a7753281",
   "metadata": {},
   "source": [
    "This now has a `new_array` key, which contains a second `source: 1` meaning there is a second binary block.\n",
    "\n",
    "Now observe that ASDF is smart about storing arrays as binary data; meaning that, if arrays are shared between\n",
    "entries in the tree, the same binary block is used. Indeed, this extends to sharing views on the data:"
   ]
  },
  {
   "cell_type": "code",
   "execution_count": 13,
   "id": "ec8c8c81-c29d-4682-add3-bbb2abdd3282",
   "metadata": {},
   "outputs": [],
   "source": [
    "duplicated_array = np.random.rand(8, 8)\n",
    "multi_view_array = np.random.rand(8, 8)\n",
    "tree = {\n",
    "    \"duplicated_array_0\": duplicated_array,\n",
    "    \"duplicated_array_1\": duplicated_array,\n",
    "    \"multi_view_array\": multi_view_array,\n",
    "    \"new_view\": multi_view_array[2:4, 3:6],\n",
    "}\n",
    "with asdf.open(\"random.asdf\", mode=\"rw\") as af:\n",
    "    af.tree.update(tree)\n",
    "    af.update()"
   ]
  },
  {
   "cell_type": "markdown",
   "id": "82710797-0dab-48c3-9f2b-5019d0b7a5e4",
   "metadata": {},
   "source": [
    "Opening `random.asdf` in your text editor once again gives something like:"
   ]
  },
  {
   "cell_type": "code",
   "execution_count": 14,
   "id": "ed6c1d2f",
   "metadata": {},
   "outputs": [
    {
     "name": "stdout",
     "output_type": "stream",
     "text": [
      "#ASDF 1.0.0\n",
      "#ASDF_STANDARD 1.5.0\n",
      "%YAML 1.1\n",
      "%TAG ! tag:stsci.edu:asdf/\n",
      "--- !core/asdf-1.1.0\n",
      "asdf_library: !core/software-1.0.0 {author: The ASDF Developers, homepage: 'http://github.com/asdf-format/asdf',\n",
      "  name: asdf, version: 2.12.0}\n",
      "history:\n",
      "  extensions:\n",
      "  - !core/extension_metadata-1.0.0\n",
      "    extension_class: asdf.extension.BuiltinExtension\n",
      "    software: !core/software-1.0.0 {name: asdf, version: 2.12.0}\n",
      "duplicated_array_0: &id001 !core/ndarray-1.0.0\n",
      "  source: 3\n",
      "  datatype: float64\n",
      "  byteorder: little\n",
      "  shape: [8, 8]\n",
      "duplicated_array_1: *id001\n",
      "multi_view_array: !core/ndarray-1.0.0\n",
      "  source: 2\n",
      "  datatype: float64\n",
      "  byteorder: little\n",
      "  shape: [8, 8]\n",
      "new_array: !core/ndarray-1.0.0\n",
      "  source: 0\n",
      "  datatype: float64\n",
      "  byteorder: little\n",
      "  shape: [10, 10]\n",
      "new_view: !core/ndarray-1.0.0\n",
      "  source: 2\n",
      "  datatype: float64\n",
      "  byteorder: little\n",
      "  shape: [2, 3]\n",
      "  offset: 152\n",
      "  strides: [64, 8]\n",
      "random_array: !core/ndarray-1.0.0\n",
      "  source: 1\n",
      "  datatype: float64\n",
      "  byteorder: little\n",
      "  shape: [8, 8]\n",
      "...\n",
      "\u0000\u0000\u0000\u0000\u0000\u0000\u0000\u0000\u0000\u0000\u0000\u0000\u0000\u0000\u0000\u0000\u0000\u0000\u0000\u0000\u0000\u0000\u0000\u0000\u0000\u0000\u0000\u0000\u0000\u0000\u0000\u0000\u0000\u0000\u0000\u0000\u0000\u0000\u0000\u0000\u0000\u0000\u0000\u0000\u0000\u0000\u0000\u0000\u0000\u0000\u0000\u0000\u0000\u0000\u0000\u0000\u0000\u0000\u0000\u0000\u0000\u0000\u0000\u0000\u0000\u0000\u0000\u0000\u0000\u0000\u0000\u0000\u0000\u0000\u0000\u0000\u0000\u0000\u0000\u0000\u0000\u0000\u0000\u0000\u0000\u0000\u0000\u0000\u0000\u0000\u0000\u0000\u0000\u0000\u0000\u0000\u0000\u0000\u0000\u0000\u0000\u0000\u0000\u0000\u0000\u0000\u0000\u0000\u0000\u0000\u0000\u0000\u0000\u0000\u0000\u0000\u0000\u0000\u0000\u0000\u0000\u0000\u0000\u0000\u0000\u0000\u0000\u0000\u0000\u0000\u0000\u0000\u0000\u0000\u0000\u0000\u0000\u0000\u0000\u0000\u0000\u0000\u0000\u0000\u0000\u0000\u0000\u0000\u0000\u0000\u0000\u0000\u0000\u0000\u0000\u0000\u0000\u0000\u0000\u0000\u0000\u0000\u0000\u0000\u0000\u0000\u0000\u0000\u0000\u0000\u0000\u0000\u0000\u0000\u0000\u0000\u0000\u0000\u0000\u0000\u0000\u0000\u0000\u0000\u0000\u0000\u0000ÓBLK\u00000\u0000\u0000\u0000\u0000\u0000\u0000\u0000\u0000\u0000\u0000\u0000\u0000\u0000\u0000\u0003 \u0000\u0000\u0000\u0000\u0000\u0000\u0003 \u0000\u0000\u0000\u0000\u0000\u0000\u0003 íYî©äk\u001f~Ém/}§J_B\u0006\u000bÇÀà?Ài\u0016Ëûè?°áÀ@DÚ?lÓköÓ?(ì±4 \u000b²?ËPÐ²\u0010Æá?dÔ%óµ×è?\u0002½Ëî(Kä?\u000b\u0003§r-â?\u001a\"\u0005è??\u001e¼yÓ?0ü;ýë¦Ë?)\u000bÃýÿ|?\\!äÙïfé?\u0010Ø!\u0016 Ñ?ð\u0014ÏÚ\u0012\u0004±?È(«\u0016®ØÜ?\u000f¾\u0006!»?\u0012è­Öu\u0013Ð?¶iÞv¦Ù?Ä\u0000²\u0016Ô?Ð\u0003±±mÁ?á\u0017+Ö:þå?\u0010÷KU¬u×?Ò3QÊã¹î? q÷Ô XÅ?HýO³¸?è\u0000L<¥wë?\u0006\u001a=Ó?@yÑ>Ø?xD\u0006ì¹Gê?4 U0Ú\få?D«çëÚ?Ã1\u0007?]©â?ð_Ö\"È?XÔ¸¦c¼?\u0004\u0012¶7ã?0ÌÓ¼)\u001dÁ?ä?UkÝ?Îa»ziþÐ?$íY´Ä?Ð6ØÏB« ?vxt\u0000ßà?\u0000¬\tÉÚv?¯Ê>ÃMä?¨6ÙnÕÊ?¢ØLM\u0019Ö?ø9DN òÙ?d ú\u0002ßÏ?\u0018ág<¦1Ã?'ÁZÈ*¥ï?4<ö~·í?$V\u0015\u0011*Ò?\u0000\u0019öN-Õ?ÊwÚ\u001c~ÔÑ?¨kÓAVÌ±?&®6æ×ãÑ?¬¡\u001eþ\u0012ÙÈ?\u0000ð£ö§Ô?àoGÐ6Â?½¤ì@ùtï?\u0019ÂxG­ë?X@_\u001bæ?\u001f\u001aÊ¸@å?5]ý¤IJè?¯Þ×|\u001cé?èQÒâóã?¾®$¹ëÏè?¢oPÇaÔÕ?\u001a\u000f¼ÞAê?ÀÐ)¢?å\u001e28\u0013æ?ð<e dÝ¿?]]ÌB\u0015!â?$tÕÑZÛ?á1Óâ?ÔÝ%Ç?°³Ö?OP§h4è?Aþ\u0018Ãë?3\u00131ìÚ¡â?\u0019zÈ&ã?l8 º0Ñ?e×\u0001Õå?°\u000eîEó¢Ý?óÞ\u0010Ojí?ßª]<«®ç?ÈÞÁDº?´g!l7×?Ò\\îtØJÖ?\u000f\u0013)¼cë?pD±IÇ Ì?xâ¾Àê?°}ã¢[C×?>å\u0011ª>Åç?HG\u001c Kµ?H¯Yå3¦¶?ür(ÁËá?HN\u0007Z³ç?Ð\u0006Ü,\u000b°?ÓBLK\u00000\u0000\u0000\u0000\u0000\u0000\u0000\u0000\u0000\u0000\u0000\u0000\u0000\u0000\u0000\u0002\u0000\u0000\u0000\u0000\u0000\u0000\u0000\u0002\u0000\u0000\u0000\u0000\u0000\u0000\u0000\u0002\u0000¸/ÁÕÜÁÞ\n",
      "`süVx§¿¦³SÑ?°1òy×æê?¼©SØb*È?|Ä&ÐÉê?6\u0014çÕ­ç?Ê\u0006µúùç?|7\n",
      "Ä\u001fÄè?\u001a\n",
      "õë\"Ù?üÄw\u0010öpÊ?ð%]%FÚ?\\ \\´)Ó?\u0010{s\u0010ÍÒ? }µFöÑ?«8óäã?F7ÖügÜÒ?\u0000çöITÞ?\n",
      "Æ¥â?®\u0019]¥H¹?@JOI\u0012¶´?\f&ÙÍÆ?Qåp¨¼bì?#Z\u001fûfí?F\u0013\"ÒíYÝ?UÙ(¯òxè?\u0000Ñ\u0005%È\u000bº?¼ÚÏùÈÛ?DLc2sçß?¦± tQç?²ÕñÃãæ?ãÿ\u001e\u0013k´í?}¯Ç\u001f­ñã?èÙÅêK¼?¼1)W7\u001eá?À0R-Ø?ÛR\u0016½°ê?Í\u000fMS²â?Â\u001d'G8Ô?`á÷òî¶?0ö\u000eáR!ä?ñOÒEæ?î\n",
      "\u001c¦z`ï?bW\u0000P³Kç?òÇzeñíä?ü\u0004ÙP§uÇ?0O\u0003Bsö£?>¸Ôý¾Õ?êº«oµ_ç?ÆçG\u0017|ï?<\\öÓ?îrªï'\u0012Ó?\u001a÷Ø\u0019í?ø^\n",
      "Ù?ZÉ«,&è?òKD\u0015å?1óÔ\u0010÷så?/9_Ñ\u0015ä?Ê)\u0017ÀYµÚ?Ö$½ÆÖ?ä.`dØ:Ì?p­?é?8»5qµ?¿Á_ïæ?p÷¦\u0002\f¸ï?XºTF]Ð?ÓBLK\u00000\u0000\u0000\u0000\u0000\u0000\u0000\u0000\u0000\u0000\u0000\u0000\u0000\u0000\u0000\u0002\u0000\u0000\u0000\u0000\u0000\u0000\u0000\u0002\u0000\u0000\u0000\u0000\u0000\u0000\u0000\u0002\u0000¤Z<Ý&\n",
      " >ú$\t{õ\u0000Ç ÝÞú¶?\n",
      "ßª¾\u0011Xî?\u001b;ñüõuâ?¬±EÍ÷é?ÒD\u0004­\u0018×?Hû7p»?\u000e(`Â\u000e¯Ó?äu8©]0Ã?ØûD?Cµ?\u0004ñ8Üø&Í?Äs>¿Wê?0ün\u0013§?Ú\u0019\u0007koÞ?Ës¨Uùê?|rj2¾ûÓ?4ÃoP³ªê?\u0007,Ë\u0017t\u0010ï?ê<\u0006\u001bËÕ?:L!oOÔ?&«å>rµá?¨\u001b×ý]C×?,ì2GÈlÎ?¤×Áã?ëSd¾\u001eÐï?v-röLtï?&+W²åÝ?X¤¡¬:üË?t)P©Ã?Î\u0017gPßÒ?+¡DÚ\u000fî?\fË¶VÕ?\u0005[OÐì?\u0017Á$×½tî?#°$dâå? ¼çøãpÐ?Yêð×xMæ?\u0012Eg?>£Ñ\u0004)ëÕ?Õ]Ó\u0018°ã?áRXt»mê?zãk­,ÿï?Ñnøª\u0000:à?ô=¼HåSÇ?ùÿùû½ã?«ª\n",
      "b\u0003å?+C»\u0001 ì?¢Ùº;_è?°øÆÂ\u001f»?g±íÄ\u000e`î?§o\u0013x½\u0017å?´n²¦½ï?Ïö\"jåéê?PqÿFª³è?¨Â|ÕÆ?õ?àçÿ\u0003ã?ÍÂãFÝPâ?FQ\u0016\u0000\u001fÕ?\u0004VÖE\u0016ì?ÓÓCÊ³æ?2nÓÔá?pj/Uâ?¥ÄAÕá?4$X&8{Ç?\u0000æ%tà\u0016Ä?ÓBLK\u00000\u0000\u0000\u0000\u0000\u0000\u0000\u0000\u0000\u0000\u0000\u0000\u0000\u0000\u0000\u00026\u0000\u0000\u0000\u0000\u0000\u0000\u0002\u0000\u0000\u0000\u0000\u0000\u0000\u0000\u0002\u0000´ÀyNBfÎr\u000b'æ\u0002®×Ñª à?øTù\u0013QÌ?i\u001d³\u0016¼\n",
      "ï?û\u0007sØ?<ôÙ\u000bRÒ?<\u001däÅ\u000eË?rÇGÍà?\n",
      "mßÔ:î?\u00048¢4¼\u0012Á?:°ºÿgôå?o½q\u0011\u0007ì?Ö·nY\u000e«â?à¬8BþÔ?²ê\u001f¿î?ÈÀP\u0006mÞÃ?í;Æ5S\tì?/éEanjî?\u0010\u0014ìRªÝ?ÇÃo¦vé?\u0013ìÑhtë?`\u0010%Ò«Àª?\u0000\u0016¦ÖÊp?Ð½9Ã?ýx;¯Aà?a³¶XU\u001eæ?KH÷¬\u001a´â?ØÉBm<È?I<[\n",
      "å?ÄÑâWØ\fÌ?Êí<ZC`ç?\u0000W5è\u0001®¶?\u000fäòûN@ê?À\u0002KÑgÂ?<\u0000òx?j£\u000bæz\u0010Ú?;º6\n",
      "Áè?â«Nè?°+Ù\tÚË?£\u0019_]yà? 4#ý\u0012Û±?]é]0\n",
      "æ?\n",
      "%\u001a\tÚ?Â`\u000e\u00118Ø?\f\u001ao\u0000r`Û?NØ¯\u0014-ç?`Ó\n",
      "8r\u0000Â? AhN¦?@\u000f#â?KAë^-5à?;\f±êÉ?ÞÈ?.Ê>Ñ?\u000007p'âo?Ô\u0006ê¤,Ú?b<éý&Ë×?bónn(Ùï?\u0000\u0014 ×tXÂ?¨\u0013ÅÙ²¾Ý?\u000f\u001aA^{è?Ù\u0018äta(ë?\u0002Ú.XªxÜ? u\u0001;\u001crå?óp,É\u001eæï?\\üý|\u0011Ø×$ÂÞÈ?\u0000\u0000\u0000\u0000\u0000\u0000\u0000\u0000\u0000\u0000\u0000\u0000\u0000\u0000\u0000\u0000\u0000\u0000\u0000\u0000\u0000\u0000\u0000\u0000\u0000\u0000\u0000\u0000\u0000\u0000\u0000\u0000\u0000\u0000\u0000\u0000\u0000\u0000\u0000\u0000\u0000\u0000\u0000\u0000\u0000\u0000\u0000\u0000\u0000\u0000\u0000\u0000\u0000\u0000#ASDF BLOCK INDEX\n",
      "%YAML 1.1\n",
      "---\n",
      "- 1184\n",
      "- 2038\n",
      "- 2604\n",
      "- 3170\n",
      "...\n",
      "\n"
     ]
    }
   ],
   "source": [
    "with open(\"random.asdf\", encoding=\"unicode_escape\") as f:\n",
    "    print(f.read())"
   ]
  },
  {
   "cell_type": "markdown",
   "id": "e0b1337e",
   "metadata": {},
   "source": [
    "First, note that `duplicated_array_1` simply listed using a yaml anchor which points to `duplicated_array_0`. Second,\n",
    "observe that the `source` in both `multi_view_array` and `new_array` are the same value (`2`) rather than distinct values.\n",
    "So ASDF did not unnecessary duplicate the binary data.\n",
    "\n",
    "## Serializing other objects\n",
    "\n",
    "The ASDF library supports writing extensions for objects outside of the ASDF-standard, which we will explain\n",
    "in detail in another lecture. Assuming that one has installed an ASDF extension to support some custom Python\n",
    "objects, ASDF will be able to seamlessly save those objects with no additional effort.\n",
    "\n",
    "For example, as part of the install for this course we installed the `asdf-astropy` package, which provides\n",
    "extensions for writing many `astropy` objects."
   ]
  },
  {
   "cell_type": "code",
   "execution_count": 15,
   "id": "fd2aaa84-bb61-40d9-9f7a-46c0f6cd594e",
   "metadata": {},
   "outputs": [],
   "source": [
    "import astropy\n",
    "\n",
    "quantity = 50 * astropy.units.m\n",
    "model = astropy.modeling.models.Gaussian2D(quantity, 2, 3, 4, 5)\n",
    "time = astropy.time.Time(\"J2000\")\n",
    "coord = astropy.coordinates.ICRS(ra=1 * astropy.units.deg, dec=2 * astropy.units.deg)\n",
    "\n",
    "tree = {\n",
    "    \"quantity\": quantity,\n",
    "    \"model\": model,\n",
    "    \"time\": time,\n",
    "    \"coord\": coord,\n",
    "}\n",
    "\n",
    "af = asdf.AsdfFile(tree)\n",
    "af.write_to(\"astropy.asdf\")"
   ]
  },
  {
   "cell_type": "markdown",
   "id": "89f36bff-59c2-4da8-90c5-1890d4daae16",
   "metadata": {},
   "source": [
    "Notice that since `asdf-astropy` was installed, no extra effort was required to write these objects\n",
    "even though they clearly fall outside the ASDF-standard objects we previously discussed.\n",
    "\n",
    "Moreover examining `astropy.asdf` in your text editor results in:"
   ]
  },
  {
   "cell_type": "code",
   "execution_count": 16,
   "id": "e11433ec",
   "metadata": {},
   "outputs": [
    {
     "name": "stdout",
     "output_type": "stream",
     "text": [
      "#ASDF 1.0.0\n",
      "#ASDF_STANDARD 1.5.0\n",
      "%YAML 1.1\n",
      "%TAG ! tag:stsci.edu:asdf/\n",
      "--- !core/asdf-1.1.0\n",
      "asdf_library: !core/software-1.0.0 {author: The ASDF Developers, homepage: 'http://github.com/asdf-format/asdf',\n",
      "  name: asdf, version: 2.12.0}\n",
      "history:\n",
      "  extensions:\n",
      "  - !core/extension_metadata-1.0.0\n",
      "    extension_class: asdf.extension.BuiltinExtension\n",
      "    software: !core/software-1.0.0 {name: asdf, version: 2.12.0}\n",
      "  - !core/extension_metadata-1.0.0\n",
      "    extension_class: asdf.extension._manifest.ManifestExtension\n",
      "    extension_uri: asdf://asdf-format.org/astronomy/coordinates/extensions/coordinates-1.0.0\n",
      "    software: !core/software-1.0.0 {name: asdf-astropy, version: 0.2.1}\n",
      "  - !core/extension_metadata-1.0.0\n",
      "    extension_class: asdf.extension._manifest.ManifestExtension\n",
      "    extension_uri: asdf://asdf-format.org/core/extensions/core-1.5.0\n",
      "    software: !core/software-1.0.0 {name: asdf-astropy, version: 0.2.1}\n",
      "  - !core/extension_metadata-1.0.0\n",
      "    extension_class: asdf.extension._manifest.ManifestExtension\n",
      "    extension_uri: asdf://asdf-format.org/transform/extensions/transform-1.5.0\n",
      "    software: !core/software-1.0.0 {name: asdf-astropy, version: 0.2.1}\n",
      "coord: !<tag:astropy.org:astropy/coordinates/frames/icrs-1.1.0>\n",
      "  data: !<tag:astropy.org:astropy/coordinates/representation-1.0.0>\n",
      "    components:\n",
      "      lat: !<tag:astropy.org:astropy/coordinates/latitude-1.0.0> {unit: !unit/unit-1.0.0 deg,\n",
      "        value: 2.0}\n",
      "      lon: !<tag:astropy.org:astropy/coordinates/longitude-1.0.0>\n",
      "        unit: !unit/unit-1.0.0 deg\n",
      "        value: 1.0\n",
      "        wrap_angle: !<tag:astropy.org:astropy/coordinates/angle-1.0.0> {unit: !unit/unit-1.0.0 deg,\n",
      "          value: 360.0}\n",
      "    type: UnitSphericalRepresentation\n",
      "  frame_attributes: {}\n",
      "model: !transform/gaussian2d-1.0.0\n",
      "  amplitude: !unit/quantity-1.1.0 {unit: !unit/unit-1.0.0 m, value: 50.0}\n",
      "  bounding_box:\n",
      "  - [-24.5, 30.5]\n",
      "  - [-20.0, 24.0]\n",
      "  bounds:\n",
      "    x_stddev: [1.1754943508222875e-38, null]\n",
      "    y_stddev: [1.1754943508222875e-38, null]\n",
      "  inputs: [x, y]\n",
      "  outputs: [z]\n",
      "  theta: 0.0\n",
      "  x_mean: 2.0\n",
      "  x_stddev: 4.0\n",
      "  y_mean: 3.0\n",
      "  y_stddev: 5.0\n",
      "quantity: !unit/quantity-1.1.0 {unit: !unit/unit-1.0.0 m, value: 50.0}\n",
      "time: !time/time-1.1.0 {scale: tt, value: J2000.000}\n",
      "...\n",
      "\n"
     ]
    }
   ],
   "source": [
    "with open(\"astropy.asdf\", encoding=\"unicode_escape\") as f:\n",
    "    print(f.read())"
   ]
  },
  {
   "cell_type": "markdown",
   "id": "60e77faa",
   "metadata": {},
   "source": [
    "Which clearly shows that we were successful in saving all the `astropy` objects we intended to."
   ]
  }
 ],
 "metadata": {
  "kernelspec": {
   "display_name": "Python 3.10.4",
   "language": "python",
   "name": "python3"
  },
  "language_info": {
   "codemirror_mode": {
    "name": "ipython",
    "version": 3
   },
   "file_extension": ".py",
   "mimetype": "text/x-python",
   "name": "python",
   "nbconvert_exporter": "python",
   "pygments_lexer": "ipython3",
   "version": "3.10.4"
  },
  "vscode": {
   "interpreter": {
    "hash": "c54ecae8f3b9a546603254558bcb3ca9dea5c7af451a66a7914c053836710349"
   }
  }
 },
 "nbformat": 4,
 "nbformat_minor": 5
}
